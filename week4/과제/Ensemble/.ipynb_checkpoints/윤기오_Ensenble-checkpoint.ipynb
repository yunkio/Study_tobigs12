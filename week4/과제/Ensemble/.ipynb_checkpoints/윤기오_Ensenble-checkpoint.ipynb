{
 "cells": [
  {
   "cell_type": "code",
   "execution_count": 352,
   "metadata": {},
   "outputs": [],
   "source": [
    "import pickle\n",
    "import pandas as pd\n",
    "import numpy as np\n",
    "import warnings\n",
    "warnings.filterwarnings('ignore')\n",
    "import xgboost as xgb"
   ]
  },
  {
   "cell_type": "code",
   "execution_count": 353,
   "metadata": {},
   "outputs": [],
   "source": [
    "f = open(\"train_data.pkl\", \"rb\")\n",
    "train_data = pickle.load(f)\n",
    "f = open(\"test_data.pkl\", \"rb\")\n",
    "test_data = pickle.load(f)"
   ]
  },
  {
   "cell_type": "code",
   "execution_count": 354,
   "metadata": {},
   "outputs": [],
   "source": [
    "X = train_data.drop(['OC', 'inst_id'], axis=1)\n",
    "y = train_data.loc[:, train_data.columns == 'OC']\n",
    "X_test2 = test_data.drop(['OC', 'inst_id'], axis=1)"
   ]
  },
  {
   "cell_type": "code",
   "execution_count": 355,
   "metadata": {},
   "outputs": [],
   "source": [
    "from sklearn.model_selection import train_test_split"
   ]
  },
  {
   "cell_type": "code",
   "execution_count": 372,
   "metadata": {},
   "outputs": [],
   "source": [
    "X_train, X_test, y_train, y_test = train_test_split(X, y, test_size =0.3)"
   ]
  },
  {
   "cell_type": "code",
   "execution_count": 373,
   "metadata": {},
   "outputs": [],
   "source": [
    "from xgboost import XGBClassifier\n",
    "\n",
    "model = XGBClassifier(n_estimators=1000, max_depth=2, learning_rate=0.5, nthread=7)\n",
    "model.fit(X_train, y_train)\n",
    "y_pred = model.predict(X_test)"
   ]
  },
  {
   "cell_type": "code",
   "execution_count": 374,
   "metadata": {},
   "outputs": [
    {
     "data": {
      "text/plain": [
       "0.978021978021978"
      ]
     },
     "execution_count": 374,
     "metadata": {},
     "output_type": "execute_result"
    }
   ],
   "source": [
    "from sklearn.metrics import accuracy_score\n",
    "\n",
    "accuracy_score(y_test, y_pred)"
   ]
  },
  {
   "cell_type": "code",
   "execution_count": 375,
   "metadata": {},
   "outputs": [],
   "source": [
    "dtrain = xgb.DMatrix(X_train, label=y_train)\n",
    "dtest = xgb.DMatrix(X_test, label=y_test)"
   ]
  },
  {
   "cell_type": "code",
   "execution_count": 376,
   "metadata": {},
   "outputs": [],
   "source": [
    "param = {'max_depth': 2, 'eta': 0.5, 'silent': 1, 'objective': 'binary:logistic'}\n",
    "param['nthread'] = 7\n",
    "param['eval_metric'] = 'auc'\n",
    "evallist = [(dtest, 'eval'), (dtrain, 'train')]\n",
    "plst = param.items()"
   ]
  },
  {
   "cell_type": "code",
   "execution_count": 377,
   "metadata": {},
   "outputs": [
    {
     "name": "stdout",
     "output_type": "stream",
     "text": [
      "[0]\teval-auc:0.75\ttrain-auc:0.685474\n",
      "[1]\teval-auc:0.926966\ttrain-auc:0.923467\n",
      "[2]\teval-auc:0.991573\ttrain-auc:0.928934\n",
      "[3]\teval-auc:0.988764\ttrain-auc:0.939282\n",
      "[4]\teval-auc:0.966292\ttrain-auc:0.976572\n",
      "[5]\teval-auc:0.94382\ttrain-auc:0.984772\n",
      "[6]\teval-auc:0.938202\ttrain-auc:0.989262\n",
      "[7]\teval-auc:0.94382\ttrain-auc:0.994533\n",
      "[8]\teval-auc:0.921348\ttrain-auc:0.995705\n",
      "[9]\teval-auc:0.921348\ttrain-auc:0.997462\n",
      "[10]\teval-auc:0.904494\ttrain-auc:0.998438\n",
      "[11]\teval-auc:0.88764\ttrain-auc:0.999024\n",
      "[12]\teval-auc:0.91573\ttrain-auc:0.999805\n",
      "[13]\teval-auc:0.893258\ttrain-auc:0.999805\n",
      "[14]\teval-auc:0.926966\ttrain-auc:0.999414\n",
      "[15]\teval-auc:0.921348\ttrain-auc:0.999414\n",
      "[16]\teval-auc:0.94382\ttrain-auc:0.999414\n",
      "[17]\teval-auc:0.926966\ttrain-auc:0.999805\n",
      "[18]\teval-auc:0.921348\ttrain-auc:0.999805\n",
      "[19]\teval-auc:0.926966\ttrain-auc:0.999805\n",
      "[20]\teval-auc:0.921348\ttrain-auc:0.999805\n",
      "[21]\teval-auc:0.904494\ttrain-auc:0.999805\n",
      "[22]\teval-auc:0.904494\ttrain-auc:0.999805\n",
      "[23]\teval-auc:0.893258\ttrain-auc:0.999805\n",
      "[24]\teval-auc:0.910112\ttrain-auc:0.999805\n",
      "[25]\teval-auc:0.904494\ttrain-auc:0.999805\n",
      "[26]\teval-auc:0.898876\ttrain-auc:0.999805\n",
      "[27]\teval-auc:0.893258\ttrain-auc:0.999805\n",
      "[28]\teval-auc:0.893258\ttrain-auc:0.999805\n",
      "[29]\teval-auc:0.88764\ttrain-auc:0.999805\n",
      "[30]\teval-auc:0.893258\ttrain-auc:0.999805\n",
      "[31]\teval-auc:0.893258\ttrain-auc:0.999805\n",
      "[32]\teval-auc:0.893258\ttrain-auc:0.999805\n",
      "[33]\teval-auc:0.88764\ttrain-auc:0.999805\n",
      "[34]\teval-auc:0.893258\ttrain-auc:0.999805\n",
      "[35]\teval-auc:0.882023\ttrain-auc:0.999805\n",
      "[36]\teval-auc:0.876405\ttrain-auc:0.999805\n",
      "[37]\teval-auc:0.870786\ttrain-auc:0.999805\n",
      "[38]\teval-auc:0.865169\ttrain-auc:0.999805\n",
      "[39]\teval-auc:0.882023\ttrain-auc:0.999805\n",
      "[40]\teval-auc:0.882023\ttrain-auc:0.999805\n",
      "[41]\teval-auc:0.882023\ttrain-auc:0.999805\n",
      "[42]\teval-auc:0.876405\ttrain-auc:0.999805\n",
      "[43]\teval-auc:0.882023\ttrain-auc:0.999805\n",
      "[44]\teval-auc:0.882023\ttrain-auc:0.999805\n",
      "[45]\teval-auc:0.876405\ttrain-auc:0.999805\n",
      "[46]\teval-auc:0.870786\ttrain-auc:0.999805\n",
      "[47]\teval-auc:0.870786\ttrain-auc:0.999805\n",
      "[48]\teval-auc:0.865169\ttrain-auc:0.999805\n",
      "[49]\teval-auc:0.865169\ttrain-auc:0.999805\n"
     ]
    }
   ],
   "source": [
    "num_round = 50\n",
    "bst = xgb.train(plst, dtrain, num_round, evallist)"
   ]
  },
  {
   "cell_type": "code",
   "execution_count": 378,
   "metadata": {},
   "outputs": [],
   "source": [
    "ypred = bst.predict(dtest, ntree_limit=bst.best_ntree_limit)"
   ]
  },
  {
   "cell_type": "code",
   "execution_count": 379,
   "metadata": {},
   "outputs": [
    {
     "data": {
      "text/plain": [
       "0.978021978021978"
      ]
     },
     "execution_count": 379,
     "metadata": {},
     "output_type": "execute_result"
    }
   ],
   "source": [
    "(sum((ypred>0.5) == (np.array(y_test)).flat)) / 91"
   ]
  },
  {
   "cell_type": "code",
   "execution_count": 380,
   "metadata": {},
   "outputs": [],
   "source": [
    "from sklearn.metrics import mean_squared_error\n",
    "from sklearn.model_selection import GridSearchCV"
   ]
  },
  {
   "cell_type": "code",
   "execution_count": 386,
   "metadata": {},
   "outputs": [
    {
     "name": "stdout",
     "output_type": "stream",
     "text": [
      "Best parameters found by grid search are: {'learning_rate': 0.01, 'max_depth': 5, 'n_estimators': 300}\n"
     ]
    }
   ],
   "source": [
    "estimator = XGBClassifier(n_estimators=1000, max_depth=2, learning_rate=0.5, nthread=7)\n",
    "\n",
    "param_grid = {\n",
    "    'learning_rate': [0.01, 0.1, 0.05, 0.5, 1],\n",
    "    'n_estimators': [200,300,500,1000],\n",
    "    'max_depth' : [4,5,6]\n",
    "}\n",
    "\n",
    "gbm = GridSearchCV(estimator, param_grid, cv=5, scoring='roc_auc')\n",
    "\n",
    "gbm.fit(X, y)\n",
    "\n",
    "print('Best parameters found by grid search are:', gbm.best_params_)"
   ]
  },
  {
   "cell_type": "code",
   "execution_count": 391,
   "metadata": {},
   "outputs": [],
   "source": [
    "answer = gbm.best_estimator_.predict(X_test2)\n",
    "answer = pd.DataFrame(answer)\n",
    "result = pd.concat([X_test2, test_data['inst_id'], answer], axis=1)\n",
    "result.to_csv(\"answer2.csv\")"
   ]
  },
  {
   "cell_type": "code",
   "execution_count": null,
   "metadata": {},
   "outputs": [],
   "source": []
  }
 ],
 "metadata": {
  "kernelspec": {
   "display_name": "Python 3",
   "language": "python",
   "name": "python3"
  },
  "language_info": {
   "codemirror_mode": {
    "name": "ipython",
    "version": 3
   },
   "file_extension": ".py",
   "mimetype": "text/x-python",
   "name": "python",
   "nbconvert_exporter": "python",
   "pygments_lexer": "ipython3",
   "version": "3.7.3"
  }
 },
 "nbformat": 4,
 "nbformat_minor": 2
}
