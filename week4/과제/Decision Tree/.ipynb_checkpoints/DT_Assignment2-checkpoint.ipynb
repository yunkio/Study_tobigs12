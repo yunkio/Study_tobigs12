{
 "cells": [
  {
   "cell_type": "code",
   "execution_count": 148,
   "metadata": {},
   "outputs": [],
   "source": [
    "import pandas as pd \n",
    "import numpy as np\n",
    "\n",
    "pd_data = pd.read_csv('https://raw.githubusercontent.com/AugustLONG/ML01/master/01decisiontree/AllElectronics.csv')\n",
    "pd_data.drop(\"RID\",axis=1, inplace = True) #RID는 그냥 순서라서 삭제"
   ]
  },
  {
   "cell_type": "code",
   "execution_count": 152,
   "metadata": {},
   "outputs": [],
   "source": [
    "infoD = -(9/14 * np.log2(9/14)) -(5/14 * np.log2(5/14))"
   ]
  },
  {
   "cell_type": "code",
   "execution_count": 157,
   "metadata": {},
   "outputs": [
    {
     "data": {
      "text/plain": [
       "0.24674981977443933"
      ]
     },
     "execution_count": 157,
     "metadata": {},
     "output_type": "execute_result"
    }
   ],
   "source": [
    "info_age = 5/14 * (-(3/5*np.log2(3/5)) -(2/5*np.log2(2/5))) + 5/14 * (-(3/5*np.log2(3/5)) -(2/5*np.log2(2/5))) + 4/14 * (-(4/4*np.log2(4/4)) -(0))\n",
    "infoD - info_age\n",
    "# 0.24674981977443933"
   ]
  },
  {
   "cell_type": "code",
   "execution_count": 158,
   "metadata": {},
   "outputs": [
    {
     "data": {
      "text/plain": [
       "0.02922256565895487"
      ]
     },
     "execution_count": 158,
     "metadata": {},
     "output_type": "execute_result"
    }
   ],
   "source": [
    "info_income = 4/14 * (-(2/4*np.log2(2/4)) -(2/4*np.log2(2/4))) + 6/14 * (-(2/6*np.log2(2/6)) -(4/6*np.log2(4/6))) + 4/14 * (-(1/4*np.log2(1/4)) -(3/4*np.log2(3/4)))\n",
    "infoD - info_income\n",
    "# 0.02922256565895487"
   ]
  },
  {
   "cell_type": "code",
   "execution_count": 159,
   "metadata": {},
   "outputs": [
    {
     "data": {
      "text/plain": [
       "0.15183550136234159"
      ]
     },
     "execution_count": 159,
     "metadata": {},
     "output_type": "execute_result"
    }
   ],
   "source": [
    "info_student = 7/14 * (-(4/7*np.log2(4/7)) -(3/7*np.log2(3/7))) + 7/14 * (-(1/7*np.log2(1/7)) -(6/7*np.log2(6/7)))\n",
    "infoD - info_student\n",
    "# 0.15183550136234159"
   ]
  },
  {
   "cell_type": "code",
   "execution_count": 160,
   "metadata": {},
   "outputs": [
    {
     "data": {
      "text/plain": [
       "0.04812703040826949"
      ]
     },
     "execution_count": 160,
     "metadata": {},
     "output_type": "execute_result"
    }
   ],
   "source": [
    "info_credit = 8/14 * (-(2/8*np.log2(2/8)) -(6/8*np.log2(6/8))) + 6/14 * (-(3/6*np.log2(3/6)) -(3/6*np.log2(3/6)))\n",
    "infoD - info_credit\n",
    "# 0.04812703040826949"
   ]
  },
  {
   "cell_type": "code",
   "execution_count": 174,
   "metadata": {},
   "outputs": [],
   "source": [
    "# age가 Information Gain(정보 획득량)이 가장 높다. 따라서 age 변수를 통해 나누는게 제일 좋다."
   ]
  },
  {
   "cell_type": "markdown",
   "metadata": {},
   "source": [
    "## 함수로 구현"
   ]
  },
  {
   "cell_type": "code",
   "execution_count": 149,
   "metadata": {},
   "outputs": [
    {
     "name": "stdout",
     "output_type": "stream",
     "text": [
      "[0.40977637753840185, 0.5305095811322292]\n"
     ]
    },
    {
     "data": {
      "text/plain": [
       "0.9402859586706311"
      ]
     },
     "execution_count": 149,
     "metadata": {},
     "output_type": "execute_result"
    }
   ],
   "source": [
    "def getEntropy(df, label) :\n",
    "    entropy = 0\n",
    "    for value in pd.unique(df[label]):\n",
    "        number = len(df.loc[df[label] == value]) / len(df)\n",
    "        entropy = entropy + -number*np.log2(number)\n",
    "    return(entropy)\n",
    "getEntropy(pd_data, \"class_buys_computer\")"
   ]
  },
  {
   "cell_type": "code",
   "execution_count": 175,
   "metadata": {},
   "outputs": [],
   "source": [
    "def getGainA(df, label) :\n",
    "    infoD = getEntropy(df, label)\n",
    "    mydf = df.loc[:, df.columns != label]\n",
    "    for column in list(mydf) :\n",
    "        infoDi=0\n",
    "        for value in pd.unique(df[column]) :\n",
    "            info_df = df.loc[df[column] == value]\n",
    "            entropy = getEntropy(info_df, label)\n",
    "            infoDi = infoDi + (len(info_df) / len(df)) * entropy\n",
    "        print(\"Gain_\" + column + \" = \" + str(infoD - infoDi))\n",
    "            \n",
    "        "
   ]
  },
  {
   "cell_type": "code",
   "execution_count": 176,
   "metadata": {},
   "outputs": [
    {
     "name": "stdout",
     "output_type": "stream",
     "text": [
      "Gain_age = 0.24674981977443933\n",
      "Gain_income = 0.02922256565895487\n",
      "Gain_student = 0.15183550136234159\n",
      "Gain_credit_rating = 0.04812703040826949\n"
     ]
    }
   ],
   "source": [
    "getGainA(pd_data, \"class_buys_computer\")\n",
    "\n",
    "# Gain_age = 0.24674981977443933\n",
    "# Gain_income = 0.02922256565895487\n",
    "# Gain_student = 0.15183550136234159\n",
    "# Gain_credit_rating = 0.04812703040826949"
   ]
  },
  {
   "cell_type": "code",
   "execution_count": null,
   "metadata": {},
   "outputs": [],
   "source": []
  }
 ],
 "metadata": {
  "kernelspec": {
   "display_name": "Python 3",
   "language": "python",
   "name": "python3"
  },
  "language_info": {
   "codemirror_mode": {
    "name": "ipython",
    "version": 3
   },
   "file_extension": ".py",
   "mimetype": "text/x-python",
   "name": "python",
   "nbconvert_exporter": "python",
   "pygments_lexer": "ipython3",
   "version": "3.7.3"
  }
 },
 "nbformat": 4,
 "nbformat_minor": 2
}
