{
 "cells": [
  {
   "cell_type": "markdown",
   "metadata": {},
   "source": [
    "# RNN"
   ]
  },
  {
   "cell_type": "markdown",
   "metadata": {},
   "source": [
    "RNN은 시계열 데이터를 다루기 위한 신경망입니다.  \n",
    "Recurrent Neural Network라는 용어명에서도 알 수 있듯이 \"순환\"하는 경로가 존재하여 데이터가 순환됩니다.  \n",
    "즉, 과거의 정보를 \"기억\"하는 동시에 이에 새로운 정보를 추가해 \"갱신\"하게 됩니다."
   ]
  },
  {
   "cell_type": "markdown",
   "metadata": {},
   "source": [
    "## RNN Layer의 Forward propagation"
   ]
  },
  {
   "cell_type": "markdown",
   "metadata": {},
   "source": [
    "# $$\\mathbf{h_t} = \\text{tanh}(\\mathbf{h_{t-1}W_h + x_tW_x+b})$$"
   ]
  },
  {
   "cell_type": "markdown",
   "metadata": {},
   "source": [
    "RNN Layer 또한 데이터를 Mini-Batch로 처리합니다. 따라서 $\\mathbf{x_t}$와 $\\mathbf{h_t}$에 각 샘플 데이터를 행 방향으로 묶어 처리합니다.  \n",
    "따라서 아래와 같은 shape을 가지게 됩니다."
   ]
  },
  {
   "cell_type": "markdown",
   "metadata": {},
   "source": [
    "# $\\begin{array}{lcl}\n",
    "\\mathbf{h_{t-1}} & = & N \\times H \\\\\n",
    "\\mathbf{W_h} & = & H \\times H \\\\\n",
    "\\mathbf{x_{t}} & = & N \\times D \\\\\n",
    "\\mathbf{W_x} & = & D \\times H \\\\\n",
    "\\mathbf{b_t} & = & N \\times H \\\\\n",
    "\\end{array}$"
   ]
  },
  {
   "cell_type": "markdown",
   "metadata": {},
   "source": [
    "---"
   ]
  },
  {
   "cell_type": "markdown",
   "metadata": {},
   "source": [
    "# RNN 구현"
   ]
  },
  {
   "cell_type": "code",
   "execution_count": 1,
   "metadata": {},
   "outputs": [],
   "source": [
    "class RNN:\n",
    "    def __init__(self, Wx, Wh, b):\n",
    "        '''\n",
    "        NN의 weight를 초기화하고, backward를 위한 grad와 forward값을 인스턴스 변수로 저장해두는 부분입니다.\n",
    "        '''\n",
    "        self.params = [Wx, Wh, b]\n",
    "        self.grads = [np.zeros_like(Wx), np.zeros_like(Wh), np.zeros_like(b)]\n",
    "        self.cache = None\n",
    "\n",
    "    def forward(self, x, h_prev):\n",
    "        '''\n",
    "        input 값으로 아래 두 가지를 받습니다.\n",
    "        x : 현재 시점 t에서의 입력\n",
    "        h_prev : 이전 시점 t-1에서의 hidden state\n",
    "        '''\n",
    "        Wx, Wh, b = self.params\n",
    "        t = np.dot(h_prev, Wh) + np.dot(x, Wx) + b\n",
    "        h_next = np.tanh(t) # 현시점의 출력(다음 시각 t+1로의 입력)\n",
    "\n",
    "        self.cache = (x, h_prev, h_next) # backward를 위해 forward시의 값을 저장해둡니다.\n",
    "        return h_next\n",
    "\n",
    "    def backward(self, dh_next):\n",
    "        '''\n",
    "        dh_next : 다음 시각 t+1로부터 내려온 gradient\n",
    "        아래의 backward graph를 참고\n",
    "        '''\n",
    "        Wx, Wh, b = self.params\n",
    "        x, h_prev, h_next = self.cache\n",
    "\n",
    "        dt = dh_next * (1 - h_next ** 2) # (N x H)\n",
    "        db = np.sum(dt, axis=0)    # (N x H) ==> (1 x H)\n",
    "        dWh = np.dot(h_prev.T, dt) # (H x N) @ (N x H) ==> (H x H)\n",
    "        dh_prev = np.dot(dt, Wh.T) # (N x H) @ (H x H) ==> (N x H)\n",
    "        dWx = np.dot(x.T, dt)      # (D x N) @ (N x H) ==> (D x H)\n",
    "        dx = np.dot(dt, Wx.T)      # (N x H) @ (H x D) ==> (N x D)\n",
    "\n",
    "        self.grads[0][...] = dWx # cf. [...] : deep copy : \n",
    "        self.grads[1][...] = dWh\n",
    "        self.grads[2][...] = db\n",
    "\n",
    "        return dx, dh_prev"
   ]
  },
  {
   "cell_type": "markdown",
   "metadata": {},
   "source": [
    "<img src=\"rnn_backprop.png\">"
   ]
  },
  {
   "cell_type": "markdown",
   "metadata": {},
   "source": [
    "# Time RNN Layer 구현\n",
    "- T개의 RNN 계층으로 구성된 RNN Layer을 만듭니다.  \n",
    "- 즉, 시계열 데이터 길이가 T인 Truncated BPTT를 하기위한 Layer입니다."
   ]
  },
  {
   "cell_type": "markdown",
   "metadata": {},
   "source": [
    "<img src=\"rnn_timernn.png\">"
   ]
  },
  {
   "cell_type": "markdown",
   "metadata": {},
   "source": [
    "Backpropagation은 다음과 같이 이뤄집니다.  \n",
    "output layer에서 내려오는 기울기를 dhs, 아래로 내보내는 기울기를 dxs라 표기합니다.  \n",
    "Truncated BPTT이므로 dh는 필요하지 않습니다. 그러나 뒤에 다룰 seq2seq 모델에서 사용하므로 만들어둡니다.  \n",
    "h는 여기선 영벡터입니다. 최초 RNN layer에 대한 이전 상태의 hidden state로 넣어주는 값입니다.  "
   ]
  },
  {
   "cell_type": "markdown",
   "metadata": {},
   "source": [
    "<img src=\"rnn_timernn_back.png\">"
   ]
  },
  {
   "cell_type": "markdown",
   "metadata": {},
   "source": [
    "t번쨰 RNN에서의 backpropgation시 $\\mathbf{dh_t}$와 $\\mathbf{dh_{next}}$가 합산되어 전해집니다."
   ]
  },
  {
   "cell_type": "markdown",
   "metadata": {},
   "source": [
    "<img src=\"rnn_timernn_backprop_at_t.png\">"
   ]
  },
  {
   "cell_type": "code",
   "execution_count": 2,
   "metadata": {},
   "outputs": [],
   "source": [
    "class TimeRNN:\n",
    "    def __init__(self, Wx, Wh, b, stateful=False):\n",
    "        '''\n",
    "        NN의 weight를 초기화하고\n",
    "        forward를 위한 hidden state h와\n",
    "        backward를 위한 grad와 forward, 그리고 dh값을 인스턴스 변수로 저장해두는 부분입니다.\n",
    "        '''\n",
    "        self.params = [Wx, Wh, b]\n",
    "        self.grads = [np.zeros_like(Wx), np.zeros_like(Wh), np.zeros_like(b)]\n",
    "        self.layers = None\n",
    "\n",
    "        # forward() 메서드 호출시 h는 마지막 RNN hidden state를 저장하고\n",
    "        # backward() 메서드 호출시 dh는 한 시점 앞 블록의 hiddenstate의 gradient를 저장합니다(위에서 내려오는 기울기)\n",
    "        self.h, self.dh = None, None\n",
    "        \n",
    "        # 한 번의 Backward연산이 끝나고 새로운 데이터를 받을 때 이전의 hidden state를 유지할 것인지를 정합니다.\n",
    "        # 전체 데이터가 하나로 쭉 이어진 시계열 데이터라면 유지해야 합니다.\n",
    "        self.stateful = stateful\n",
    "\n",
    "    def forward(self, xs):\n",
    "        '''\n",
    "        input 값으로 Batch size = N, 시간축 길이 = T, embedding dimension = D 인 데이터를 받습니다.\n",
    "        '''\n",
    "        Wx, Wh, b = self.params\n",
    "        N, T, D = xs.shape\n",
    "        D, H = Wx.shape\n",
    "\n",
    "        # 각 시점에서의 RNN layer를 self.layers 리스트에 저장합니다.\n",
    "        # hs : 각 시점에서의 hidden state를 저장해두기 tensor입니다.\n",
    "        self.layers = []\n",
    "        hs = np.empty((N, T, H), dtype='f')\n",
    "        \n",
    "        '''\n",
    "        self.stateful이 False 즉, hidden state를 유지하지 않기로 설정했거나,\n",
    "        self.h가 False, 즉 최초 실행시에는 self.h를 영벡터로 초기화합니다.\n",
    "        RNN이 이전 시점의 hidden state를 입력으로 받는데, 최초 실행시는 이전 hidden state가 없기 때문에\n",
    "        영벡터를 입력으로 넣어줍니다.\n",
    "        '''\n",
    "        if not self.stateful or self.h is None:\n",
    "            self.h = np.zeros((N, H), dtype='f')\n",
    "\n",
    "        # 시간축 길이 T만큼 for문을 돌면서 \n",
    "        for t in range(T):\n",
    "            layer = RNN(*self.params) # RNN layer를 생성하고\n",
    "            self.h = layer.forward(xs[:, t, :], self.h) # 시점 t의 데이터 x_t와 h_(t-1)을 입력해 forward한 뒤\n",
    "            hs[:, t, :] = self.h   # hidden state를 t시점의 위치에 저장하고\n",
    "            self.layers.append(layer) # 해당 layer를 리스트에 저장합니다(backward시 필요)\n",
    "            \n",
    "        return hs\n",
    "\n",
    "    def backward(self, dhs):\n",
    "        '''\n",
    "        dhs : output layer 쪽에서 전해지는 기울기\n",
    "        '''\n",
    "        Wx, Wh, b = self.params\n",
    "        N, T, H = dhs.shape\n",
    "        D, H = Wx.shape\n",
    "        \n",
    "        '''\n",
    "        dxs : 아래로 내보내는 gradient를 담을 빈 Tensor\n",
    "        dh : seq2seq 모델을 위해서 저장해두는 hidden state\n",
    "        grads : 각각 Wx, Wh, b에 대한 gradient가 저장된다.\n",
    "                이 때, 각 시점의 RNN layer들은 모두 동일한 weights를 공유하므로\n",
    "                 backward시에 각 시점의 gradient가 모두 합산된다.\n",
    "        '''\n",
    "        dxs = np.empty((N, T, D), dtype='f')\n",
    "        dh = 0   # dh_next(이전 시점의 hidden state의 gradient)를 의미\n",
    "                 # backward시 가장 마지막 RNN layer의 dh_next는 없으므로 0\n",
    "        grads = [0, 0, 0]\n",
    "        for t in reversed(range(T)): # forward와는 달리 거꾸로 for문을 수행\n",
    "            layer = self.layers[t]   # forward시 저장한 layer를 가져와서\n",
    "            dx, dh = layer.backward(dhs[:, t, :] + dh) # outputlayer의 t시점에서 내려온 gradient인 dh_t와 dh_next를 더하여 backward\n",
    "            dxs[:, t, :] = dx  # 아래로 내보낼 t시점의 gradient dxs_t를 저장함\n",
    "\n",
    "            for i, grad in enumerate(layer.grads): # 현재 backward하는 layer의 Wx, Wh b에 대한 gradients를 누적합 \n",
    "                grads[i] += grad\n",
    "                \n",
    "        # backward가 모두 끝나면 Wx, Wh, b에 대한 gradients를 인스턴스 변수에 저장\n",
    "        for i, grad in enumerate(grads):\n",
    "            self.grads[i][...] = grad\n",
    "        self.dh = dh # 최종 hidden state의 gradients를 저장해둠(for seq2seq)\n",
    "\n",
    "        return dxs\n",
    "\n",
    "    # hidden state를 임의의 값으로 설정하거나 초기화하기 위한 메서드\n",
    "    def set_state(self, h):\n",
    "        self.h = h\n",
    "\n",
    "    def reset_state(self):\n",
    "        self.h = None\n"
   ]
  },
  {
   "cell_type": "markdown",
   "metadata": {},
   "source": [
    "# 2. RNN Language Model(RNNLM)"
   ]
  },
  {
   "cell_type": "markdown",
   "metadata": {},
   "source": [
    "RNN을 사용해서 Languge Model을 구현합니다.  \n",
    "먼저 RNNLM의 신경망 구조는 아래와 같습니다.  \n",
    "왼쪽은 Layer 구성이고, 오른쪽은 시간축으로 펼친 그림입니다."
   ]
  },
  {
   "cell_type": "markdown",
   "metadata": {},
   "source": [
    "<img src=\"RNNLM.png\">"
   ]
  },
  {
   "cell_type": "markdown",
   "metadata": {},
   "source": [
    "W_t 는 t시점에서의 단어(또는 token)입니다.  \n",
    "가장 아래에 **Embedding layer**를 볼 수 있는데, NLP Basic에서 배웠던 word2vec 모델이 전체 모델에 포함된 것이라 할 수 있습니다. 입력 단어의 one hot encoding과 weight($\\mathbf{W_E}$)를 dot product하여\n",
    "나온 값을 해당 단어의 embedding값으로 사용합니다.  \n",
    "예를 들면 단어 \"dog\"이 전체 단어목록 V에서 3번째 단어이고 전체 단어(V)가 100개이면,  \n",
    "embedding layer의 weight($\\mathbf{W_E}$)는 (100 x D)이고, (D는 embedding dimension)  \n",
    "\"dog\"의 W_t는 [0, 0, 1, ..., 0, 0]으로 표현됩니다. 이를 embedding weight와 dot product한 결과는 embedding weight의 3번째 행을 뽑아낸 결과가 됩니다. 즉 해당 단어의 word embedding 값입니다.  \n",
    "embedding weight는 이전에 word embedding한 값을 불러와 사용할 수 있으며, 또는 지금처럼 random으로 초기화한 후 모델의 학습이 진행됨에 따라 적절한 word embedding값을 얻을 수도 있습니다.\n",
    "\n"
   ]
  },
  {
   "cell_type": "markdown",
   "metadata": {},
   "source": [
    "다음으로 **RNN layer**를 지나, **Affine layer**를 거쳐 **Softmax layer**를 통과합니다.\n",
    "**Softmax layer**를 통과한 결과는 각 시점(t)에서 예측한 다음 시점(t+1)에 올 단어의 확률 분포입니다.  \n",
    "여기서 **Affine layer**는 우리가 MLP에서 봤었던 Activation function에 통과하기 이전의 선형변환을 말합니다."
   ]
  },
  {
   "cell_type": "markdown",
   "metadata": {},
   "source": [
    "그런데 모델이 학습을 하려면 Loss function이 있어야 합니다. 위의 그림에 Loss function을 추가하면 아래 그림과 같습니다.  \n",
    "각 시점에서의 Loss를 모두 계산하여 이를 평균한 값을 Loss로 취합니다."
   ]
  },
  {
   "cell_type": "markdown",
   "metadata": {},
   "source": [
    "<img src=\"RNNLM_loss.png\">"
   ]
  },
  {
   "cell_type": "markdown",
   "metadata": {},
   "source": [
    "## RNNLM CODE"
   ]
  },
  {
   "cell_type": "code",
   "execution_count": 3,
   "metadata": {},
   "outputs": [],
   "source": [
    "import sys\n",
    "sys.path.append('..')\n",
    "import numpy as np\n",
    "from common.time_layers import *\n",
    "\n",
    "\n",
    "class SimpleRnnlm:\n",
    "    def __init__(self, vocab_size, wordvec_size, hidden_size):\n",
    "        V, D, H = vocab_size, wordvec_size, hidden_size\n",
    "        rn = np.random.randn #메서드를 짧게 표현\n",
    "\n",
    "        # 가중치 초기화(Xavior)\n",
    "        embed_W = (rn(V, D) / 100).astype('f')\n",
    "        rnn_Wx = (rn(D, H) / np.sqrt(D)).astype('f')\n",
    "        rnn_Wh = (rn(H, H) / np.sqrt(H)).astype('f')\n",
    "        rnn_b = np.zeros(H).astype('f')\n",
    "        affine_W = (rn(H, V) / np.sqrt(H)).astype('f')\n",
    "        affine_b = np.zeros(V).astype('f')\n",
    "\n",
    "        # 계층 생성\n",
    "        self.layers = [\n",
    "            TimeEmbedding(embed_W), # 시간길이 T인 입력데이터에 대해 Embedding layer를 한 번에 처리하는 layer\n",
    "            TimeRNN(rnn_Wx, rnn_Wh, rnn_b, stateful=True), # 시간길이 T인 입력데이터에 대한 RNN(Truncated RNN)\n",
    "            TimeAffine(affine_W, affine_b) # 시간길이 T인 입력데이터에 대해 Affine 변환을 한 번에 처리하는 Layer\n",
    "        ]\n",
    "        self.loss_layer = TimeSoftmaxWithLoss() # 시간길이 T인 입력데이터에 대해 Softmax cross entropy loss를 한 번에 계산하는 layer\n",
    "        self.rnn_layer = self.layers[1]\n",
    "\n",
    "        # 모든 가중치와 기울기를 리스트에 모은다.\n",
    "        self.params, self.grads = [], []\n",
    "        for layer in self.layers:\n",
    "            self.params += layer.params\n",
    "            self.grads += layer.grads\n",
    "\n",
    "    def forward(self, xs, ts):\n",
    "        for layer in self.layers:\n",
    "            xs = layer.forward(xs)\n",
    "        loss = self.loss_layer.forward(xs, ts)\n",
    "        return loss\n",
    "\n",
    "    def backward(self, dout=1):\n",
    "        dout = self.loss_layer.backward(dout)\n",
    "        for layer in reversed(self.layers):\n",
    "            dout = layer.backward(dout)\n",
    "        return dout\n",
    "\n",
    "    def reset_state(self):\n",
    "        self.rnn_layer.reset_state()\n"
   ]
  },
  {
   "cell_type": "markdown",
   "metadata": {},
   "source": [
    "## RNNLM Training & Evaluation"
   ]
  },
  {
   "cell_type": "markdown",
   "metadata": {},
   "source": [
    "### Langube Model의 평가\n",
    "- **perplexity**\n",
    "- 쉽게 말해 확률의 역수로, 다음에 등장할 수 있는 단어의 분기수. 즉 다음에 가능한 단어의 후보 수\n",
    "- 좋은 모델일 수록 다음에 등장할 단어를 높은 확률로 예측한다.  \n",
    "예를 들어 \"You say goodbye and I say hello\"라는 copurs로 학습했을 때,\n",
    "  \"You\" 다음에 올 단어로 \"say\"를 0.8의 확률로 예측했다면 perplexity는 1/0.8 = 1.25 가 되며 0.5의 확률로 예측했다면 perplexity = 1/0.5 = 2.5가 된다.  \n",
    "- perplexity가 낮을 수록 좋은 모델\n",
    "- 다음에 가능한 후보의 수를 많이 좁힐 수록 모델의 성능이 좋다."
   ]
  },
  {
   "cell_type": "markdown",
   "metadata": {},
   "source": [
    "# $$ L = - \\frac{1}{N}\\sum_{n}\\sum_{k}t_{nk}\\text{log}y_{nk} $$\n",
    "# $$ \\mathbf{preplexity} = e^L $$ "
   ]
  },
  {
   "cell_type": "markdown",
   "metadata": {},
   "source": [
    "$L$은 softmax with crossentropy loss를 의미함. 다음 단어를 하나의 단어로 특정지을수록 Loss가 줄어들고, perplexity 또한 줄어든다."
   ]
  },
  {
   "cell_type": "code",
   "execution_count": 4,
   "metadata": {},
   "outputs": [
    {
     "name": "stdout",
     "output_type": "stream",
     "text": [
      "말뭉치 크기: 1000, 어휘 수: 418\n",
      "| 에폭 1 | 퍼플렉서티 379.33\n",
      "| 에폭 2 | 퍼플렉서티 256.43\n",
      "| 에폭 3 | 퍼플렉서티 221.32\n",
      "| 에폭 4 | 퍼플렉서티 212.03\n",
      "| 에폭 5 | 퍼플렉서티 204.15\n",
      "| 에폭 6 | 퍼플렉서티 201.58\n",
      "| 에폭 7 | 퍼플렉서티 197.23\n",
      "| 에폭 8 | 퍼플렉서티 195.03\n",
      "| 에폭 9 | 퍼플렉서티 190.10\n",
      "| 에폭 10 | 퍼플렉서티 191.48\n",
      "| 에폭 11 | 퍼플렉서티 188.33\n",
      "| 에폭 12 | 퍼플렉서티 191.53\n",
      "| 에폭 13 | 퍼플렉서티 190.00\n",
      "| 에폭 14 | 퍼플렉서티 189.61\n",
      "| 에폭 15 | 퍼플렉서티 188.98\n",
      "| 에폭 16 | 퍼플렉서티 186.15\n",
      "| 에폭 17 | 퍼플렉서티 182.70\n",
      "| 에폭 18 | 퍼플렉서티 179.92\n",
      "| 에폭 19 | 퍼플렉서티 180.67\n",
      "| 에폭 20 | 퍼플렉서티 182.25\n",
      "| 에폭 21 | 퍼플렉서티 180.85\n",
      "| 에폭 22 | 퍼플렉서티 178.06\n",
      "| 에폭 23 | 퍼플렉서티 175.45\n",
      "| 에폭 24 | 퍼플렉서티 174.71\n",
      "| 에폭 25 | 퍼플렉서티 174.26\n",
      "| 에폭 26 | 퍼플렉서티 172.35\n",
      "| 에폭 27 | 퍼플렉서티 168.42\n",
      "| 에폭 28 | 퍼플렉서티 167.49\n",
      "| 에폭 29 | 퍼플렉서티 164.68\n",
      "| 에폭 30 | 퍼플렉서티 160.32\n",
      "| 에폭 31 | 퍼플렉서티 160.23\n",
      "| 에폭 32 | 퍼플렉서티 153.94\n",
      "| 에폭 33 | 퍼플렉서티 155.34\n",
      "| 에폭 34 | 퍼플렉서티 148.11\n",
      "| 에폭 35 | 퍼플렉서티 147.33\n",
      "| 에폭 36 | 퍼플렉서티 140.65\n",
      "| 에폭 37 | 퍼플렉서티 137.97\n",
      "| 에폭 38 | 퍼플렉서티 133.90\n",
      "| 에폭 39 | 퍼플렉서티 128.77\n",
      "| 에폭 40 | 퍼플렉서티 123.52\n",
      "| 에폭 41 | 퍼플렉서티 122.62\n",
      "| 에폭 42 | 퍼플렉서티 117.01\n",
      "| 에폭 43 | 퍼플렉서티 111.97\n",
      "| 에폭 44 | 퍼플렉서티 104.49\n",
      "| 에폭 45 | 퍼플렉서티 103.10\n",
      "| 에폭 46 | 퍼플렉서티 102.50\n",
      "| 에폭 47 | 퍼플렉서티 96.76\n",
      "| 에폭 48 | 퍼플렉서티 91.60\n",
      "| 에폭 49 | 퍼플렉서티 87.84\n",
      "| 에폭 50 | 퍼플렉서티 81.51\n",
      "| 에폭 51 | 퍼플렉서티 78.84\n",
      "| 에폭 52 | 퍼플렉서티 75.59\n",
      "| 에폭 53 | 퍼플렉서티 71.31\n",
      "| 에폭 54 | 퍼플렉서티 69.31\n",
      "| 에폭 55 | 퍼플렉서티 66.10\n",
      "| 에폭 56 | 퍼플렉서티 61.41\n",
      "| 에폭 57 | 퍼플렉서티 59.08\n",
      "| 에폭 58 | 퍼플렉서티 55.53\n",
      "| 에폭 59 | 퍼플렉서티 52.44\n",
      "| 에폭 60 | 퍼플렉서티 48.89\n",
      "| 에폭 61 | 퍼플렉서티 46.89\n",
      "| 에폭 62 | 퍼플렉서티 44.16\n",
      "| 에폭 63 | 퍼플렉서티 40.43\n",
      "| 에폭 64 | 퍼플렉서티 39.14\n",
      "| 에폭 65 | 퍼플렉서티 36.60\n",
      "| 에폭 66 | 퍼플렉서티 34.12\n",
      "| 에폭 67 | 퍼플렉서티 33.27\n",
      "| 에폭 68 | 퍼플렉서티 30.56\n",
      "| 에폭 69 | 퍼플렉서티 29.10\n",
      "| 에폭 70 | 퍼플렉서티 27.75\n",
      "| 에폭 71 | 퍼플렉서티 26.01\n",
      "| 에폭 72 | 퍼플렉서티 24.96\n",
      "| 에폭 73 | 퍼플렉서티 23.30\n",
      "| 에폭 74 | 퍼플렉서티 22.08\n",
      "| 에폭 75 | 퍼플렉서티 21.05\n",
      "| 에폭 76 | 퍼플렉서티 19.30\n",
      "| 에폭 77 | 퍼플렉서티 18.62\n",
      "| 에폭 78 | 퍼플렉서티 17.60\n",
      "| 에폭 79 | 퍼플렉서티 16.48\n",
      "| 에폭 80 | 퍼플렉서티 15.18\n",
      "| 에폭 81 | 퍼플렉서티 15.31\n",
      "| 에폭 82 | 퍼플렉서티 14.54\n",
      "| 에폭 83 | 퍼플렉서티 13.39\n",
      "| 에폭 84 | 퍼플렉서티 12.88\n",
      "| 에폭 85 | 퍼플렉서티 11.81\n",
      "| 에폭 86 | 퍼플렉서티 11.41\n",
      "| 에폭 87 | 퍼플렉서티 11.07\n",
      "| 에폭 88 | 퍼플렉서티 10.38\n",
      "| 에폭 89 | 퍼플렉서티 9.65\n",
      "| 에폭 90 | 퍼플렉서티 9.15\n",
      "| 에폭 91 | 퍼플렉서티 9.01\n",
      "| 에폭 92 | 퍼플렉서티 8.67\n",
      "| 에폭 93 | 퍼플렉서티 8.46\n",
      "| 에폭 94 | 퍼플렉서티 7.33\n",
      "| 에폭 95 | 퍼플렉서티 7.17\n",
      "| 에폭 96 | 퍼플렉서티 7.02\n",
      "| 에폭 97 | 퍼플렉서티 6.65\n",
      "| 에폭 98 | 퍼플렉서티 6.37\n",
      "| 에폭 99 | 퍼플렉서티 5.95\n",
      "| 에폭 100 | 퍼플렉서티 5.76\n"
     ]
    }
   ],
   "source": [
    "# coding: utf-8\n",
    "import sys\n",
    "sys.path.append('..')\n",
    "import matplotlib.pyplot as plt\n",
    "import numpy as np\n",
    "from common.optimizer import SGD\n",
    "from dataset import ptb\n",
    "from simple_rnnlm import SimpleRnnlm\n",
    "\n",
    "\n",
    "# 하이퍼파라미터 설정\n",
    "batch_size = 10\n",
    "wordvec_size = 100\n",
    "hidden_size = 100 # RNN의 은닉 상태 벡터의 원소 수\n",
    "time_size = 5     # Truncated BPTT가 한 번에 펼치는 시간 크기\n",
    "lr = 0.1\n",
    "max_epoch = 100\n",
    "\n",
    "# 학습 데이터 읽기(전체 중 1000개만)\n",
    "corpus, word_to_id, id_to_word = ptb.load_data('train')\n",
    "corpus_size = 1000\n",
    "corpus = corpus[:corpus_size]\n",
    "vocab_size = int(max(corpus) + 1)\n",
    "\n",
    "xs = corpus[:-1]  # 입력\n",
    "ts = corpus[1:]   # 출력(정답 레이블)\n",
    "data_size = len(xs)\n",
    "print('말뭉치 크기: %d, 어휘 수: %d' % (corpus_size, vocab_size))\n",
    "\n",
    "# 학습 시 사용하는 변수\n",
    "max_iters = data_size // (batch_size * time_size)\n",
    "time_idx = 0\n",
    "total_loss = 0\n",
    "loss_count = 0\n",
    "ppl_list = []\n",
    "\n",
    "# 모델 생성\n",
    "model = SimpleRnnlm(vocab_size, wordvec_size, hidden_size)\n",
    "optimizer = SGD(lr)\n",
    "\n",
    "# 미니배치의 각 샘플의 읽기 시작 위치를 계산\n",
    "jump = (corpus_size - 1) // batch_size\n",
    "offsets = [i * jump for i in range(batch_size)]\n",
    "#\n",
    "for epoch in range(max_epoch):\n",
    "    for iter in range(max_iters):\n",
    "        # 미니배치 취득\n",
    "        batch_x = np.empty((batch_size, time_size), dtype='i')\n",
    "        batch_t = np.empty((batch_size, time_size), dtype='i')\n",
    "        for t in range(time_size):\n",
    "            for i, offset in enumerate(offsets):\n",
    "                batch_x[i, t] = xs[(offset + time_idx) % data_size]\n",
    "                batch_t[i, t] = ts[(offset + time_idx) % data_size]\n",
    "            time_idx += 1\n",
    "\n",
    "        # 기울기를 구하여 매개변수 갱신\n",
    "        loss = model.forward(batch_x, batch_t)\n",
    "        model.backward()\n",
    "        optimizer.update(model.params, model.grads)\n",
    "        total_loss += loss\n",
    "        loss_count += 1\n",
    "\n",
    "    # 에폭마다 퍼플렉서티 평가\n",
    "    ppl = np.exp(total_loss / loss_count)\n",
    "    print('| 에폭 %d | 퍼플렉서티 %.2f'\n",
    "          % (epoch+1, ppl))\n",
    "    ppl_list.append(float(ppl))\n",
    "    total_loss, loss_count = 0, 0\n"
   ]
  },
  {
   "cell_type": "code",
   "execution_count": 5,
   "metadata": {},
   "outputs": [
    {
     "data": {
      "image/png": "[encoded data removed]",
      "text/plain": [
       "<Figure size 432x288 with 1 Axes>"
      ]
     },
     "metadata": {
      "needs_background": "light"
     },
     "output_type": "display_data"
    }
   ],
   "source": [
    "# 그래프 그리기\n",
    "x = np.arange(len(ppl_list))\n",
    "plt.plot(x, ppl_list, label='train')\n",
    "plt.xlabel('epochs')\n",
    "plt.ylabel('perplexity')\n",
    "plt.show()"
   ]
  }
 ],
 "metadata": {
  "kernelspec": {
   "display_name": "Python 3",
   "language": "python",
   "name": "python3"
  },
  "language_info": {
   "codemirror_mode": {
    "name": "ipython",
    "version": 3
   },
   "file_extension": ".py",
   "mimetype": "text/x-python",
   "name": "python",
   "nbconvert_exporter": "python",
   "pygments_lexer": "ipython3",
   "version": "3.6.8"
  }
 },
 "nbformat": 4,
 "nbformat_minor": 2
}
