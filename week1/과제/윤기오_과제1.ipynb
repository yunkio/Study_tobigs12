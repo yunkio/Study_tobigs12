{
 "cells": [
  {
   "cell_type": "markdown",
   "metadata": {},
   "source": [
    "## 과제 1:\n",
    "#### Target Encoding: 각 피쳐 값의 target variable 평균으로 인코딩\n"
   ]
  },
  {
   "cell_type": "markdown",
   "metadata": {},
   "source": [
    "TODO : \n",
    " - 개선된 'Initial' Feature 에 target encoding 을 적용하세요.\n",
    " - ['Mr', 'Mrs', 'Miss', 'Master', 'Other'] 총 5가지의 값이 0-1 사이의 값으로 변환되어야 합니다.\n",
    " - 인코딩된 feature 는 'Initial_encoded' 에 저장해주세요."
   ]
  },
  {
   "cell_type": "markdown",
   "metadata": {},
   "source": [
    "#### Mean 값 찾기"
   ]
  },
  {
   "cell_type": "code",
   "execution_count": 40,
   "metadata": {},
   "outputs": [],
   "source": [
    "data['Initial_encoded'] = 0 \n",
    "\n",
    "# 각 값들 ('Mr','Mrs',...) 에 대해서 생존율 평균값 찾기 \n",
    "\n",
    "Mr_mean = None\n",
    "Mrs_mean = None\n",
    "Miss_mean = None\n",
    "Master_mean = None\n",
    "Other_mean = None \n"
   ]
  },
  {
   "cell_type": "code",
   "execution_count": 41,
   "metadata": {},
   "outputs": [
    {
     "data": {
      "text/plain": [
       "Initial\n",
       "Master    0.575000\n",
       "Miss      0.704301\n",
       "Mr        0.161597\n",
       "Mrs       0.795276\n",
       "Other     0.166667\n",
       "Name: Survived, dtype: float64"
      ]
     },
     "execution_count": 41,
     "metadata": {},
     "output_type": "execute_result"
    }
   ],
   "source": [
    "data.groupby('Initial')['Survived'].mean()"
   ]
  },
  {
   "cell_type": "markdown",
   "metadata": {},
   "source": [
    "#### DataFrame 에 저장"
   ]
  },
  {
   "cell_type": "code",
   "execution_count": 47,
   "metadata": {},
   "outputs": [],
   "source": [
    "data.loc[(data.Initial == 'Master'), 'Initial_encoded'] = 0.575\n",
    "data.loc[(data.Initial == 'Miss'), 'Initial_encoded'] = 0.704\n",
    "data.loc[(data.Initial == 'Mr'), 'Initial_encoded'] = 0.162\n",
    "data.loc[(data.Initial == 'Mrs'), 'Initial_encoded'] = 0.795\n",
    "data.loc[(data.Initial == 'Other'), 'Initial_encoded'] = 0.167"
   ]
  },
  {
   "cell_type": "code",
   "execution_count": null,
   "metadata": {},
   "outputs": [],
   "source": [
    "#Option 1 : for 문 사용 \n",
    "\n",
    "\n",
    "#Option 2 : .loc 함수 사용 "
   ]
  }
 ],
 "metadata": {
  "kernelspec": {
   "display_name": "Python 3",
   "language": "python",
   "name": "python3"
  },
  "language_info": {
   "codemirror_mode": {
    "name": "ipython",
    "version": 3
   },
   "file_extension": ".py",
   "mimetype": "text/x-python",
   "name": "python",
   "nbconvert_exporter": "python",
   "pygments_lexer": "ipython3",
   "version": "3.7.3"
  }
 },
 "nbformat": 4,
 "nbformat_minor": 2
}
