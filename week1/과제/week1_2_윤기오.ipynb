{
 "cells": [
  {
   "cell_type": "code",
   "execution_count": null,
   "metadata": {},
   "outputs": [],
   "source": [
    "q = []\n",
    "for i in range(int(input())):\n",
    "    q.append(input())\n",
    "q = (\" \".join(q)).split(\" \")\n",
    "target = input().split(\" \")"
   ]
  },
  {
   "cell_type": "code",
   "execution_count": 21,
   "metadata": {},
   "outputs": [],
   "source": [
    "abcd = ('abcdefghijklmnopqrstuvwxyz')\n",
    "abcd_list = list(abcd)"
   ]
  },
  {
   "cell_type": "code",
   "execution_count": 22,
   "metadata": {},
   "outputs": [],
   "source": [
    "x=0\n",
    "P=list()\n",
    "C=list()\n",
    "for i in q:\n",
    "    x = x+1\n",
    "    if x % 2 == 1:\n",
    "        P.append(q[x-1])\n",
    "    else:\n",
    "        C.append(q[x-1])\n"
   ]
  },
  {
   "cell_type": "code",
   "execution_count": 23,
   "metadata": {},
   "outputs": [],
   "source": [
    "P2 = list()\n",
    "for i in P:\n",
    "    word=list()\n",
    "    for letter in i:\n",
    "        if abcd.index(letter) > 1:\n",
    "            word.append(abcd_list[abcd.index(letter) - 1])\n",
    "        else:\n",
    "            word.append('z')\n",
    "    word = \"\".join(word)\n",
    "    P2.append(word)"
   ]
  },
  {
   "cell_type": "code",
   "execution_count": 24,
   "metadata": {},
   "outputs": [],
   "source": [
    "x=0\n",
    "dic={}\n",
    "for i in P2:\n",
    "    dic[C[x]] = P2[x]\n",
    "    x=x+1"
   ]
  },
  {
   "cell_type": "code",
   "execution_count": 25,
   "metadata": {},
   "outputs": [],
   "source": [
    "answer=list()\n",
    "for i in target:\n",
    "    answer.append(dic[i])\n",
    "print(\" \".join(answer))"
   ]
  },
  {
   "cell_type": "code",
   "execution_count": null,
   "metadata": {},
   "outputs": [],
   "source": []
  }
 ],
 "metadata": {
  "kernelspec": {
   "display_name": "Python 3",
   "language": "python",
   "name": "python3"
  },
  "language_info": {
   "codemirror_mode": {
    "name": "ipython",
    "version": 3
   },
   "file_extension": ".py",
   "mimetype": "text/x-python",
   "name": "python",
   "nbconvert_exporter": "python",
   "pygments_lexer": "ipython3",
   "version": "3.7.3"
  }
 },
 "nbformat": 4,
 "nbformat_minor": 2
}
