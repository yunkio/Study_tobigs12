{
 "cells": [
  {
   "cell_type": "code",
   "execution_count": 348,
   "metadata": {},
   "outputs": [],
   "source": [
    "a=input()"
   ]
  },
  {
   "cell_type": "code",
   "execution_count": 349,
   "metadata": {},
   "outputs": [],
   "source": [
    "lst = a.split('\\n')\n",
    "num = int(lst[0])\n",
    "target = lst[-1]\n",
    "q = (\" \".join(lst[1:-1])).split(\" \")"
   ]
  },
  {
   "cell_type": "code",
   "execution_count": 350,
   "metadata": {},
   "outputs": [],
   "source": [
    "x=0\n",
    "P=list()\n",
    "C=list()\n",
    "for i in q:\n",
    "    x = x+1\n",
    "    if x % 2 == 1:\n",
    "        P.append(q[x-1])\n",
    "    else:\n",
    "        C.append(q[x-1])"
   ]
  },
  {
   "cell_type": "code",
   "execution_count": 351,
   "metadata": {},
   "outputs": [],
   "source": [
    "abcd = ('abcdefghijklmnopqrstuvwxyz')"
   ]
  },
  {
   "cell_type": "code",
   "execution_count": 352,
   "metadata": {},
   "outputs": [],
   "source": [
    "abcd_list = list(abcd)"
   ]
  },
  {
   "cell_type": "code",
   "execution_count": 353,
   "metadata": {
    "scrolled": true
   },
   "outputs": [],
   "source": [
    "P2 = list()\n",
    "x=0\n",
    "for i in P:\n",
    "    word=list()\n",
    "    x = x+1\n",
    "    for letter in P[x-1]:\n",
    "        if abcd.index(letter) > 1:\n",
    "            word.append(abcd_list[abcd.index(letter) - 1])\n",
    "        else:\n",
    "            word.append('z')\n",
    "    word = \"\".join(word)\n",
    "    P2.append(word)\n",
    "    "
   ]
  },
  {
   "cell_type": "code",
   "execution_count": 354,
   "metadata": {},
   "outputs": [],
   "source": [
    "x=0\n",
    "dic={}\n",
    "for i in P2:\n",
    "    dic[C[x]] = P2[x]\n",
    "    x=x+1"
   ]
  },
  {
   "cell_type": "code",
   "execution_count": 355,
   "metadata": {},
   "outputs": [],
   "source": [
    "target = target.split(\" \")"
   ]
  },
  {
   "cell_type": "code",
   "execution_count": 356,
   "metadata": {},
   "outputs": [],
   "source": [
    "x=0\n",
    "answer=list()\n",
    "for i in target:\n",
    "    answer.append(dic[target[x]])\n",
    "    x=x+1"
   ]
  },
  {
   "cell_type": "code",
   "execution_count": 357,
   "metadata": {},
   "outputs": [
    {
     "name": "stdout",
     "output_type": "stream",
     "text": [
      "let it go\n"
     ]
    }
   ],
   "source": [
    "print(\" \".join(answer))"
   ]
  },
  {
   "cell_type": "code",
   "execution_count": null,
   "metadata": {},
   "outputs": [],
   "source": []
  }
 ],
 "metadata": {
  "kernelspec": {
   "display_name": "Python 3",
   "language": "python",
   "name": "python3"
  },
  "language_info": {
   "codemirror_mode": {
    "name": "ipython",
    "version": 3
   },
   "file_extension": ".py",
   "mimetype": "text/x-python",
   "name": "python",
   "nbconvert_exporter": "python",
   "pygments_lexer": "ipython3",
   "version": "3.7.3"
  }
 },
 "nbformat": 4,
 "nbformat_minor": 2
}
