{
 "cells": [
  {
   "cell_type": "code",
   "execution_count": 172,
   "metadata": {},
   "outputs": [],
   "source": [
    "from House import House\n",
    "\n",
    "class Apartment(House):\n",
    "    def __init__(self,dong_ho,size,rooms):\n",
    "        self.dong_ho = dong_ho\n",
    "        self.size = size\n",
    "        self.rooms = rooms\n",
    "    \n",
    "    def __lt__(self, other):\n",
    "        if self.size < other.size:\n",
    "            return True\n",
    "        else:\n",
    "            return False"
   ]
  }
 ],
 "metadata": {
  "kernelspec": {
   "display_name": "Python 3",
   "language": "python",
   "name": "python3"
  },
  "language_info": {
   "codemirror_mode": {
    "name": "ipython",
    "version": 3
   },
   "file_extension": ".py",
   "mimetype": "text/x-python",
   "name": "python",
   "nbconvert_exporter": "python",
   "pygments_lexer": "ipython3",
   "version": "3.7.3"
  }
 },
 "nbformat": 4,
 "nbformat_minor": 2
}
