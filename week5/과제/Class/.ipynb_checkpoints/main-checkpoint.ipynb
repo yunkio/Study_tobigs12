{
 "cells": [
  {
   "cell_type": "code",
   "execution_count": 47,
   "metadata": {},
   "outputs": [],
   "source": [
    "from Apartment import Apartment\n",
    "from Vile import Vile"
   ]
  },
  {
   "cell_type": "code",
   "execution_count": 48,
   "metadata": {},
   "outputs": [],
   "source": [
    "f = open(\"Apartment.txt\", 'r')\n",
    "N=int(f.readline())\n",
    "apartments=[]\n",
    "for i in range(N):\n",
    "    mylist = (f.readline().split(' ')) \n",
    "    a = Apartment(mylist[0], int(mylist[1]), int(mylist[2].strip()))\n",
    "    apartments.append(a) ## class append..?\n",
    "f.close()"
   ]
  },
  {
   "cell_type": "code",
   "execution_count": 54,
   "metadata": {},
   "outputs": [],
   "source": [
    "apartment_1 = apartments[0]\n",
    "apartment_2 = apartments[1]"
   ]
  },
  {
   "cell_type": "code",
   "execution_count": 3,
   "metadata": {},
   "outputs": [
    {
     "name": "stdout",
     "output_type": "stream",
     "text": [
      "<Apartment.Apartment object at 0x000001741BB788D0>\n"
     ]
    }
   ],
   "source": [
    "# 클래스 리스트 정렬\n",
    "max_index=0\n",
    "# magic method가 작동하는 것을 직관적으로 파악해보기 위해 for문을 이용하여 최댓값을 찾아보세요!\n",
    "for j in range(N-1):\n",
    "    \"\"\"\n",
    "    magic method인 lt함수 활용\n",
    "    최대 평수를 가진 Apartment 클래스 찾기 \n",
    "    \"\"\"\n",
    "\n",
    "# 혹시 같은 인덱스가 있으면 같이 출력한다.\n",
    "print(apartments[max_index])\n",
    "for j in range(N):\n",
    "    \"\"\"\"\n",
    "    class magic method인 eq함수 활용\n",
    "    \"\"\"\n",
    "\n",
    "# Vile에 대한 최대평수 출력은 max를 활용해보세요~!\n"
   ]
  },
  {
   "cell_type": "code",
   "execution_count": null,
   "metadata": {},
   "outputs": [],
   "source": []
  }
 ],
 "metadata": {
  "kernelspec": {
   "display_name": "Python 3",
   "language": "python",
   "name": "python3"
  },
  "language_info": {
   "codemirror_mode": {
    "name": "ipython",
    "version": 3
   },
   "file_extension": ".py",
   "mimetype": "text/x-python",
   "name": "python",
   "nbconvert_exporter": "python",
   "pygments_lexer": "ipython3",
   "version": "3.7.3"
  }
 },
 "nbformat": 4,
 "nbformat_minor": 2
}
