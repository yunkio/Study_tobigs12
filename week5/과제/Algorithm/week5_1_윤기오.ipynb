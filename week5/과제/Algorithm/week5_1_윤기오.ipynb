{
 "cells": [
  {
   "cell_type": "code",
   "execution_count": 2,
   "metadata": {},
   "outputs": [
    {
     "name": "stdout",
     "output_type": "stream",
     "text": [
      "two(b,two(one(one(b)),two(a,two(two(a,one(two(a,b))),a))))\n",
      "No Error\n"
     ]
    }
   ],
   "source": [
    "import re\n",
    "def checksyn(mystr) :\n",
    "    if mystr == 'p':\n",
    "        return print('No Error')\n",
    "    elif re.search('t\\([abp],[abp]\\)', mystr) == None and re.search('o\\([abp]\\)', mystr) == None:\n",
    "        return print('Syntax Error')\n",
    "    else :\n",
    "        mystr = re.sub('t\\([abp],[abp]\\)', 'p', mystr)\n",
    "        mystr = re.sub('o\\([abp]\\)', 'p', mystr)\n",
    "        return checksyn(mystr)\n",
    "checksyn(input().replace(\"two\", 't').replace(\"one\", \"o\"))"
   ]
  }
 ],
 "metadata": {
  "kernelspec": {
   "display_name": "Python 3",
   "language": "python",
   "name": "python3"
  },
  "language_info": {
   "codemirror_mode": {
    "name": "ipython",
    "version": 3
   },
   "file_extension": ".py",
   "mimetype": "text/x-python",
   "name": "python",
   "nbconvert_exporter": "python",
   "pygments_lexer": "ipython3",
   "version": "3.7.3"
  }
 },
 "nbformat": 4,
 "nbformat_minor": 2
}
