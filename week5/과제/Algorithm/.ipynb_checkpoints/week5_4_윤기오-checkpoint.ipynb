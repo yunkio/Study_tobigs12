{
 "cells": [
  {
   "cell_type": "code",
   "execution_count": 16,
   "metadata": {},
   "outputs": [
    {
     "name": "stdout",
     "output_type": "stream",
     "text": [
      "9\n",
      "0 0 0 1 1 1 -1 -1 -1\n",
      "0 0 0 1 1 1 -1 -1 -1\n",
      "0 0 0 1 1 1 -1 -1 -1\n",
      "1 1 1 0 0 0 0 0 0\n",
      "1 1 1 0 0 0 0 0 0\n",
      "1 1 1 0 0 0 0 0 0\n",
      "0 -1 1 0 1 -1 0 1 -1\n",
      "0 -1 1 0 1 -1 0 1 -1\n",
      "0 -1 1 0 1 -1 0 1 -1\n",
      "10\n",
      "12\n",
      "11\n"
     ]
    }
   ],
   "source": [
    "from math import sqrt\n",
    "\n",
    "N = int(input())\n",
    "mylist = [sum([(input().replace(\"-1\", \"-\")).split(\" \") for i in range(N)], [])]\n",
    "\n",
    "def devide(mylist) : \n",
    "    devided = []\n",
    "    for i in range(3):\n",
    "        for j in range(3):\n",
    "            tem=[]\n",
    "            for num in range(len(mylist)):\n",
    "                if i*len(mylist)//3 <= num < (i+1)*len(mylist)//3:\n",
    "                    if j*int(sqrt(len(mylist))/3) <= num%int(sqrt(len(mylist))) < (j+1)*int(sqrt(len(mylist))/3):\n",
    "                        tem.extend(mylist[num])\n",
    "            devided.append(tem)\n",
    "    return(devided)\n",
    "\n",
    "s,o,t = 0,0,0\n",
    "for i in mylist:\n",
    "    if (i.count('1') == len(i)) : t += 1\n",
    "    elif (i.count('0') == len(i)) : o += 1\n",
    "    elif (i.count('-') == len(i)) : s += 1\n",
    "    else : \n",
    "        mylist.extend(devide(i))\n",
    "print(s)\n",
    "print(o)\n",
    "print(t)"
   ]
  }
 ],
 "metadata": {
  "kernelspec": {
   "display_name": "Python 3",
   "language": "python",
   "name": "python3"
  },
  "language_info": {
   "codemirror_mode": {
    "name": "ipython",
    "version": 3
   },
   "file_extension": ".py",
   "mimetype": "text/x-python",
   "name": "python",
   "nbconvert_exporter": "python",
   "pygments_lexer": "ipython3",
   "version": "3.7.3"
  }
 },
 "nbformat": 4,
 "nbformat_minor": 2
}
