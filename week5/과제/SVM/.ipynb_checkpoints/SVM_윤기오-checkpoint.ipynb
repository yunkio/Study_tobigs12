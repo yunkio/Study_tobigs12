{
 "cells": [
  {
   "cell_type": "code",
   "execution_count": 11,
   "metadata": {},
   "outputs": [],
   "source": [
    "import pandas as pd\n",
    "import numpy as np\n",
    "import seaborn as sns\n",
    "from sklearn.model_selection import train_test_split\n",
    "from sklearn import svm\n",
    "from sklearn.model_selection import GridSearchCV"
   ]
  },
  {
   "cell_type": "code",
   "execution_count": 3,
   "metadata": {},
   "outputs": [],
   "source": [
    "df = pd.read_csv('./train.csv')"
   ]
  },
  {
   "cell_type": "code",
   "execution_count": 4,
   "metadata": {},
   "outputs": [
    {
     "data": {
      "text/plain": [
       "(200000, 202)"
      ]
     },
     "execution_count": 4,
     "metadata": {},
     "output_type": "execute_result"
    }
   ],
   "source": [
    "df.shape"
   ]
  },
  {
   "cell_type": "code",
   "execution_count": 77,
   "metadata": {},
   "outputs": [],
   "source": [
    "data = df.sample(n=10000, random_state=1)\n",
    "X = data.iloc[:, 2:]\n",
    "y = data.iloc[:, 1:2]\n",
    "X_train, X_test, y_train, y_test = train_test_split(X, y, test_size=0.2, random_state=1)"
   ]
  },
  {
   "cell_type": "code",
   "execution_count": 31,
   "metadata": {},
   "outputs": [
    {
     "data": {
      "text/plain": [
       "GridSearchCV(cv=5, error_score='raise-deprecating',\n",
       "             estimator=SVC(C=1.0, cache_size=200, class_weight=None, coef0=0.0,\n",
       "                           decision_function_shape='ovr', degree=3,\n",
       "                           gamma='auto_deprecated', kernel='rbf', max_iter=-1,\n",
       "                           probability=False, random_state=None, shrinking=True,\n",
       "                           tol=0.001, verbose=False),\n",
       "             iid='warn', n_jobs=None,\n",
       "             param_grid={'C': [0.001, 0.01, 0.1, 1, 10],\n",
       "                         'gamma': [0.001, 0.01, 0.1, 1]},\n",
       "             pre_dispatch='2*n_jobs', refit=True, return_train_score=False,\n",
       "             scoring=None, verbose=0)"
      ]
     },
     "execution_count": 31,
     "metadata": {},
     "output_type": "execute_result"
    }
   ],
   "source": [
    "param_grid = {'C' : [0.001, 0.01, 0.1, 1, 10], 'gamma' : [0.001, 0.01, 0.1, 1]}\n",
    "grid_search = GridSearchCV(svm.SVC(kernel='rbf'), param_grid, cv=5)\n",
    "grid_search.fit(X_train, y_train.values.ravel())"
   ]
  },
  {
   "cell_type": "code",
   "execution_count": 32,
   "metadata": {},
   "outputs": [
    {
     "name": "stdout",
     "output_type": "stream",
     "text": [
      "0.907375\n",
      "{'C': 0.001, 'gamma': 0.001}\n"
     ]
    }
   ],
   "source": [
    "print(grid_search.best_score_)\n",
    "print(grid_search.best_params_)"
   ]
  },
  {
   "cell_type": "code",
   "execution_count": null,
   "metadata": {},
   "outputs": [],
   "source": [
    "# 0.907375\n",
    "# {'C': 0.001, 'gamma': 0.001}"
   ]
  },
  {
   "cell_type": "code",
   "execution_count": 78,
   "metadata": {},
   "outputs": [
    {
     "name": "stderr",
     "output_type": "stream",
     "text": [
      "C:\\ProgramData\\Anaconda3\\lib\\site-packages\\sklearn\\utils\\validation.py:724: DataConversionWarning: A column-vector y was passed when a 1d array was expected. Please change the shape of y to (n_samples, ), for example using ravel().\n",
      "  y = column_or_1d(y, warn=True)\n"
     ]
    },
    {
     "name": "stdout",
     "output_type": "stream",
     "text": [
      "Accuracy Score:\n",
      "0.9005\n"
     ]
    }
   ],
   "source": [
    "from sklearn.svm import SVC\n",
    "from sklearn import metrics\n",
    "\n",
    "svc = SVC(C=0.001, gamma=0.001, kernel='rbf')\n",
    "svc.fit(X_train,y_train)\n",
    "y_pred=svc.predict(X_test)\n",
    "print('Accuracy Score:')\n",
    "print(metrics.accuracy_score(y_test,y_pred))"
   ]
  },
  {
   "cell_type": "code",
   "execution_count": null,
   "metadata": {},
   "outputs": [],
   "source": [
    "# Accuracy Score:\n",
    "# 0.9005"
   ]
  },
  {
   "cell_type": "markdown",
   "metadata": {},
   "source": [
    "### PCA 후 적용"
   ]
  },
  {
   "cell_type": "code",
   "execution_count": 53,
   "metadata": {},
   "outputs": [],
   "source": [
    "from sklearn.decomposition import PCA\n",
    "from sklearn.discriminant_analysis import LinearDiscriminantAnalysis\n",
    "from sklearn.preprocessing import StandardScaler\n",
    "from sklearn.pipeline import make_pipeline"
   ]
  },
  {
   "cell_type": "code",
   "execution_count": null,
   "metadata": {},
   "outputs": [],
   "source": [
    "# 이미 표준화가 된 데이터임"
   ]
  },
  {
   "cell_type": "code",
   "execution_count": 60,
   "metadata": {},
   "outputs": [
    {
     "name": "stdout",
     "output_type": "stream",
     "text": [
      "0 : 0\n",
      "1 : 0.07138286868551509\n",
      "2 : 0.10279799272806181\n",
      "3 : 0.13072078993585498\n",
      "4 : 0.15740804807337497\n",
      "5 : 0.18235860140124588\n",
      "6 : 0.2051832450305198\n",
      "7 : 0.22766746478810473\n",
      "8 : 0.24889687084326745\n",
      "9 : 0.26964322429137305\n",
      "10 : 0.2894891717877761\n",
      "11 : 0.30807221847539545\n",
      "12 : 0.3258765712315611\n",
      "13 : 0.34292017872752084\n",
      "14 : 0.3595635419862742\n",
      "15 : 0.37613459599704824\n",
      "16 : 0.3895558376479218\n",
      "17 : 0.4030511476351802\n",
      "18 : 0.41578572770643235\n",
      "19 : 0.4277892245974349\n",
      "20 : 0.43886492139189\n",
      "21 : 0.45058504743400624\n",
      "22 : 0.46130799453119753\n",
      "23 : 0.4734846026997019\n",
      "24 : 0.485096196279608\n",
      "25 : 0.4961342377266021\n",
      "26 : 0.5074865004296207\n",
      "27 : 0.5182435060272284\n",
      "28 : 0.5287859685631496\n",
      "29 : 0.5392881779415385\n",
      "30 : 0.5494177533484749\n",
      "31 : 0.5606047373904732\n",
      "32 : 0.5701807964511079\n",
      "33 : 0.5804923093581071\n",
      "34 : 0.5889275027608883\n",
      "35 : 0.5999181388651608\n",
      "36 : 0.609862063400216\n",
      "37 : 0.618947856617433\n",
      "38 : 0.628529930794749\n",
      "39 : 0.6373839336370625\n",
      "40 : 0.6473870988299065\n",
      "41 : 0.6562283957063025\n",
      "42 : 0.6651638225402664\n",
      "43 : 0.6737051671590578\n",
      "44 : 0.6820462696188915\n",
      "45 : 0.691192066409826\n",
      "46 : 0.6995561967588061\n",
      "47 : 0.7081865140448447\n",
      "48 : 0.7155488905375583\n",
      "49 : 0.7227737816506485\n",
      "50 : 0.7295538807481526\n",
      "51 : 0.7356559712333626\n",
      "52 : 0.741485660455848\n",
      "53 : 0.7473947598651766\n",
      "54 : 0.7535894603947975\n",
      "55 : 0.7588460751065182\n",
      "56 : 0.7648528849821569\n",
      "57 : 0.7699717735160727\n",
      "58 : 0.775751660630959\n",
      "59 : 0.7810620991506865\n",
      "60 : 0.7860659631777113\n",
      "61 : 0.791072590542512\n",
      "62 : 0.7964656968822724\n",
      "63 : 0.800879355110272\n",
      "64 : 0.8062635915461196\n",
      "65 : 0.8111245792147926\n",
      "66 : 0.8156042996835384\n",
      "67 : 0.8205295784144345\n",
      "68 : 0.8251299151223234\n",
      "69 : 0.8296901317570597\n",
      "70 : 0.8339586124113495\n",
      "71 : 0.8381566435592032\n",
      "72 : 0.8423695272451324\n",
      "73 : 0.8461212835956083\n",
      "74 : 0.8506539008820557\n",
      "75 : 0.8542104459251624\n",
      "76 : 0.857846364477185\n",
      "77 : 0.8619586537575719\n",
      "78 : 0.8656001600396193\n",
      "79 : 0.8687856284446296\n",
      "80 : 0.8723095659876112\n",
      "81 : 0.8751771250061058\n",
      "82 : 0.8786923071170558\n",
      "83 : 0.881784162531891\n",
      "84 : 0.8850075472548803\n",
      "85 : 0.8878890937041239\n",
      "86 : 0.8907565369095741\n",
      "87 : 0.8938740639980857\n",
      "88 : 0.8967018843626541\n",
      "89 : 0.8994591525313317\n",
      "90 : 0.9024854263241807\n",
      "91 : 0.9051967542116116\n",
      "92 : 0.9079024490302642\n",
      "93 : 0.9105757439191823\n",
      "94 : 0.9131572694228718\n",
      "95 : 0.9157333578836759\n",
      "96 : 0.9183274178591092\n",
      "97 : 0.9207553972139189\n",
      "98 : 0.9231750399880828\n",
      "99 : 0.9257843860765794\n",
      "100 : 0.9280221187999834\n",
      "101 : 0.9305503273551752\n",
      "102 : 0.9327607792473436\n",
      "103 : 0.9350276166216273\n",
      "104 : 0.9374895693484575\n",
      "105 : 0.9396515387974526\n",
      "106 : 0.9418800131732692\n",
      "107 : 0.9439520255940573\n",
      "108 : 0.945995910566474\n",
      "109 : 0.9478746126119777\n",
      "110 : 0.9497321881546565\n",
      "111 : 0.9514648637212929\n",
      "112 : 0.9531122970896099\n",
      "113 : 0.9547623357248493\n",
      "114 : 0.9562875585433025\n",
      "115 : 0.957817667376384\n",
      "116 : 0.9593033647589841\n",
      "117 : 0.960862372587751\n",
      "118 : 0.9622957222393544\n",
      "119 : 0.9637349175742224\n",
      "120 : 0.9651183214258786\n",
      "121 : 0.9664853410627293\n",
      "122 : 0.9679021989810008\n",
      "123 : 0.9692738753336488\n",
      "124 : 0.9705038816447926\n",
      "125 : 0.9717254104764069\n",
      "126 : 0.9730938759563124\n",
      "127 : 0.9742720224931076\n",
      "128 : 0.9755159387313024\n",
      "129 : 0.9766365554127133\n",
      "130 : 0.9776788283646486\n",
      "131 : 0.9788768794979336\n",
      "132 : 0.9799196719817548\n",
      "133 : 0.9809378696451468\n",
      "134 : 0.9819707278845654\n",
      "135 : 0.9829728922599827\n",
      "136 : 0.9839534614901004\n",
      "137 : 0.9848920623175464\n",
      "138 : 0.9858272552336154\n",
      "139 : 0.9866295331025378\n",
      "140 : 0.9874244446382945\n",
      "141 : 0.988201504980061\n",
      "142 : 0.988900011349309\n",
      "143 : 0.9895492160281292\n",
      "144 : 0.9901756862783998\n",
      "145 : 0.9908032784453905\n",
      "146 : 0.9914107076854712\n",
      "147 : 0.9920041775126873\n",
      "148 : 0.9925407796184947\n",
      "149 : 0.9930636906615685\n",
      "150 : 0.9935166940166185\n",
      "151 : 0.9939376414290869\n",
      "152 : 0.9943382208324687\n",
      "153 : 0.9947285868640543\n",
      "154 : 0.9950803922439599\n",
      "155 : 0.9954290527241774\n",
      "156 : 0.9957654818992996\n",
      "157 : 0.9960918155266184\n",
      "158 : 0.9964047537772093\n",
      "159 : 0.9967066630173472\n",
      "160 : 0.9969951152479438\n",
      "161 : 0.9972589298048116\n",
      "162 : 0.9974909000436227\n",
      "163 : 0.9976824235193024\n",
      "164 : 0.9978582836004272\n",
      "165 : 0.9980066381741339\n",
      "166 : 0.9981538782315134\n",
      "167 : 0.998294524196113\n",
      "168 : 0.9984264389184895\n",
      "169 : 0.9985549228993041\n",
      "170 : 0.9986698207289195\n",
      "171 : 0.9987835393737372\n",
      "172 : 0.9988924056844066\n",
      "173 : 0.9989987967409588\n",
      "174 : 0.9990983004194379\n",
      "175 : 0.9991908737399224\n",
      "176 : 0.9992825186913824\n",
      "177 : 0.9993715989622787\n",
      "178 : 0.9994508760040578\n",
      "179 : 0.9995261870174368\n",
      "180 : 0.9995997865407128\n",
      "181 : 0.999659217095743\n",
      "182 : 0.9997048294885067\n",
      "183 : 0.9997501857005547\n",
      "184 : 0.9997922857643565\n",
      "185 : 0.9998246233487001\n",
      "186 : 0.9998506409423124\n",
      "187 : 0.9998726620100217\n",
      "188 : 0.9998938544827789\n",
      "189 : 0.9999140901816733\n",
      "190 : 0.9999296232607006\n",
      "191 : 0.9999442539054364\n",
      "192 : 0.9999567259945105\n",
      "193 : 0.9999677429891055\n",
      "194 : 0.9999750553147457\n",
      "195 : 0.9999811276028653\n",
      "196 : 0.9999867099540551\n",
      "197 : 0.9999920135732728\n",
      "198 : 0.9999963860324886\n",
      "199 : 0.9999999920747596\n"
     ]
    }
   ],
   "source": [
    "for i in range(len(X.columns)):\n",
    "    model = PCA(n_components=i)\n",
    "    pca_features = model.fit_transform(X)\n",
    "    print(str(i) + \" : \" + str(sum(model.explained_variance_ratio_)))"
   ]
  },
  {
   "cell_type": "code",
   "execution_count": null,
   "metadata": {},
   "outputs": [],
   "source": [
    "# 최초로 누적설명률이 75%가 넘는 54로 n_components를 선택"
   ]
  },
  {
   "cell_type": "code",
   "execution_count": 65,
   "metadata": {},
   "outputs": [],
   "source": [
    "model = PCA(n_components=54)\n",
    "pca_features = model.fit_transform(X)\n",
    "X = pd.DataFrame(pca_features)"
   ]
  },
  {
   "cell_type": "code",
   "execution_count": 66,
   "metadata": {},
   "outputs": [],
   "source": [
    "X_train, X_test, y_train, y_test = train_test_split(X, y, test_size=0.2, random_state=1)"
   ]
  },
  {
   "cell_type": "code",
   "execution_count": null,
   "metadata": {},
   "outputs": [],
   "source": [
    "param_grid = {'C' : [0.001, 0.01, 0.1, 1, 10], 'gamma' : [0.001, 0.01, 0.1, 1]}\n",
    "grid_search = GridSearchCV(svm.SVC(kernel='rbf'), param_grid, cv=5)\n",
    "grid_search.fit(X_train, y_train.values.ravel())"
   ]
  },
  {
   "cell_type": "code",
   "execution_count": null,
   "metadata": {},
   "outputs": [],
   "source": [
    "print(grid_search.best_params_)\n",
    "print(grid_search.best_score_)"
   ]
  },
  {
   "cell_type": "code",
   "execution_count": null,
   "metadata": {},
   "outputs": [],
   "source": [
    "# 0.907375\n",
    "# {'C': 0.001, 'gamma': 0.001}\n",
    "# 위와 같이 C값과 gamma값이 grid의 가장 낮은 값으로 선정되었음\n",
    "# kernel을 linear로 한 값도 평가할 필요가 있어보임"
   ]
  },
  {
   "cell_type": "code",
   "execution_count": 82,
   "metadata": {},
   "outputs": [
    {
     "data": {
      "text/plain": [
       "GridSearchCV(cv=5, error_score='raise-deprecating',\n",
       "             estimator=SVC(C=1.0, cache_size=200, class_weight=None, coef0=0.0,\n",
       "                           decision_function_shape='ovr', degree=3,\n",
       "                           gamma='auto_deprecated', kernel='linear',\n",
       "                           max_iter=-1, probability=False, random_state=None,\n",
       "                           shrinking=True, tol=0.001, verbose=False),\n",
       "             iid='warn', n_jobs=None, param_grid={'C': [1e-05, 0.0001, 0.001]},\n",
       "             pre_dispatch='2*n_jobs', refit=True, return_train_score=False,\n",
       "             scoring=None, verbose=0)"
      ]
     },
     "execution_count": 82,
     "metadata": {},
     "output_type": "execute_result"
    }
   ],
   "source": [
    "param_grid = {'C' : [0.00001, 0.0001, 0.001]}\n",
    "grid_search = GridSearchCV(svm.SVC(kernel='linear'), param_grid, cv=5)\n",
    "grid_search.fit(X_train, y_train.values.ravel())"
   ]
  },
  {
   "cell_type": "code",
   "execution_count": 83,
   "metadata": {},
   "outputs": [
    {
     "name": "stdout",
     "output_type": "stream",
     "text": [
      "{'C': 1e-05}\n",
      "0.907375\n"
     ]
    }
   ],
   "source": [
    "print(grid_search.best_params_)\n",
    "print(grid_search.best_score_)"
   ]
  },
  {
   "cell_type": "code",
   "execution_count": null,
   "metadata": {},
   "outputs": [],
   "source": [
    "# {'C': 1e-05}\n",
    "# 0.907375\n",
    "# 다 같은 점수(정확도)로 평가된다.. ㅠㅠ"
   ]
  },
  {
   "cell_type": "code",
   "execution_count": 91,
   "metadata": {},
   "outputs": [
    {
     "name": "stderr",
     "output_type": "stream",
     "text": [
      "C:\\ProgramData\\Anaconda3\\lib\\site-packages\\sklearn\\utils\\validation.py:724: DataConversionWarning: A column-vector y was passed when a 1d array was expected. Please change the shape of y to (n_samples, ), for example using ravel().\n",
      "  y = column_or_1d(y, warn=True)\n"
     ]
    },
    {
     "name": "stdout",
     "output_type": "stream",
     "text": [
      "Accuracy Score:\n",
      "0.9005\n"
     ]
    }
   ],
   "source": [
    "from sklearn.svm import SVC\n",
    "from sklearn import metrics\n",
    "\n",
    "svc = SVC(C=1e-05, kernel='linear')\n",
    "svc.fit(X_train,y_train)\n",
    "y_pred=svc.predict(X_test)\n",
    "print('Accuracy Score:')\n",
    "print(metrics.accuracy_score(y_test,y_pred))"
   ]
  },
  {
   "cell_type": "code",
   "execution_count": 92,
   "metadata": {},
   "outputs": [],
   "source": [
    "# Accuracy Score:\n",
    "# 0.9005\n",
    "\n",
    "# 정확도 역시 같다.."
   ]
  },
  {
   "cell_type": "code",
   "execution_count": null,
   "metadata": {},
   "outputs": [],
   "source": []
  }
 ],
 "metadata": {
  "kernelspec": {
   "display_name": "Python 3",
   "language": "python",
   "name": "python3"
  },
  "language_info": {
   "codemirror_mode": {
    "name": "ipython",
    "version": 3
   },
   "file_extension": ".py",
   "mimetype": "text/x-python",
   "name": "python",
   "nbconvert_exporter": "python",
   "pygments_lexer": "ipython3",
   "version": "3.7.3"
  }
 },
 "nbformat": 4,
 "nbformat_minor": 2
}
