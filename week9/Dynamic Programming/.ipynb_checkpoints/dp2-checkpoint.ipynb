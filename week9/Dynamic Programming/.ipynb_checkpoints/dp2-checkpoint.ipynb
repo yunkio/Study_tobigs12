{
 "cells": [
  {
   "cell_type": "code",
   "execution_count": 114,
   "metadata": {},
   "outputs": [],
   "source": [
    "import numpy as np\n",
    "from random import randint\n",
    "import sys\n",
    "from time import time\n",
    "\n",
    "sys.setrecursionlimit(10000)"
   ]
  },
  {
   "cell_type": "code",
   "execution_count": 115,
   "metadata": {},
   "outputs": [],
   "source": [
    "# 랜덤으로 장애물 위치 정하기\n",
    "\n",
    "def gen_stop(sz, num):\n",
    "    x, y = sz\n",
    "    if num > x * y // 4:\n",
    "        print(\"Too many num value.\")\n",
    "        return\n",
    "    \n",
    "    s = set()\n",
    "    \n",
    "    while len(s) != num:\n",
    "        a, b = randint(0, x - 1), randint(0, y - 1)\n",
    "        if (a, b) in s:\n",
    "            continue\n",
    "        if (a, b) == (0, 0) or (a, b) == (x - 1, y - 1):\n",
    "            continue\n",
    "            \n",
    "        s.add((a, b))\n",
    "        \n",
    "    return list(s)"
   ]
  },
  {
   "cell_type": "code",
   "execution_count": 116,
   "metadata": {},
   "outputs": [],
   "source": [
    "## initialize condition\n",
    "\n",
    "sz = (7, 7)\n",
    "r, c = sz\n",
    "\n",
    "stop = [(0, 5), (2, 2), (3, 4), (6, 0)]\n",
    "## stop = gen_stop(sz, 10)"
   ]
  },
  {
   "cell_type": "code",
   "execution_count": 117,
   "metadata": {},
   "outputs": [],
   "source": [
    "'''\n",
    "직접 일일이 방문하여 도착점에 도착하면 테이블의 값을 1 추가\n",
    "'''\n",
    "\n",
    "def get_ans_bt(bt, i, j):\n",
    "    if (i, j) in stop or i < 0 or j < 0 or i >= bt.shape[0] or j >= bt.shape[1]:\n",
    "        return bt\n",
    "    \n",
    "    bt[i][j] += 1\n",
    "\n",
    "    get_ans_bt(bt, i + 1, j)\n",
    "    get_ans_bt(bt, i, j + 1)\n",
    "    \n",
    "    return bt"
   ]
  },
  {
   "cell_type": "code",
   "execution_count": 118,
   "metadata": {},
   "outputs": [],
   "source": [
    "'''\n",
    "정의: tb[i][j] = (src 에서 (i, j) 까지 갈 수 있는 최단 경로의 경우의 수)\n",
    "\n",
    "why? 정답은 tb[end] 가 될 것이기 때문\n",
    "\n",
    "how? tb[i][j] = tb[i - 1][j] + tb[i][j - 1] 임을 이용\n",
    "'''\n",
    "\n",
    "def get_ans_dp(dp):\n",
    "    r, c = dp.shape\n",
    "    \n",
    "    # 출발점은 자명히 1\n",
    "    dp[0][0] = 1\n",
    "    \n",
    "    # dp\n",
    "    for i in range(0, r):\n",
    "        for j in range(0, c):\n",
    "            # 현 위치가 장애물이면 0 유지\n",
    "            if (i, j) in stop:\n",
    "                continue\n",
    "            \n",
    "            # 음수 인덱스에 접근하지 않으려면 i, j > 0 이 보장 되어야 함.\n",
    "            if i > 0:\n",
    "                dp[i][j] += dp[i - 1][j]\n",
    "            if j > 0:\n",
    "                dp[i][j] += dp[i][j - 1] \n",
    "                \n",
    "    return dp"
   ]
  },
  {
   "cell_type": "code",
   "execution_count": 119,
   "metadata": {},
   "outputs": [
    {
     "data": {
      "text/plain": [
       "array([[  1,   1,   1,   1,   1,   0,   0],\n",
       "       [  1,   2,   3,   4,   5,   5,   5],\n",
       "       [  1,   3,   0,   4,   9,  14,  19],\n",
       "       [  1,   4,   4,   8,   0,  14,  33],\n",
       "       [  1,   5,   9,  17,  17,  31,  64],\n",
       "       [  1,   6,  15,  32,  49,  80, 144],\n",
       "       [  0,   6,  21,  53, 102, 182, 326]], dtype=int64)"
      ]
     },
     "execution_count": 119,
     "metadata": {},
     "output_type": "execute_result"
    }
   ],
   "source": [
    "get_ans_bt(np.zeros(sz, dtype=np.int64), 0, 0)"
   ]
  },
  {
   "cell_type": "code",
   "execution_count": 120,
   "metadata": {},
   "outputs": [
    {
     "data": {
      "text/plain": [
       "array([[  1,   1,   1,   1,   1,   0,   0],\n",
       "       [  1,   2,   3,   4,   5,   5,   5],\n",
       "       [  1,   3,   0,   4,   9,  14,  19],\n",
       "       [  1,   4,   4,   8,   0,  14,  33],\n",
       "       [  1,   5,   9,  17,  17,  31,  64],\n",
       "       [  1,   6,  15,  32,  49,  80, 144],\n",
       "       [  0,   6,  21,  53, 102, 182, 326]], dtype=int64)"
      ]
     },
     "execution_count": 120,
     "metadata": {},
     "output_type": "execute_result"
    }
   ],
   "source": [
    "get_ans_dp(np.zeros(sz, dtype=np.int64))"
   ]
  },
  {
   "cell_type": "code",
   "execution_count": 121,
   "metadata": {},
   "outputs": [
    {
     "data": {
      "text/plain": [
       "0.004986286163330078"
      ]
     },
     "execution_count": 121,
     "metadata": {},
     "output_type": "execute_result"
    }
   ],
   "source": [
    "a = time()\n",
    "get_ans_bt(np.zeros(sz, dtype=np.int64), 0, 0)\n",
    "b = time()\n",
    "\n",
    "b - a"
   ]
  },
  {
   "cell_type": "code",
   "execution_count": 122,
   "metadata": {},
   "outputs": [
    {
     "data": {
      "text/plain": [
       "0.0"
      ]
     },
     "execution_count": 122,
     "metadata": {},
     "output_type": "execute_result"
    }
   ],
   "source": [
    "a = time()\n",
    "get_ans_dp(np.zeros(sz, dtype=np.int64))\n",
    "b = time()\n",
    "\n",
    "b - a"
   ]
  },
  {
   "cell_type": "code",
   "execution_count": null,
   "metadata": {},
   "outputs": [],
   "source": []
  },
  {
   "cell_type": "code",
   "execution_count": null,
   "metadata": {},
   "outputs": [],
   "source": []
  }
 ],
 "metadata": {
  "kernelspec": {
   "display_name": "Python 3",
   "language": "python",
   "name": "python3"
  },
  "language_info": {
   "codemirror_mode": {
    "name": "ipython",
    "version": 3
   },
   "file_extension": ".py",
   "mimetype": "text/x-python",
   "name": "python",
   "nbconvert_exporter": "python",
   "pygments_lexer": "ipython3",
   "version": "3.7.3"
  }
 },
 "nbformat": 4,
 "nbformat_minor": 2
}
