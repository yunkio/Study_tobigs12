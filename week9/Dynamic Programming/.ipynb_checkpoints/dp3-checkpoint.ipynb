{
 "cells": [
  {
   "cell_type": "code",
   "execution_count": 68,
   "metadata": {},
   "outputs": [],
   "source": [
    "import numpy as np\n",
    "from random import randint, choice"
   ]
  },
  {
   "cell_type": "code",
   "execution_count": 69,
   "metadata": {},
   "outputs": [],
   "source": [
    "# 랜덤으로 장애물 위치 정하기\n",
    "\n",
    "def gen_stop(sz, num):\n",
    "    x, y = sz\n",
    "    if num > x * y // 4:\n",
    "        print(\"Too many num value.\")\n",
    "        return\n",
    "    \n",
    "    s = set()\n",
    "    \n",
    "    while len(s) != num:\n",
    "        a, b = randint(0, x - 1), randint(0, y - 1)\n",
    "        if (a, b) in s:\n",
    "            continue\n",
    "        if (a, b) == (0, 0) or (a, b) == (x - 1, y - 1):\n",
    "            continue\n",
    "            \n",
    "        s.add((a, b))\n",
    "        \n",
    "    return list(s)"
   ]
  },
  {
   "cell_type": "code",
   "execution_count": 70,
   "metadata": {},
   "outputs": [],
   "source": [
    "## initialize condition\n",
    "\n",
    "sz = (7, 7)\n",
    "r, c = sz\n",
    "\n",
    "stop = [(0, 5), (2, 2), (3, 4), (6, 0)]\n",
    "# stop = gen_stop(sz, 1)\n",
    "    \n",
    "gamma = 0.95\n",
    "## 감가율"
   ]
  },
  {
   "cell_type": "code",
   "execution_count": 71,
   "metadata": {},
   "outputs": [],
   "source": [
    "'''\n",
    "보상 값을 저장하는 테이블\n",
    "사실 보상은 상태 s 와 행동 a 에 관한 값이므로 인자가 상태와 행동이여야 하지만, 우리의 환경에서는 상태 변환 확률이 1이다.\n",
    "따라서 다음 상태로 보상을 알 수 있으므로 편의를 위해 보상 테이블을 만들자.\n",
    "'''\n",
    "def get_reward_table(sz, stop):\n",
    "    r, c = sz\n",
    "    \n",
    "    reward_table = np.zeros(sz)\n",
    "    for x in stop:\n",
    "        reward_table[x] = -1\n",
    "    reward_table[r - 1][c - 1] = 1\n",
    "    \n",
    "    return reward_table\n",
    "\n",
    "\n",
    "'''\n",
    "지금까지 배운 dp 방법을 이용해 가치 이터레이션 구현\n",
    "'''\n",
    "def get_vtable(sz, stop, gamma, itr_num):\n",
    "    r, c = sz\n",
    "    dr = [(-1, 0), (0, -1), (1, 0), (0, 1)]\n",
    "    # 각 방향\n",
    "    \n",
    "    rtable = get_reward_table(sz, stop)\n",
    "    vtable = np.zeros(sz)\n",
    "    # k 번째 타임스텝에 대한 가치가 들어갈 테이블\n",
    "    \n",
    "    for itr in range(itr_num):\n",
    "        new_vtable = np.zeros(sz)\n",
    "        # k + 1 번째 타임스텝에 대한 가치가 들어갈 테이블\n",
    "        \n",
    "        for i in range(r):\n",
    "            for j in range(c):\n",
    "                if (i, j) == (r - 1, c - 1) or (i, j) in stop:\n",
    "                    # 상태가 도착 지점이거나 장애물이면 끝나는 지점이기 때문에, 가치를 감안 할 필요가 없다.\n",
    "                    continue\n",
    "                \n",
    "                val_list = []\n",
    "                for dx, dy in dr:\n",
    "                    x, y = i + dx, j + dy\n",
    "                    if x < 0 or y < 0 or x >= r or y >= r:\n",
    "                        # 인덱싱 에러 방지\n",
    "                        continue\n",
    "                        \n",
    "                    # 벨만 최적 방정식에 따른 점화식을 이용한다.\n",
    "                    val = rtable[x][y] + gamma * vtable[x][y]\n",
    "                    val_list.append(val)\n",
    "                    \n",
    "                # 가치 이터레이션이기 때문에 max 값만 취한다.\n",
    "                new_vtable[i][j] = round(max(val_list), 3)\n",
    "        \n",
    "        vtable = new_vtable\n",
    "        \n",
    "    return vtable                   "
   ]
  },
  {
   "cell_type": "code",
   "execution_count": 72,
   "metadata": {},
   "outputs": [],
   "source": [
    "'''\n",
    "가치 테이블에 인자로 주어지면 이에 따라 탐욕 정책으로 행동하는 에이전트의 에피소드를 출력하는 함수\n",
    "'''\n",
    "def print_episode(table, stop, gamma):\n",
    "    src = (0, 0)\n",
    "    timestep = 0\n",
    "    \n",
    "    r, c = table.shape\n",
    "    dr = [(-1, 0), (0, -1), (1, 0), (0, 1)]\n",
    "    rtable = get_reward_table(sz, stop)\n",
    "    \n",
    "    while src not in stop and src != (r - 1, c - 1):\n",
    "        print(\"timestep: {} current posion: {}\".format(timestep, src))\n",
    "        val_list = []\n",
    "        act_list = []\n",
    "        for dx, dy in dr:\n",
    "            x, y = src[0] + dx, src[1] + dy\n",
    "            if x < 0 or y < 0 or x >= r or y >= r:\n",
    "                continue\n",
    "            val = rtable[x][y] + gamma * table[x][y]\n",
    "            val_list.append(val)\n",
    "            act_list.append((x, y))\n",
    "            \n",
    "        candidate = []\n",
    "        mx = max(val_list)\n",
    "        for v, a in zip(val_list, act_list):\n",
    "            if v == mx:\n",
    "                candidate.append(a)\n",
    "                \n",
    "        src = choice(candidate)\n",
    "        timestep += 1\n",
    "        \n",
    "    print(\"timestep: {} current posion: {}\".format(timestep, src))"
   ]
  },
  {
   "cell_type": "code",
   "execution_count": 83,
   "metadata": {},
   "outputs": [
    {
     "data": {
      "text/plain": [
       "array([[0.568, 0.598, 0.629, 0.662, 0.697, 0.   , 0.773],\n",
       "       [0.598, 0.629, 0.662, 0.697, 0.734, 0.773, 0.814],\n",
       "       [0.629, 0.662, 0.   , 0.734, 0.773, 0.814, 0.857],\n",
       "       [0.662, 0.697, 0.734, 0.773, 0.   , 0.857, 0.902],\n",
       "       [0.697, 0.734, 0.773, 0.814, 0.857, 0.902, 0.95 ],\n",
       "       [0.734, 0.773, 0.814, 0.857, 0.902, 0.95 , 1.   ],\n",
       "       [0.   , 0.814, 0.857, 0.902, 0.95 , 1.   , 0.   ]])"
      ]
     },
     "execution_count": 83,
     "metadata": {},
     "output_type": "execute_result"
    }
   ],
   "source": [
    "vtb = get_vtable(sz, stop, gamma, 35)\n",
    "\n",
    "vtb"
   ]
  },
  {
   "cell_type": "code",
   "execution_count": 86,
   "metadata": {},
   "outputs": [
    {
     "name": "stdout",
     "output_type": "stream",
     "text": [
      "timestep: 0 current posion: (0, 0)\n",
      "timestep: 1 current posion: (0, 1)\n",
      "timestep: 2 current posion: (1, 1)\n",
      "timestep: 3 current posion: (1, 2)\n",
      "timestep: 4 current posion: (1, 3)\n",
      "timestep: 5 current posion: (1, 4)\n",
      "timestep: 6 current posion: (2, 4)\n",
      "timestep: 7 current posion: (2, 5)\n",
      "timestep: 8 current posion: (3, 5)\n",
      "timestep: 9 current posion: (3, 6)\n",
      "timestep: 10 current posion: (4, 6)\n",
      "timestep: 11 current posion: (5, 6)\n",
      "timestep: 12 current posion: (6, 6)\n"
     ]
    }
   ],
   "source": [
    "print_episode(vtb, stop, gamma)"
   ]
  },
  {
   "cell_type": "code",
   "execution_count": null,
   "metadata": {},
   "outputs": [],
   "source": []
  }
 ],
 "metadata": {
  "kernelspec": {
   "display_name": "Python 3",
   "language": "python",
   "name": "python3"
  },
  "language_info": {
   "codemirror_mode": {
    "name": "ipython",
    "version": 3
   },
   "file_extension": ".py",
   "mimetype": "text/x-python",
   "name": "python",
   "nbconvert_exporter": "python",
   "pygments_lexer": "ipython3",
   "version": "3.7.3"
  }
 },
 "nbformat": 4,
 "nbformat_minor": 2
}
