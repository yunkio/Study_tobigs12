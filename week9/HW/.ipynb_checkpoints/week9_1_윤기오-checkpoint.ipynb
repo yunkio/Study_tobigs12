{
 "cells": [
  {
   "cell_type": "code",
   "execution_count": 34,
   "metadata": {},
   "outputs": [
    {
     "name": "stdin",
     "output_type": "stream",
     "text": [
      " 6\n",
      " 2\n",
      " 2\n",
      " 1\n",
      " 1\n",
      " 2\n",
      " 2\n"
     ]
    }
   ],
   "source": [
    "N = int(input())\n",
    "rooms = [0] + [int(input()) for i in range(N)]"
   ]
  },
  {
   "cell_type": "code",
   "execution_count": 38,
   "metadata": {},
   "outputs": [
    {
     "name": "stdout",
     "output_type": "stream",
     "text": [
      "8\n"
     ]
    }
   ],
   "source": [
    "result = []\n",
    "for num in range(len(rooms)) :\n",
    "    if num <= 1 : \n",
    "        result.append(rooms[num])\n",
    "    elif num == 2 :\n",
    "        result.append(rooms[1] + rooms[2])\n",
    "    else :\n",
    "        result.append(max(result[num-1], result[num-2]+rooms[num], result[num-3]+rooms[num-1]+rooms[num]))\n",
    "print(result[-1])"
   ]
  }
 ],
 "metadata": {
  "kernelspec": {
   "display_name": "Python 3",
   "language": "python",
   "name": "python3"
  },
  "language_info": {
   "codemirror_mode": {
    "name": "ipython",
    "version": 3
   },
   "file_extension": ".py",
   "mimetype": "text/x-python",
   "name": "python",
   "nbconvert_exporter": "python",
   "pygments_lexer": "ipython3",
   "version": "3.7.3"
  }
 },
 "nbformat": 4,
 "nbformat_minor": 4
}
