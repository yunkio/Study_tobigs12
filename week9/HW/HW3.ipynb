{
 "cells": [
  {
   "cell_type": "markdown",
   "metadata": {},
   "source": [
    "# 과제3"
   ]
  },
  {
   "cell_type": "markdown",
   "metadata": {},
   "source": [
    "### Object detection이란?"
   ]
  },
  {
   "cell_type": "markdown",
   "metadata": {},
   "source": [
    "여러 물체에 대해 어떤 물체인지 분류하는 Classification과 그 물체가 어디 있는지 네모 박스(Boundㅡing box)를 통해 위치 정보를 나타내는 Localiaiton 문제를 둘 다 해내는 분야"
   ]
  },
  {
   "cell_type": "markdown",
   "metadata": {},
   "source": [
    "#### 1-Stage vs 2-Stage ?"
   ]
  },
  {
   "cell_type": "markdown",
   "metadata": {},
   "source": [
    "위의 Classification과 Location을 동시에 행하냐, 순차적으로 행하냐에 따라 1-Stage와 2-Stage가 나뉜다. 1-stage는 이 두 문제를 동시에 행하는 방법이며 2-stage는 이 두 문제를 순차적으로 행하는 방법이다.\n"
   ]
  },
  {
   "cell_type": "markdown",
   "metadata": {},
   "source": [
    "#### 1-Stage"
   ]
  },
  {
   "cell_type": "markdown",
   "metadata": {},
   "source": [
    "Classification과 Location을 동시에 행한다. 비교적 빠르지만 정확도가 낮다.\n",
    "\n",
    "예) YOLO, SSD, Focal Loss, RefineDet, ..."
   ]
  },
  {
   "cell_type": "markdown",
   "metadata": {},
   "source": [
    "#### 2-Stage"
   ]
  },
  {
   "cell_type": "markdown",
   "metadata": {},
   "source": [
    "Classification과 Location을 순차적으로 행한다. 비교적 느리지만 정확도가 높다.\n",
    "\n",
    "예) RCNN 계열, ResNet, DenseNet, ..."
   ]
  },
  {
   "cell_type": "code",
   "execution_count": null,
   "metadata": {},
   "outputs": [],
   "source": []
  }
 ],
 "metadata": {
  "kernelspec": {
   "display_name": "Python 3",
   "language": "python",
   "name": "python3"
  },
  "language_info": {
   "codemirror_mode": {
    "name": "ipython",
    "version": 3
   },
   "file_extension": ".py",
   "mimetype": "text/x-python",
   "name": "python",
   "nbconvert_exporter": "python",
   "pygments_lexer": "ipython3",
   "version": "3.7.3"
  }
 },
 "nbformat": 4,
 "nbformat_minor": 4
}
