{
 "cells": [
  {
   "cell_type": "markdown",
   "metadata": {},
   "source": [
    "### Matrix Shape 정리\n",
    "$ X == (N,D) $  \n",
    "$ W_1 == (D,H) $  \n",
    "$ b_1 == (H,) $  \n",
    "$ H == (N,H) $  \n",
    "$ A == (N,H) $  \n",
    "$ W_2 == (H,C) $  \n",
    "$ b_2 == (C,) $  \n",
    "$ S == (N,C) $  \n",
    "$ P == (N,C) $  "
   ]
  },
  {
   "cell_type": "markdown",
   "metadata": {},
   "source": [
    "### Matrix 미분 정리  \n",
    "$ H = XW + b\\qquad  (N, H) = (N, D) \\times (D, H) + (H,) $  \n",
    "$ L = f(H) $  \n",
    "$ {\\partial L \\over \\partial W} = X^T {\\partial L \\over \\partial H} = {\\partial H \\over \\partial W} \\times {\\partial L \\over \\partial H}$  \n",
    "$ {\\partial L \\over \\partial X} = {\\partial L \\over \\partial H} W^T = {\\partial L \\over \\partial H} \\times {\\partial H \\over \\partial X}$  \n",
    "$ {\\partial L \\over \\partial b} = 1*{\\partial L \\over \\partial H}  $  "
   ]
  },
  {
   "cell_type": "markdown",
   "metadata": {},
   "source": [
    "### 2 Layers Chain Rule 정리  \n",
    "##### Forward\n",
    "$ H = XW_1 + b_1$  \n",
    "$ A = ReLU(H) $  \n",
    "$ S = AW_2 + b_2 $  \n",
    "$ P = Softmax(S) $    \n",
    "$ L = -LogLikelihood(P) $  \n",
    "##### Backward  \n",
    "$ {\\partial L \\over \\partial S} = ? $ : T는 Label  \n",
    "$ {\\partial L \\over \\partial W_2} = {\\partial S \\over \\partial W_2}{\\partial L \\over \\partial S} = ? $  \n",
    "$ {\\partial L \\over \\partial b_2} = 1 * {\\partial L \\over \\partial S} = ? $  \n",
    "$ {\\partial L \\over \\partial A} = {\\partial L \\over \\partial S}{\\partial S \\over \\partial A} = ? $  \n",
    "$ {\\partial L \\over \\partial H} = ? * {\\partial L \\over \\partial A} $  \n",
    "$ {\\partial L \\over \\partial W_1} = {\\partial H \\over \\partial W_1}{\\partial L \\over \\partial H} = ? {\\partial L \\over \\partial H}  $  \n",
    "$ {\\partial L \\over \\partial b_1} = ? $  "
   ]
  },
  {
   "cell_type": "markdown",
   "metadata": {},
   "source": [
    "### Softmax - Cross Entropy Error미분  \n",
    "<img src=\"img/fig a-5.png\">"
   ]
  },
  {
   "cell_type": "markdown",
   "metadata": {},
   "source": [
    "### 데이터 Load  \n",
    "cifar-10 데이터를 불러옵니다.  \n",
    "프레임워크 내 자체적으로 데이터를 로드할 수 있지만, \n",
    "이렇게도 데이터 로드가 가능합니다!  \n",
    "32  32  3 차원의 데이터를 3072 차원으로 바뀌는 것 까지 드릴게요."
   ]
  },
  {
   "cell_type": "code",
   "execution_count": 1,
   "metadata": {},
   "outputs": [],
   "source": [
    "from load_cifar_10 import *\n",
    "import numpy as np\n",
    "from Model import TwoLayerNet"
   ]
  },
  {
   "cell_type": "code",
   "execution_count": 3,
   "metadata": {},
   "outputs": [],
   "source": [
    "cifar_10_dir = 'cifar-10-batches-py'\n",
    "\n",
    "train_data, train_filenames, train_labels, test_data, test_filenames, test_labels, label_names = \\\n",
    "load_cifar_10_data(cifar_10_dir)\n",
    "\n",
    "def Processing_data(train, test):\n",
    "    #change dtype\n",
    "    train = np.array(train, dtype=np.float64)\n",
    "    test = np.array(test, dtype=np.float64)\n",
    "    \n",
    "    #Reshaping\n",
    "    train = np.reshape(train, (train.shape[0], -1))\n",
    "    test = np.reshape(test, (test.shape[0], -1))\n",
    "    \n",
    "    #Normalizing\n",
    "    mean_image = np.mean(train, axis = 0)\n",
    "    #print(train.dtype)\n",
    "    train -= mean_image\n",
    "    test -= mean_image\n",
    "    \n",
    "    return train, test"
   ]
  },
  {
   "cell_type": "code",
   "execution_count": 4,
   "metadata": {},
   "outputs": [],
   "source": [
    "train_data, test_data = Processing_data(train_data, test_data)"
   ]
  },
  {
   "cell_type": "code",
   "execution_count": 5,
   "metadata": {},
   "outputs": [
    {
     "name": "stdout",
     "output_type": "stream",
     "text": [
      "(50000, 3072)\n",
      "(50000,)\n",
      "(10000, 3072)\n",
      "(10000,)\n"
     ]
    }
   ],
   "source": [
    "print(train_data.shape)\n",
    "print(train_labels.shape)\n",
    "print(test_data.shape)\n",
    "print(test_labels.shape)"
   ]
  },
  {
   "cell_type": "markdown",
   "metadata": {},
   "source": [
    "너무 많으니까 5000개, 1000개만 사용합시다!"
   ]
  },
  {
   "cell_type": "code",
   "execution_count": 5,
   "metadata": {},
   "outputs": [],
   "source": [
    "train_data = train_data[:5000]\n",
    "train_labels = train_labels[:5000]\n",
    "test_data = test_data[:1000]\n",
    "test_labels = test_labels[:1000]"
   ]
  },
  {
   "cell_type": "markdown",
   "metadata": {},
   "source": [
    "### 데이터 확인  \n",
    "실제 데이터가 어떻게 생겼는지는 한번 확인해보세요!"
   ]
  },
  {
   "cell_type": "code",
   "execution_count": 6,
   "metadata": {},
   "outputs": [
    {
     "data": {
      "text/plain": [
       "array([[ -71.71074,  -74.05614,  -69.5538 , ...,   -3.63908,  -33.8503 ,\n",
       "         -42.38186],\n",
       "       [  23.28926,   40.94386,   54.4462 , ...,   16.36092,    7.1497 ,\n",
       "          29.61814],\n",
       "       [ 124.28926,  118.94386,  122.4462 , ...,  -46.63908,  -39.8503 ,\n",
       "         -30.38186],\n",
       "       ...,\n",
       "       [  36.28926,   26.94386,   12.4462 , ...,  -84.63908,  -47.8503 ,\n",
       "         -30.38186],\n",
       "       [  23.28926,   15.94386,   -7.5538 , ...,   67.36092,  121.1497 ,\n",
       "          -0.38186],\n",
       "       [ -85.71074, -104.05614, -111.5538 , ...,   29.36092,   16.1497 ,\n",
       "         -14.38186]])"
      ]
     },
     "execution_count": 6,
     "metadata": {},
     "output_type": "execute_result"
    }
   ],
   "source": [
    "train_data"
   ]
  },
  {
   "cell_type": "markdown",
   "metadata": {},
   "source": [
    "### 하이퍼파라미터 설정  \n",
    "하이퍼파라미터를 설정하겠습니다.  \n",
    "hidden_size, epoch_size, batch_size, learning_rate 등은 전부 하이퍼 파라미터이니 바꿔서 해보세요."
   ]
  },
  {
   "cell_type": "code",
   "execution_count": 6,
   "metadata": {},
   "outputs": [],
   "source": [
    "input_size = 32 * 32 * 3\n",
    "hidden_size = 50\n",
    "output_size = 10\n",
    "epoch_size = 100\n",
    "batch_size = 100\n",
    "learning_rate = 0.0001\n",
    "N = train_data.shape[0]"
   ]
  },
  {
   "cell_type": "markdown",
   "metadata": {},
   "source": [
    "### 모델 만들기  \n",
    "input_size, hidden_size, output_size는 데이터에 맞게 잘 설정해주세요.  \n",
    "Model.py를 완성시켜주세요."
   ]
  },
  {
   "cell_type": "code",
   "execution_count": 7,
   "metadata": {},
   "outputs": [],
   "source": [
    "nn = TwoLayerNet(input_size=input_size, hidden_size=hidden_size, output_size=output_size)"
   ]
  },
  {
   "cell_type": "code",
   "execution_count": 11,
   "metadata": {},
   "outputs": [
    {
     "name": "stdout",
     "output_type": "stream",
     "text": [
      "0 accuracy : 0.171\n",
      "0 loss     : 2.1406628764501665\n",
      "10 accuracy : 0.163\n",
      "10 loss     : 2.132521142330367\n",
      "20 accuracy : 0.178\n",
      "20 loss     : 2.127834313717467\n",
      "30 accuracy : 0.175\n",
      "30 loss     : 2.126940992561432\n",
      "40 accuracy : 0.196\n",
      "40 loss     : 2.1270442100817353\n",
      "50 accuracy : 0.201\n",
      "50 loss     : 2.126811485425397\n",
      "60 accuracy : 0.214\n",
      "60 loss     : 2.123276675627253\n",
      "70 accuracy : 0.216\n",
      "70 loss     : 2.1163956207716073\n",
      "80 accuracy : 0.222\n",
      "80 loss     : 2.109743428823017\n",
      "90 accuracy : 0.24\n",
      "90 loss     : 2.102798321451859\n"
     ]
    }
   ],
   "source": [
    "history = {'val_acc': [],'val_loss': []} #기록해서 그림 그리자!\n",
    "\n",
    "#코드를 보며 epoch, batch에 대해서 이해해봅시다.\n",
    "for i in range(epoch_size):\n",
    "    for j in range(N//batch_size):\n",
    "        batch_mask = np.random.choice(N, batch_size) #이번 배치에서 쓸 데이터들 인덱스 추출\n",
    "        x_batch = train_data[batch_mask]\n",
    "        t_batch = train_labels[batch_mask]\n",
    "        \n",
    "        nn.backward(x_batch, t_batch) # 가중치 갱신\n",
    "    \n",
    "    #accuracy와 loss를 기록해둡시다.\n",
    "    history[\"val_acc\"].append(nn.accuracy(test_data, test_labels))\n",
    "    history[\"val_loss\"].append(nn.forward(test_data, test_labels))\n",
    "    \n",
    "    if i % 10 == 0:\n",
    "        print(i, \"test accuracy :\", nn.accuracy(test_data, test_labels))\n",
    "        print(i, \"test loss     :\", nn.forward(test_data, test_labels))"
   ]
  },
  {
   "cell_type": "markdown",
   "metadata": {},
   "source": [
    "### 그림 그리기"
   ]
  },
  {
   "cell_type": "code",
   "execution_count": 12,
   "metadata": {},
   "outputs": [
    {
     "data": {
      "image/png": "[encoded data removed]",
      "text/plain": [
       "<Figure size 432x288 with 2 Axes>"
      ]
     },
     "metadata": {
      "needs_background": "light"
     },
     "output_type": "display_data"
    }
   ],
   "source": [
    "fig = plt.figure()\n",
    "ax_acc = fig.add_subplot(111)\n",
    "\n",
    "ax_acc.plot(range(epoch_size), history['val_acc'], label='정확도(%)', color='darkred')\n",
    "#plt.text(3, 14.7, \"<----------------정확도(%)\", verticalalignment='top', horizontalalignment='right')\n",
    "plt.xlabel('epochs')\n",
    "plt.ylabel('Validation Accuracy(%)')\n",
    "ax_acc.grid(linestyle='--', color='lavender')\n",
    "ax_loss = ax_acc.twinx()\n",
    "ax_loss.plot(range(epoch_size), history['val_loss'], label='오차', color='darkblue')\n",
    "#plt.text(3, 2.2, \"<----------------오차\", verticalalignment='top', horizontalalignment='left')\n",
    "plt.ylabel('Validation Error')\n",
    "ax_loss.yaxis.tick_right()\n",
    "ax_loss.grid(linestyle='--', color='lavender')\n",
    "\n",
    "# 그래프 표시\n",
    "plt.show()"
   ]
  },
  {
   "cell_type": "code",
   "execution_count": null,
   "metadata": {},
   "outputs": [],
   "source": []
  }
 ],
 "metadata": {
  "kernelspec": {
   "display_name": "Python 3",
   "language": "python",
   "name": "python3"
  },
  "language_info": {
   "codemirror_mode": {
    "name": "ipython",
    "version": 3
   },
   "file_extension": ".py",
   "mimetype": "text/x-python",
   "name": "python",
   "nbconvert_exporter": "python",
   "pygments_lexer": "ipython3",
   "version": "3.7.3"
  }
 },
 "nbformat": 4,
 "nbformat_minor": 2
}
