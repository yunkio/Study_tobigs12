{
 "cells": [
  {
   "cell_type": "code",
   "execution_count": null,
   "metadata": {},
   "outputs": [],
   "source": [
    "#pseudocode\n",
    "\n",
    "from bs4 import beautifulSoup as bs # 라이브러리 불러오기\n",
    "\n",
    "url = '인스타그램' # URL 담기\n",
    "response = requests.get(url, headers=headers) # 응답 얻기\n",
    "response.status_code # 응답 확인\n",
    "soup = bs(response.text, '? parser') #html 소스코드를 parser로 변환\n",
    "\n",
    "## 이제 원하는 정보를 찾을 수 있다.\n",
    "\n",
    "#크롬에 내장된 검사 도구와 css selector를 이용해서 태그를 확인\n",
    "#각각 게시글 내용, 계정, 날짜, 댓글, 댓글 내용 태그 확인\n",
    "\n",
    "테이블 = soup.find_all('게시글 태그') #css selecter로 얻은 태그 활용\n",
    "\n",
    "def insta_crawler(page)\n",
    "    for 게시글 in 테이블:\n",
    "        try:\n",
    "            내용 = 게시글.find('태그', class_='게시글').text\n",
    "            계정 = 게시글.find('태그', class_='계정').text \n",
    "            날짜 = 게시글.find('태그', class_='날짜').text \n",
    "            댓글_테이블 = 게시글.find(\"태그\", {'class' : \"댓글클래스\"})\n",
    "            댓글 = 댓글_테이블.find(\"태그\", {'class' : \"내용클래스\"}).text\n",
    "            댓글쓴이 = 댓글_테이블.find(\"태그\", {'class' : \"댓글쓴이클래스\"})\n",
    "            data.append([내용, 계정, 날짜, 댓글, 댓글쓴이])\n",
    "        except Exception as e :\n",
    "            data.append(['NA', 'NA', 'NA', 'NA', 'NA'])\n",
    "            print(에러메세지)\n",
    "            \n",
    "for page in range(500): #한페이지에 10개라고 가정\n",
    "    total_data.append(insta_crawler(page))\n",
    "    \n",
    "    \n"
   ]
  }
 ],
 "metadata": {
  "kernelspec": {
   "display_name": "Python 3",
   "language": "python",
   "name": "python3"
  },
  "language_info": {
   "codemirror_mode": {
    "name": "ipython",
    "version": 3
   },
   "file_extension": ".py",
   "mimetype": "text/x-python",
   "name": "python",
   "nbconvert_exporter": "python",
   "pygments_lexer": "ipython3",
   "version": "3.7.3"
  }
 },
 "nbformat": 4,
 "nbformat_minor": 2
}
