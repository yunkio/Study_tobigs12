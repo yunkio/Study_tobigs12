{
 "cells": [
  {
   "cell_type": "code",
   "execution_count": 1,
   "metadata": {},
   "outputs": [],
   "source": [
    "import time\n",
    "from time import sleep\n",
    "import re\n",
    "from tqdm import tqdm\n",
    "from random import randint\n",
    "\n",
    "# Import BeautifulSoup and requests module\n"
   ]
  },
  {
   "cell_type": "code",
   "execution_count": 2,
   "metadata": {
    "scrolled": true
   },
   "outputs": [],
   "source": [
    "headers = {'User-Agent': 'Mozilla/5.0 (Macintosh; InteSl Mac O X 10_10_1) AppleWebKit/537.36 (KHTML, like Gecko) Chrome/39.0.2171.95 Safari/537.36'}\n",
    "my_url = \"http://www.pythonscraping.com/exercises/exercise1.html\"\n",
    "\n",
    "# 사이트 요청 \n",
    "\n",
    "# 요청의 status code 보기 \n"
   ]
  },
  {
   "cell_type": "code",
   "execution_count": null,
   "metadata": {},
   "outputs": [],
   "source": [
    "# HTML 보기"
   ]
  },
  {
   "cell_type": "markdown",
   "metadata": {},
   "source": [
    "# BeautifulSoup "
   ]
  },
  {
   "cell_type": "markdown",
   "metadata": {},
   "source": [
    "### Find & FindAll"
   ]
  },
  {
   "cell_type": "code",
   "execution_count": null,
   "metadata": {},
   "outputs": [],
   "source": [
    "# Title tag 찾기 \n"
   ]
  },
  {
   "cell_type": "code",
   "execution_count": null,
   "metadata": {},
   "outputs": [],
   "source": [
    "# Title tag 내용 \n"
   ]
  },
  {
   "cell_type": "markdown",
   "metadata": {},
   "source": [
    "#### CSS Selector"
   ]
  },
  {
   "cell_type": "code",
   "execution_count": null,
   "metadata": {},
   "outputs": [],
   "source": [
    "url = \"http://www.pythonscraping.com/pages/warandpeace.html\"\n",
    "response = requests.get(url, headers=headers)\n",
    "response.status_code"
   ]
  },
  {
   "cell_type": "code",
   "execution_count": null,
   "metadata": {},
   "outputs": [],
   "source": [
    "# 초록색 단어 찾기\n"
   ]
  },
  {
   "cell_type": "code",
   "execution_count": null,
   "metadata": {
    "scrolled": true
   },
   "outputs": [],
   "source": [
    "# 모든 초록색 단어 찾기 (findAll)\n"
   ]
  },
  {
   "cell_type": "code",
   "execution_count": null,
   "metadata": {},
   "outputs": [],
   "source": [
    "# 빨간색 단어를 추출해봅시다 \n",
    "\n"
   ]
  },
  {
   "cell_type": "code",
   "execution_count": null,
   "metadata": {
    "scrolled": true
   },
   "outputs": [],
   "source": [
    "# <span> 태그에 존재하는 빨간색과 초록색 글씨를 모두 추출해봅시다\n"
   ]
  },
  {
   "cell_type": "code",
   "execution_count": null,
   "metadata": {},
   "outputs": [],
   "source": [
    "# 복습: <p> 에 있는 내용을 모두 리스트에 저장해봅시다. \n",
    "\n"
   ]
  },
  {
   "cell_type": "markdown",
   "metadata": {},
   "source": [
    "### 실제 사이트에 연습:"
   ]
  },
  {
   "cell_type": "code",
   "execution_count": null,
   "metadata": {},
   "outputs": [],
   "source": [
    "url = 'http://www.daum.net'\n",
    "\n",
    "#Request 요청 (headers 추가 필수)\n",
    "\n",
    "\n",
    "# 탭버튼이 담긴 정보 찾기 \n",
    "\n",
    "\n",
    "#findAll 도 해보기\n"
   ]
  },
  {
   "cell_type": "markdown",
   "metadata": {},
   "source": [
    "#### 태그 안에 있는 URL 정보를 얻고 싶다면?"
   ]
  },
  {
   "cell_type": "code",
   "execution_count": null,
   "metadata": {
    "scrolled": true
   },
   "outputs": [],
   "source": [
    "# Find 문 이용시 \n",
    "\n",
    "# FindALL 문 이용시 \n"
   ]
  },
  {
   "cell_type": "markdown",
   "metadata": {},
   "source": [
    "### Parent & Sibling 관계 이용하기"
   ]
  },
  {
   "cell_type": "code",
   "execution_count": null,
   "metadata": {},
   "outputs": [],
   "source": [
    "url = \"http://pythonscraping.com/pages/page3.html\"\n",
    "response = requests.get(url)\n",
    "soup = bs(response.text)"
   ]
  },
  {
   "cell_type": "code",
   "execution_count": null,
   "metadata": {},
   "outputs": [],
   "source": [
    "# 첫번째 이미지 찾기 \n",
    "\n"
   ]
  },
  {
   "cell_type": "code",
   "execution_count": null,
   "metadata": {},
   "outputs": [],
   "source": [
    "# parent& sibling 관계를 이용하여\n",
    "# 다음 행에 있는 이미지 URL 구하기! \n"
   ]
  },
  {
   "cell_type": "code",
   "execution_count": null,
   "metadata": {},
   "outputs": [],
   "source": [
    "# 복습: findAll 문을 이용하여 모든 이미지 URl 구하기\n"
   ]
  },
  {
   "cell_type": "code",
   "execution_count": null,
   "metadata": {},
   "outputs": [],
   "source": [
    "# 복습: CSS 문을 이용하여 볼드체 글씨를 모두 구하기"
   ]
  },
  {
   "cell_type": "markdown",
   "metadata": {},
   "source": [
    "### Regular Expression 이용하기"
   ]
  },
  {
   "cell_type": "code",
   "execution_count": null,
   "metadata": {},
   "outputs": [],
   "source": [
    "import re\n",
    "# 정규식을 활용하여 gift 이미지 URL만 구하기 \n",
    "# 정규식은 제공 \n",
    "gift_regex = re.compile('img\\d.jpg')\n"
   ]
  },
  {
   "cell_type": "markdown",
   "metadata": {},
   "source": [
    "# 실제 크롤링 연습:  다음 영화 "
   ]
  },
  {
   "cell_type": "code",
   "execution_count": 1,
   "metadata": {},
   "outputs": [],
   "source": [
    "def daum_movie_crawler(year):\n",
    "    headers = {'User-Agent': 'Mozilla/5.0 (Macintosh; InteSl Mac O X 10_10_1) AppleWebKit/537.36 (KHTML, like Gecko) Chrome/39.0.2171.95 Safari/537.36'}\n",
    "    main_url = 'https://movie.daum.net/boxoffice/yearly?year=' + str(year)\n",
    "    \n",
    "    # Initialize \n",
    "    data = []\n",
    "    cnt= 0 \n",
    "    \n",
    "    response = requests.get(main_url,headers=headers)\n",
    "    body_table = bs(response.text,'html.parser')\n",
    "    \n",
    "    #포스터 테이블 구하기 \n",
    "    poster_table = None\n",
    "\n",
    "    \n",
    "    #포스터 테이블을 looping \n",
    "    # 제목과 평론가 평점 찾기\n",
    "    for poster in poster_table:\n",
    "        title = None\n",
    "        data.append([title])                                 \n",
    "                                                      \n",
    "    return data\n"
   ]
  },
  {
   "cell_type": "code",
   "execution_count": null,
   "metadata": {},
   "outputs": [],
   "source": [
    "#2009-2019년도 데이터 얻기 "
   ]
  },
  {
   "cell_type": "markdown",
   "metadata": {},
   "source": [
    "# 예외/ 오류 처리"
   ]
  },
  {
   "cell_type": "code",
   "execution_count": null,
   "metadata": {},
   "outputs": [],
   "source": [
    "try: \n",
    "    response = requests.get(my_url, headers=headers)\n",
    "except Exception as e:\n",
    "    print('Error occured while requesting')\n",
    "\n",
    "if response.status_code == 200:\n",
    "    soup = bs(response.text, 'html.parser')\n",
    "else:\n",
    "    print('Status code Error ')\n",
    "    "
   ]
  },
  {
   "cell_type": "code",
   "execution_count": null,
   "metadata": {},
   "outputs": [],
   "source": [
    "\"\"\"\n",
    "위에 daum_movie_crawler 에 try-except 문을 추가해서\n",
    "오류가 나는 것을 방지해보기 \n",
    "\"\"\""
   ]
  },
  {
   "cell_type": "markdown",
   "metadata": {},
   "source": [
    "# Selenium "
   ]
  },
  {
   "cell_type": "code",
   "execution_count": 4,
   "metadata": {},
   "outputs": [],
   "source": [
    "import selenium \n",
    "from selenium import webdriver\n",
    "import random\n",
    "from time import sleep\n",
    "\n",
    "browser = webdriver.Chrome()"
   ]
  },
  {
   "cell_type": "code",
   "execution_count": null,
   "metadata": {},
   "outputs": [],
   "source": [
    "your_url = \"https://www.ncbi.nlm.nih.gov/pubmed/\"\n",
    "browser = webdriver.Chrome() #혹은 .Firefox() , .Safari()\n",
    "browser.get(your_url)"
   ]
  },
  {
   "cell_type": "code",
   "execution_count": null,
   "metadata": {},
   "outputs": [],
   "source": [
    "# 다음으로 가기 버튼 xpath 를 이용해 찾기 \n",
    "next_button = None\n",
    "\n",
    "# 버튼 클릭 \n",
    "next_button.click()"
   ]
  },
  {
   "cell_type": "code",
   "execution_count": null,
   "metadata": {},
   "outputs": [],
   "source": [
    "#논문 태그 찾기 (class 이용)\n",
    "paper_tags = None\n",
    "browser.find_elements_by_class_name()\n"
   ]
  },
  {
   "cell_type": "code",
   "execution_count": null,
   "metadata": {},
   "outputs": [],
   "source": [
    "# 각 태그의 제목 (tag_name 이용)\n",
    "for paper in paper_tags :\n",
    "    "
   ]
  },
  {
   "cell_type": "code",
   "execution_count": null,
   "metadata": {},
   "outputs": [],
   "source": [
    "\"\"\"\n",
    "5 페이지동안 논문제목을 크롤링한뒤 \n",
    "논문제목이 담긴 리스트를 반환하는 함수를 구현해보세요 (다음 페이지로 넘어가기전에 0-1초간 휴식)\n",
    "\"\"\"\n",
    "\n",
    "\n",
    "browser = webdriver.Chrome() \n",
    "browser.get(your_url)\n",
    "\n",
    "for page in range(1,6):\n",
    "    print(\"Currently on page \", page)\n",
    " \n",
    "\n",
    "    \n",
    "    sleep(random.uniform(0,1))\n",
    "    "
   ]
  }
 ],
 "metadata": {
  "kernelspec": {
   "display_name": "Python 3",
   "language": "python",
   "name": "python3"
  },
  "language_info": {
   "codemirror_mode": {
    "name": "ipython",
    "version": 3
   },
   "file_extension": ".py",
   "mimetype": "text/x-python",
   "name": "python",
   "nbconvert_exporter": "python",
   "pygments_lexer": "ipython3",
   "version": "3.7.3"
  }
 },
 "nbformat": 4,
 "nbformat_minor": 2
}
