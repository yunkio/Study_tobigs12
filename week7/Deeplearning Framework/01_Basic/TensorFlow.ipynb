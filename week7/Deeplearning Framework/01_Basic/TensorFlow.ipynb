{
 "cells": [
  {
   "cell_type": "markdown",
   "metadata": {},
   "source": [
    "# TensorFlow Basic\n",
    "- http://cs231n.stanford.edu/slides/2017/cs231n_2017_lecture8.pdf"
   ]
  },
  {
   "cell_type": "code",
   "execution_count": 1,
   "metadata": {},
   "outputs": [],
   "source": [
    "import numpy as np\n",
    "import tensorflow as tf"
   ]
  },
  {
   "cell_type": "code",
   "execution_count": 2,
   "metadata": {},
   "outputs": [
    {
     "data": {
      "text/plain": [
       "'1.14.0'"
      ]
     },
     "execution_count": 2,
     "metadata": {},
     "output_type": "execute_result"
    }
   ],
   "source": [
    "tf.__version__"
   ]
  },
  {
   "cell_type": "markdown",
   "metadata": {},
   "source": [
    "### Tensorflow basic(non-eager API)"
   ]
  },
  {
   "cell_type": "markdown",
   "metadata": {},
   "source": [
    "### constant"
   ]
  },
  {
   "cell_type": "code",
   "execution_count": 3,
   "metadata": {},
   "outputs": [],
   "source": [
    "a = tf.constant(4)\n",
    "b = tf.constant(5)"
   ]
  },
  {
   "cell_type": "code",
   "execution_count": 4,
   "metadata": {},
   "outputs": [
    {
     "name": "stdout",
     "output_type": "stream",
     "text": [
      "Tensor(\"Const:0\", shape=(), dtype=int32)\n",
      "Tensor(\"Const_1:0\", shape=(), dtype=int32)\n"
     ]
    }
   ],
   "source": [
    "print(a)\n",
    "print(b)"
   ]
  },
  {
   "cell_type": "markdown",
   "metadata": {},
   "source": [
    "### Session"
   ]
  },
  {
   "cell_type": "code",
   "execution_count": 5,
   "metadata": {},
   "outputs": [
    {
     "name": "stdout",
     "output_type": "stream",
     "text": [
      "4\n",
      "5\n",
      "9\n"
     ]
    }
   ],
   "source": [
    "# launch the default graph\n",
    "with tf.Session() as sess:\n",
    "    print(sess.run(a))\n",
    "    print(sess.run(b))\n",
    "    print(sess.run(a+b))"
   ]
  },
  {
   "cell_type": "markdown",
   "metadata": {},
   "source": [
    "### place holder와 feed_dict"
   ]
  },
  {
   "cell_type": "code",
   "execution_count": 6,
   "metadata": {},
   "outputs": [],
   "source": [
    "a = tf.placeholder(tf.int32)\n",
    "b = tf.placeholder(tf.int32)"
   ]
  },
  {
   "cell_type": "code",
   "execution_count": 7,
   "metadata": {},
   "outputs": [],
   "source": [
    "# define operations\n",
    "add = tf.add(a, b)\n",
    "sub = tf.subtract(a, b)\n",
    "mul = tf.multiply(a, b)\n",
    "div = tf.divide(a, b)"
   ]
  },
  {
   "cell_type": "code",
   "execution_count": 8,
   "metadata": {},
   "outputs": [
    {
     "name": "stdout",
     "output_type": "stream",
     "text": [
      "8\n",
      "-2\n",
      "15\n",
      "0.6\n"
     ]
    }
   ],
   "source": [
    "# launch the default graph\n",
    "with tf.Session() as sess:\n",
    "    print(sess.run(add, feed_dict={a:3, b:5}))\n",
    "    print(sess.run(sub, feed_dict={a:3, b:5}))\n",
    "    print(sess.run(mul, feed_dict={a:3, b:5}))\n",
    "    print(sess.run(div, feed_dict={a:3, b:5}))"
   ]
  },
  {
   "cell_type": "code",
   "execution_count": 54,
   "metadata": {
    "collapsed": true
   },
   "outputs": [],
   "source": [
    "# matrix product\n",
    "mat_1 = tf.constant([[1, 2], [3, 4]])\n",
    "mat_2 = tf.constant([[4, 2], [3, 1]])"
   ]
  },
  {
   "cell_type": "code",
   "execution_count": 56,
   "metadata": {
    "collapsed": true
   },
   "outputs": [],
   "source": [
    "mat_product = tf.matmul(mat_1, mat_2)"
   ]
  },
  {
   "cell_type": "code",
   "execution_count": 57,
   "metadata": {},
   "outputs": [
    {
     "name": "stdout",
     "output_type": "stream",
     "text": [
      "[[10  4]\n",
      " [24 10]]\n"
     ]
    }
   ],
   "source": [
    "# launch the default graph\n",
    "with tf.Session() as sess:\n",
    "    print(sess.run(mat_product))"
   ]
  },
  {
   "cell_type": "code",
   "execution_count": 59,
   "metadata": {
    "collapsed": true
   },
   "outputs": [],
   "source": [
    "hello = tf.constant(\"Hello, TF!\")"
   ]
  },
  {
   "cell_type": "code",
   "execution_count": 60,
   "metadata": {
    "collapsed": true
   },
   "outputs": [],
   "source": [
    "sess = tf.Session()"
   ]
  },
  {
   "cell_type": "code",
   "execution_count": 61,
   "metadata": {},
   "outputs": [
    {
     "name": "stdout",
     "output_type": "stream",
     "text": [
      "b'Hello, TF!'\n"
     ]
    }
   ],
   "source": [
    "print(sess.run(hello))"
   ]
  },
  {
   "cell_type": "markdown",
   "metadata": {},
   "source": [
    "---"
   ]
  },
  {
   "cell_type": "markdown",
   "metadata": {},
   "source": [
    "### Tensorflow basic(eager API : define-by-run)"
   ]
  },
  {
   "cell_type": "code",
   "execution_count": 1,
   "metadata": {
    "collapsed": true
   },
   "outputs": [],
   "source": [
    "import numpy as np\n",
    "import tensorflow as tf"
   ]
  },
  {
   "cell_type": "code",
   "execution_count": 2,
   "metadata": {
    "collapsed": true
   },
   "outputs": [],
   "source": [
    "tf.enable_eager_execution()"
   ]
  },
  {
   "cell_type": "code",
   "execution_count": 3,
   "metadata": {},
   "outputs": [
    {
     "name": "stdout",
     "output_type": "stream",
     "text": [
      "Without tf.Session\n",
      "9\n",
      "-1\n",
      "20\n",
      "0.800000\n"
     ]
    }
   ],
   "source": [
    "print(\"Without tf.Session\")\n",
    "a = tf.constant(4)\n",
    "b = tf.constant(5)\n",
    "print(\"%d\" %(a + b))\n",
    "print(\"%d\" %(a - b))\n",
    "print(\"%d\" %(a * b))\n",
    "print(\"%f\" %(a / b))"
   ]
  },
  {
   "cell_type": "code",
   "execution_count": 4,
   "metadata": {
    "collapsed": true
   },
   "outputs": [],
   "source": [
    "# matrix product\n",
    "mat_1 = tf.constant([[1, 2], [3, 4]])\n",
    "mat_2 = tf.constant([[4, 2], [3, 1]])"
   ]
  },
  {
   "cell_type": "code",
   "execution_count": 5,
   "metadata": {},
   "outputs": [
    {
     "data": {
      "text/plain": [
       "<tf.Tensor: id=14, shape=(2, 2), dtype=int32, numpy=\n",
       "array([[10,  4],\n",
       "       [24, 10]])>"
      ]
     },
     "execution_count": 5,
     "metadata": {},
     "output_type": "execute_result"
    }
   ],
   "source": [
    "tf.matmul(mat_1, mat_2)"
   ]
  },
  {
   "cell_type": "markdown",
   "metadata": {},
   "source": [
    "---"
   ]
  },
  {
   "cell_type": "markdown",
   "metadata": {},
   "source": [
    "## Example - two-layer ReLU network on random data with L2 loss"
   ]
  },
  {
   "cell_type": "markdown",
   "metadata": {},
   "source": [
    "# 1. Define and Run"
   ]
  },
  {
   "cell_type": "code",
   "execution_count": 3,
   "metadata": {},
   "outputs": [
    {
     "name": "stdout",
     "output_type": "stream",
     "text": [
      "WARNING:tensorflow:From C:\\Users\\dwkim\\Anaconda3\\envs\\exercise\\lib\\site-packages\\tensorflow\\python\\ops\\math_grad.py:80: colocate_with (from tensorflow.python.framework.ops) is deprecated and will be removed in a future version.\n",
      "Instructions for updating:\n",
      "Colocations handled automatically by placer.\n",
      "WARNING:tensorflow:From C:\\Users\\dwkim\\Anaconda3\\envs\\exercise\\lib\\site-packages\\tensorflow\\python\\ops\\math_ops.py:3066: to_int32 (from tensorflow.python.ops.math_ops) is deprecated and will be removed in a future version.\n",
      "Instructions for updating:\n",
      "Use tf.cast instead.\n"
     ]
    }
   ],
   "source": [
    "################## Define ####################\n",
    "N, D, H = 32, 20, 10\n",
    "\n",
    "x = tf.placeholder(tf.float32, shape=(N, D))\n",
    "y = tf.placeholder(tf.float32, shape=(N, D))\n",
    "w1 = tf.placeholder(tf.float32, shape=(D, H))\n",
    "w2 = tf.placeholder(tf.float32, shape=(H, D))\n",
    "\n",
    "h = tf.maximum(tf.matmul(x, w1), 0)\n",
    "y_pred = tf.matmul(h, w2)\n",
    "# L2 loss\n",
    "diff = y_pred - y\n",
    "loss = tf.reduce_mean(tf.reduce_sum(diff ** 2, axis=1))\n",
    "\n",
    "grad_w1, grad_w2 = tf.gradients(loss, [w1, w2])\n",
    "\n",
    "################## Run ####################\n",
    "with tf.Session() as sess:\n",
    "    values = {x: np.random.randn(N, D),\n",
    "              w1: np.random.randn(D, H),\n",
    "              w2: np.random.randn(H, D),\n",
    "              y: np.random.randn(N, D),}\n",
    "    out = sess.run([loss, grad_w1, grad_w2],\n",
    "                      feed_dict=values)\n",
    "    loss_val, grad_w1_val, grad_w2_val = out"
   ]
  },
  {
   "cell_type": "code",
   "execution_count": 4,
   "metadata": {},
   "outputs": [
    {
     "data": {
      "text/plain": [
       "1965.2859"
      ]
     },
     "execution_count": 4,
     "metadata": {},
     "output_type": "execute_result"
    }
   ],
   "source": [
    "loss_val"
   ]
  },
  {
   "cell_type": "code",
   "execution_count": 5,
   "metadata": {},
   "outputs": [
    {
     "data": {
      "text/plain": [
       "array([[-3.82833672e+01, -3.35135536e+01, -3.63155746e+01,\n",
       "        -9.76173878e+00, -1.60995331e+01, -1.41146297e+01,\n",
       "        -1.47303371e+01, -2.47750206e+01, -2.20260830e+01,\n",
       "         7.05583096e-01],\n",
       "       [ 7.53872375e+01, -2.26605339e+01,  4.16682129e+01,\n",
       "         2.27443237e+01, -1.77522621e+01,  2.35183334e+00,\n",
       "         5.20508051e+00,  3.70670471e+01, -1.33411732e+01,\n",
       "         3.96862626e+00],\n",
       "       [ 1.78546066e+01,  7.07962418e+00, -2.05781307e+01,\n",
       "        -1.03850899e+01, -7.32878113e+00,  2.74836063e-01,\n",
       "         1.61707211e+01,  4.48495865e+00, -4.20389175e+00,\n",
       "        -3.45354605e+00],\n",
       "       [-4.59407578e+01, -6.73509216e+01, -7.92681656e+01,\n",
       "        -1.63957767e+01, -4.43689041e+01, -5.25798073e+01,\n",
       "        -2.67093506e+01, -1.80262756e+01, -1.80874252e+00,\n",
       "        -3.97180023e+01],\n",
       "       [ 7.83300705e+01, -4.01895676e+01, -8.86270332e+00,\n",
       "         4.56730986e+00, -4.09489136e+01,  1.79207230e+00,\n",
       "         1.11029530e+01,  4.08731117e+01, -3.10354805e+01,\n",
       "        -8.16020966e+00],\n",
       "       [-6.30593338e+01, -7.76065140e+01, -1.13587250e+02,\n",
       "        -3.84070349e+00,  4.01182823e+01, -1.36869049e+00,\n",
       "        -1.85815620e+01, -3.52555428e+01,  1.37173882e+01,\n",
       "         5.43843317e+00],\n",
       "       [ 1.15493746e+01, -2.01893291e+01, -2.23982735e+01,\n",
       "        -1.64965153e+01, -1.60883598e+01, -1.41385546e+01,\n",
       "        -5.43539572e+00, -7.92123890e+00, -4.48445988e+00,\n",
       "        -2.16446757e+00],\n",
       "       [ 3.64559555e+01,  2.45764389e+01,  2.59266815e+01,\n",
       "        -1.11286812e+01, -3.88693695e+01,  1.85352707e+00,\n",
       "         7.87438202e+00, -3.24835253e+00, -4.42908096e+01,\n",
       "         1.01280556e+01],\n",
       "       [ 6.39915466e-02, -4.91510811e+01, -3.12721786e+01,\n",
       "         1.70668182e+01,  1.56531200e+01, -6.46771393e+01,\n",
       "        -3.91297798e+01, -1.96169777e+01, -2.15660896e+01,\n",
       "         4.13192406e+01],\n",
       "       [-5.04923477e+01,  3.02976494e+01,  3.09070816e+01,\n",
       "        -1.20106525e+01, -1.88085918e+01, -7.50682306e+00,\n",
       "         1.05527487e+01, -3.38120346e+01,  7.52033234e-01,\n",
       "        -2.57720928e+01],\n",
       "       [-4.59829102e+01,  1.83064842e+00, -4.57718811e+01,\n",
       "        -3.09018974e+01, -1.22437439e+01, -6.18115664e+00,\n",
       "         5.54035521e+00, -2.64465294e+01,  1.76085091e+01,\n",
       "        -2.13665504e+01],\n",
       "       [ 1.22746735e+01,  8.38833160e+01,  9.52210388e+01,\n",
       "         5.35209389e+01, -1.91090469e+01, -1.14184399e+01,\n",
       "        -7.55930233e+00, -4.43283272e+00,  7.45594025e-01,\n",
       "        -3.49648552e+01],\n",
       "       [ 5.39300156e+01, -1.53115978e+01,  6.30280533e+01,\n",
       "        -2.83232079e+01, -1.87213459e+01,  6.12832737e+00,\n",
       "         2.79075470e+01,  2.77961693e+01, -2.22856750e+01,\n",
       "         1.29099035e+01],\n",
       "       [ 5.55640373e+01, -1.12022736e+02, -7.02802887e+01,\n",
       "        -4.76350479e+01, -3.32534447e+01, -1.21597347e+01,\n",
       "         3.92057800e+00,  3.53708344e+01, -3.80581360e+01,\n",
       "        -3.39734116e+01],\n",
       "       [-5.93568897e+00, -5.59138908e+01, -6.77408676e+01,\n",
       "        -2.78405228e+01,  9.50911427e+00, -3.38915300e+00,\n",
       "        -4.99377108e+00, -9.13570213e+00, -9.90462065e-01,\n",
       "         3.68632126e+00],\n",
       "       [ 1.62734566e+01, -1.20809280e+02, -1.08163475e+02,\n",
       "         1.43352032e+00,  4.39820137e+01, -1.13556404e+02,\n",
       "        -5.91857910e+01, -3.27106056e+01,  3.58178596e+01,\n",
       "         2.15374641e+01],\n",
       "       [ 1.49015141e+00, -7.92672806e+01, -4.55275726e+01,\n",
       "        -1.26645660e+01,  5.20087719e+00, -1.28386812e+01,\n",
       "        -1.61548634e+01, -7.44626617e+00, -1.53575077e+01,\n",
       "         2.70531654e-01],\n",
       "       [ 2.84023857e+01, -5.04748688e+01,  8.75197411e+00,\n",
       "        -1.31689701e+01, -2.17592392e+01,  7.79819393e+00,\n",
       "         1.12301092e+01,  1.94096699e+01, -1.93567028e+01,\n",
       "        -3.70560503e+00],\n",
       "       [ 1.97349625e+01,  7.36942596e+01,  7.76805496e+01,\n",
       "         6.73138275e+01, -1.87422142e+01, -1.12372103e+01,\n",
       "        -8.58283710e+00, -1.86044273e+01,  2.00001316e+01,\n",
       "         2.97438965e+01],\n",
       "       [ 3.71483841e+01, -3.58198853e+01, -9.97386932e+00,\n",
       "        -2.31810513e+01, -4.24107323e+01, -7.28836918e+00,\n",
       "         2.04291439e+00,  4.16600418e+00, -5.11088848e+00,\n",
       "        -1.12040291e+01]], dtype=float32)"
      ]
     },
     "execution_count": 5,
     "metadata": {},
     "output_type": "execute_result"
    }
   ],
   "source": [
    "grad_w1_val"
   ]
  },
  {
   "cell_type": "markdown",
   "metadata": {},
   "source": [
    "# 2. Structure"
   ]
  },
  {
   "cell_type": "code",
   "execution_count": null,
   "metadata": {},
   "outputs": [],
   "source": [
    "N, D, H = 32, 20, 10\n",
    "\n",
    "x = tf.placeholder(tf.float32, shape=(N, D))\n",
    "y = tf.placeholder(tf.float32, shape=(N, D))\n",
    "w1 = tf.placeholder(tf.float32, shape=(D, H))\n",
    "w2 = tf.placeholder(tf.float32, shape=(H, D))\n",
    "\n",
    "##### Forward pass #####\n",
    "h = tf.maximum(tf.matmul(x, w1), 0)\n",
    "y_pred = tf.matmul(h, w2)\n",
    "\n",
    "# L2 loss\n",
    "diff = y_pred - y\n",
    "loss = tf.reduce_mean(tf.reduce_sum(diff ** 2, axis=1))\n",
    "\n",
    "\n",
    "##### Backward pass #####\n",
    "grad_w1, grad_w2 = tf.gradients(loss, [w1, w2])\n",
    "\n",
    "\n",
    "##### Enter a session #####\n",
    "with tf.Session() as sess:\n",
    "\n",
    "    values = {x: np.random.randn(N, D),\n",
    "              w1: np.random.randn(D, H),\n",
    "              w2: np.random.randn(H, D),\n",
    "              y: np.random.randn(N, D),}\n",
    "\n",
    "    ##### Run the graph #####\n",
    "    out = sess.run([loss, grad_w1, grad_w2],\n",
    "                      feed_dict=values)\n",
    "    loss_val, grad_w1_val, grad_w2_val = out"
   ]
  },
  {
   "cell_type": "markdown",
   "metadata": {},
   "source": [
    "- 일반적으로 딥러닝에서 같은 데이터를 여러번 반복해서 훈련하면서 weight를 update함\n",
    "- 아래는 epoch 50을 주었을 때"
   ]
  },
  {
   "cell_type": "code",
   "execution_count": 20,
   "metadata": {},
   "outputs": [],
   "source": [
    "N, D, H = 32, 20, 10\n",
    "\n",
    "x = tf.placeholder(tf.float32, shape=(N, D))\n",
    "y = tf.placeholder(tf.float32, shape=(N, D))\n",
    "w1 = tf.placeholder(tf.float32, shape=(D, H))\n",
    "w2 = tf.placeholder(tf.float32, shape=(H, D))\n",
    "\n",
    "##### Forward pass #####\n",
    "h = tf.maximum(tf.matmul(x, w1), 0)\n",
    "y_pred = tf.matmul(h, w2)\n",
    "\n",
    "# L2 loss\n",
    "diff = y_pred - y\n",
    "loss = tf.reduce_mean(tf.reduce_sum(diff ** 2, axis=1))\n",
    "\n",
    "\n",
    "##### Backward pass #####\n",
    "grad_w1, grad_w2 = tf.gradients(loss, [w1, w2])\n",
    "\n",
    "learning_rate=1e-5\n",
    "\n",
    "##### Enter a session #####\n",
    "with tf.Session() as sess:\n",
    "\n",
    "    values = {x: np.random.randn(N, D),\n",
    "              w1: np.random.randn(D, H),\n",
    "              w2: np.random.randn(H, D),\n",
    "              y: np.random.randn(N, D),}\n",
    "\n",
    "    ##### Run the graph #####\n",
    "    # Train the network\n",
    "    loss_val_list = []\n",
    "    for t in range(50):\n",
    "        out = sess.run([loss, grad_w1, grad_w2],\n",
    "                      feed_dict=values)\n",
    "        loss_val, grad_w1_val, grad_w2_val = out\n",
    "        values[w1] -= learning_rate * grad_w1_val\n",
    "        values[w2] -= learning_rate * grad_w2_val\n",
    "        loss_val_list.append(loss_val)"
   ]
  },
  {
   "cell_type": "code",
   "execution_count": 22,
   "metadata": {},
   "outputs": [
    {
     "data": {
      "text/plain": [
       "<matplotlib.collections.PathCollection at 0x2be743e97f0>"
      ]
     },
     "execution_count": 22,
     "metadata": {},
     "output_type": "execute_result"
    },
    {
     "data": {
      "image/png": "[encoded data removed]",
      "text/plain": [
       "<Figure size 432x288 with 1 Axes>"
      ]
     },
     "metadata": {
      "needs_background": "light"
     },
     "output_type": "display_data"
    }
   ],
   "source": [
    "import matplotlib.pyplot as plt\n",
    "plt.scatter(np.arange(1, 51, 1), loss_val_list)"
   ]
  },
  {
   "cell_type": "markdown",
   "metadata": {},
   "source": [
    "cf. numpy는 CPU에서 처리됨\n",
    "\n",
    "TensorFlow는 별도의 지정사항이 없으면 GPU를 우선 사용한다. 따라서 Session 내에서의 연산은 GPU에서 진행됨.  \n",
    "sess.run의 결과인 out은 그 결과값이 다시 CPU로 복사된 것.  \n",
    "weight(w1, w2)를 업데이트하기 위해서 cpu -> gpu -> cpu -> gpu의 복사 과정이 반복되면서 속도 저하 발생  \n",
    "따라서 weight가 cpu와 gpu를 순환하지 않고 gpu 상에서 유지되면서 값이 갱신되게 할 필요가 있다."
   ]
  },
  {
   "cell_type": "code",
   "execution_count": 39,
   "metadata": {},
   "outputs": [],
   "source": [
    "N, D, H = 32, 20, 10\n",
    "\n",
    "x = tf.placeholder(tf.float32, shape=(N, D))\n",
    "y = tf.placeholder(tf.float32, shape=(N, D))\n",
    "# Change w1 and w2 from placeholder to Variable\n",
    "w1 = tf.Variable(tf.random_normal((D, H)))\n",
    "w2 = tf.Variable(tf.random_normal((H, D)))\n",
    "\n",
    "##### Forward pass #####\n",
    "h = tf.maximum(tf.matmul(x, w1), 0)\n",
    "y_pred = tf.matmul(h, w2)\n",
    "\n",
    "# L2 loss\n",
    "diff = y_pred - y\n",
    "loss = tf.reduce_mean(tf.reduce_sum(diff ** 2, axis=1))\n",
    "\n",
    "\n",
    "##### Backward pass #####\n",
    "grad_w1, grad_w2 = tf.gradients(loss, [w1, w2])\n",
    "\n",
    "# Add assign operations to update w1 and w2 as part of the graph\n",
    "learning_rate=1e-5\n",
    "new_w1 = w1.assign(w1 - learning_rate * grad_w1)\n",
    "new_w2 = w2.assign(w2 - learning_rate * grad_w2)\n",
    "\n",
    "##### Enter a session #####\n",
    "with tf.Session() as sess:\n",
    "    # Run graph once to initialize w1 and w2\n",
    "    sess.run(tf.global_variables_initializer())\n",
    "    values = {x: np.random.randn(N, D),\n",
    "              y: np.random.randn(N, D),}\n",
    "\n",
    "    ##### Run the graph #####\n",
    "    # Train the network\n",
    "    loss_val_list = []\n",
    "    for t in range(50):\n",
    "        out = sess.run([loss],\n",
    "                      feed_dict=values)\n",
    "        loss_val, = out\n",
    "        loss_val_list.append(loss_val)"
   ]
  },
  {
   "cell_type": "markdown",
   "metadata": {},
   "source": [
    "새로 계산한 w1, w2의 값이 갱신되게 하는 assign 연산을 추가하였다.  \n",
    "그러나 아래를 보면 학습이 전혀 진행되지 않은 것을 볼 수 있다.  \n",
    "이는 assign 연산을 정의만 했을 뿐, 실제로 session 상에서 실행하지 않았기 때문인데, sess.run에 이를 포함시키면 해결된다."
   ]
  },
  {
   "cell_type": "code",
   "execution_count": 40,
   "metadata": {},
   "outputs": [
    {
     "data": {
      "text/plain": [
       "<matplotlib.collections.PathCollection at 0x2c088e4fcf8>"
      ]
     },
     "execution_count": 40,
     "metadata": {},
     "output_type": "execute_result"
    },
    {
     "data": {
      "image/png": "[encoded data removed]",
      "text/plain": [
       "<Figure size 432x288 with 1 Axes>"
      ]
     },
     "metadata": {
      "needs_background": "light"
     },
     "output_type": "display_data"
    }
   ],
   "source": [
    "import matplotlib.pyplot as plt\n",
    "plt.scatter(np.arange(1, 51, 1), loss_val_list)"
   ]
  },
  {
   "cell_type": "code",
   "execution_count": 41,
   "metadata": {},
   "outputs": [],
   "source": [
    "N, D, H = 32, 20, 10\n",
    "\n",
    "x = tf.placeholder(tf.float32, shape=(N, D))\n",
    "y = tf.placeholder(tf.float32, shape=(N, D))\n",
    "# Change w1 and w2 from placeholder to Variable\n",
    "w1 = tf.Variable(tf.random_normal((D, H)))\n",
    "w2 = tf.Variable(tf.random_normal((H, D)))\n",
    "\n",
    "##### Forward pass #####\n",
    "h = tf.maximum(tf.matmul(x, w1), 0)\n",
    "y_pred = tf.matmul(h, w2)\n",
    "\n",
    "# L2 loss\n",
    "diff = y_pred - y\n",
    "loss = tf.reduce_mean(tf.reduce_sum(diff ** 2, axis=1))\n",
    "\n",
    "##### Backward pass #####\n",
    "grad_w1, grad_w2 = tf.gradients(loss, [w1, w2])\n",
    "\n",
    "# Add assign operations to update w1 and w2 as part of the graph\n",
    "learning_rate=1e-5\n",
    "new_w1 = w1.assign(w1 - learning_rate * grad_w1)\n",
    "new_w2 = w2.assign(w2 - learning_rate * grad_w2)\n",
    "# Add dummy graph node that depends on updates\n",
    "updates = tf.group(new_w1, new_w2)\n",
    "\n",
    "\n",
    "##### Enter a session #####\n",
    "with tf.Session() as sess:\n",
    "    # Run graph once to initialize w1 and w2\n",
    "    sess.run(tf.global_variables_initializer())\n",
    "    values = {x: np.random.randn(N, D),\n",
    "              y: np.random.randn(N, D),}\n",
    "\n",
    "    ##### Run the graph #####\n",
    "    # Train the network\n",
    "    loss_val_list = []\n",
    "    for t in range(50):\n",
    "        loss_val, _ = sess.run([loss, updates],\n",
    "                      feed_dict=values)\n",
    "        loss_val_list.append(loss_val)"
   ]
  },
  {
   "cell_type": "code",
   "execution_count": 42,
   "metadata": {},
   "outputs": [
    {
     "data": {
      "text/plain": [
       "<matplotlib.collections.PathCollection at 0x2c088f5cf60>"
      ]
     },
     "execution_count": 42,
     "metadata": {},
     "output_type": "execute_result"
    },
    {
     "data": {
      "image/png": "[encoded data removed]",
      "text/plain": [
       "<Figure size 432x288 with 1 Axes>"
      ]
     },
     "metadata": {
      "needs_background": "light"
     },
     "output_type": "display_data"
    }
   ],
   "source": [
    "import matplotlib.pyplot as plt\n",
    "plt.scatter(np.arange(1, 51, 1), loss_val_list)"
   ]
  },
  {
   "cell_type": "markdown",
   "metadata": {},
   "source": [
    "## **Optimizer**"
   ]
  },
  {
   "cell_type": "markdown",
   "metadata": {},
   "source": [
    "```python\n",
    "##### Backward pass #####\n",
    "grad_w1, grad_w2 = tf.gradients(loss, [w1, w2])\n",
    "\n",
    "# Add assign operations to update w1 and w2 as part of the graph\n",
    "learning_rate=1e-5\n",
    "new_w1 = w1.assign(w1 - learning_rate * grad_w1)\n",
    "new_w2 = w2.assign(w2 - learning_rate * grad_w2)\n",
    "\n",
    "# Add dummy graph node that depends on updates\n",
    "updates = tf.group(new_w1, new_w2)\n",
    "```"
   ]
  },
  {
   "cell_type": "markdown",
   "metadata": {},
   "source": [
    "- gradients를 계산하여 weight를 update하는 위 코드를 다음과 같이 줄일 수 있다."
   ]
  },
  {
   "cell_type": "markdown",
   "metadata": {},
   "source": [
    "```python\n",
    "optimizer = tf.train.GradientDescentOptimizer(1e-5)\n",
    "updates = optimizer.minimize(loss)\n",
    "```"
   ]
  },
  {
   "cell_type": "code",
   "execution_count": null,
   "metadata": {},
   "outputs": [],
   "source": [
    "N, D, H = 32, 20, 10\n",
    "\n",
    "x = tf.placeholder(tf.float32, shape=(N, D))\n",
    "y = tf.placeholder(tf.float32, shape=(N, D))\n",
    "# Change w1 and w2 from placeholder to Variable\n",
    "w1 = tf.Variable(tf.random_normal((D, H)))\n",
    "w2 = tf.Variable(tf.random_normal((H, D)))\n",
    "\n",
    "##### Forward pass #####\n",
    "h = tf.maximum(tf.matmul(x, w1), 0)\n",
    "y_pred = tf.matmul(h, w2)\n",
    "\n",
    "# L2 loss\n",
    "diff = y_pred - y\n",
    "loss = tf.reduce_mean(tf.reduce_sum(diff ** 2, axis=1))\n",
    "\n",
    "# ##### Backward pass #####\n",
    "# grad_w1, grad_w2 = tf.gradients(loss, [w1, w2])\n",
    "\n",
    "# # Add assign operations to update w1 and w2 as part of the graph\n",
    "# learning_rate=1e-5\n",
    "# new_w1 = w1.assign(w1 - learning_rate * grad_w1)\n",
    "# new_w2 = w2.assign(w2 - learning_rate * grad_w2)\n",
    "# # Add dummy graph node that depends on updates\n",
    "# updates = tf.group(new_w1, new_w2)\n",
    "\n",
    "optimizer = tf.train.GradientDescentOptimizer(1e-5)\n",
    "updates = optimizer.minimize(loss)\n",
    "\n",
    "\n",
    "##### Enter a session #####\n",
    "with tf.Session() as sess:\n",
    "    # Run graph once to initialize w1 and w2\n",
    "    sess.run(tf.global_variables_initializer())\n",
    "    values = {x: np.random.randn(N, D),\n",
    "              y: np.random.randn(N, D),}\n",
    "\n",
    "    ##### Run the graph #####\n",
    "    # Train the network\n",
    "    loss_val_list = []\n",
    "    for t in range(50):\n",
    "        loss_val, _ = sess.run([loss, updates],\n",
    "                      feed_dict=values)\n",
    "        loss_val_list.append(loss_val)"
   ]
  },
  {
   "cell_type": "markdown",
   "metadata": {},
   "source": [
    "## **Loss**"
   ]
  },
  {
   "cell_type": "markdown",
   "metadata": {},
   "source": [
    "```python\n",
    "# L2 loss\n",
    "diff = y_pred - y\n",
    "loss = tf.reduce_mean(tf.reduce_sum(diff ** 2, axis=1))\n",
    "```"
   ]
  },
  {
   "cell_type": "markdown",
   "metadata": {},
   "source": [
    "- 또한 Loss를 위와 같이 직접 계산하지 않고 TensorFlow에서 제공하는  \n",
    "사전에 정의된 loss를 사용할 수 있다."
   ]
  },
  {
   "cell_type": "markdown",
   "metadata": {},
   "source": [
    "```python\n",
    "# Use predefined common lossees\n",
    "loss = tf.losses.mean_squared_error(y_pred, y)\n",
    "```"
   ]
  },
  {
   "cell_type": "code",
   "execution_count": null,
   "metadata": {},
   "outputs": [],
   "source": [
    "N, D, H = 32, 20, 10\n",
    "\n",
    "x = tf.placeholder(tf.float32, shape=(N, D))\n",
    "y = tf.placeholder(tf.float32, shape=(N, D))\n",
    "# Change w1 and w2 from placeholder to Variable\n",
    "w1 = tf.Variable(tf.random_normal((D, H)))\n",
    "w2 = tf.Variable(tf.random_normal((H, D)))\n",
    "\n",
    "##### Forward pass #####\n",
    "h = tf.maximum(tf.matmul(x, w1), 0)\n",
    "y_pred = tf.matmul(h, w2)\n",
    "\n",
    "# # L2 loss\n",
    "# diff = y_pred - y\n",
    "# loss = tf.reduce_mean(tf.reduce_sum(diff ** 2, axis=1))\n",
    "# Use predefined common lossees\n",
    "loss = tf.losses.mean_squared_error(y_pred, y)\n",
    "\n",
    "# ##### Backward pass #####\n",
    "optimizer = tf.train.GradientDescentOptimizer(1e-5)\n",
    "updates = optimizer.minimize(loss)\n",
    "\n",
    "\n",
    "##### Enter a session #####\n",
    "with tf.Session() as sess:\n",
    "    # Run graph once to initialize w1 and w2\n",
    "    sess.run(tf.global_variables_initializer())\n",
    "    values = {x: np.random.randn(N, D),\n",
    "              y: np.random.randn(N, D),}\n",
    "\n",
    "    ##### Run the graph #####\n",
    "    # Train the network\n",
    "    loss_val_list = []\n",
    "    for t in range(50):\n",
    "        loss_val, _ = sess.run([loss, updates],\n",
    "                      feed_dict=values)\n",
    "        loss_val_list.append(loss_val)"
   ]
  },
  {
   "cell_type": "markdown",
   "metadata": {},
   "source": [
    "## **Layers**"
   ]
  },
  {
   "cell_type": "markdown",
   "metadata": {},
   "source": [
    "```python\n",
    "# Weight Initialization\n",
    "w1 = tf.Variable(tf.random_normal((D, H)))\n",
    "w2 = tf.Variable(tf.random_normal((H, D)))\n",
    "\n",
    "# Linear Layer + ReLU\n",
    "h = tf.maximum(tf.matmul(x, w1), 0)\n",
    "```"
   ]
  },
  {
   "cell_type": "markdown",
   "metadata": {},
   "source": [
    "- 위 코드를 tensorflow의 내장 모듈을 사용해 간단하게 나타낼 수 있다."
   ]
  },
  {
   "cell_type": "markdown",
   "metadata": {},
   "source": [
    "```python\n",
    "# Use Xavier initializer\n",
    "init = tf.contrib.layers.xavier_initializer()\n",
    "\n",
    "# tf.layers automatically sets up weight and bias\n",
    "h = tf.layers.dense(inputs=x, units=H,\n",
    "                   activation=tf.nn.relu, kernel_initializer=init)\n",
    "y_pred = tf.layers.dense(inputs=h, units=D, kernel_initializer_init)\n",
    "```"
   ]
  },
  {
   "cell_type": "code",
   "execution_count": 43,
   "metadata": {},
   "outputs": [
    {
     "name": "stdout",
     "output_type": "stream",
     "text": [
      "WARNING:tensorflow:From C:\\Users\\dwkim\\Anaconda3\\envs\\exercise\\lib\\site-packages\\tensorflow\\python\\ops\\losses\\losses_impl.py:667: to_float (from tensorflow.python.ops.math_ops) is deprecated and will be removed in a future version.\n",
      "Instructions for updating:\n",
      "Use tf.cast instead.\n"
     ]
    }
   ],
   "source": [
    "N, D, H = 32, 20, 10\n",
    "\n",
    "x = tf.placeholder(tf.float32, shape=(N, D))\n",
    "y = tf.placeholder(tf.float32, shape=(N, D))\n",
    "\n",
    "# # Change w1 and w2 from placeholder to Variable\n",
    "# w1 = tf.Variable(tf.random_normal((D, H)))\n",
    "# w2 = tf.Variable(tf.random_normal((H, D)))\n",
    "\n",
    "# ##### Forward pass #####\n",
    "# h = tf.maximum(tf.matmul(x, w1), 0)\n",
    "# y_pred = tf.matmul(h, w2)\n",
    "\n",
    "# Use Xavier initializer\n",
    "init = tf.contrib.layers.xavier_initializer()\n",
    "\n",
    "# tf.layers automatically sets up weight and bias\n",
    "h = tf.layers.dense(inputs=x, units=H,\n",
    "                   activation=tf.nn.relu, kernel_initializer=init)\n",
    "y_pred = tf.layers.dense(inputs=h, units=D, kernel_initializer_init)\n",
    "\n",
    "# # L2 loss\n",
    "# Use predefined common lossees\n",
    "loss = tf.losses.mean_squared_error(y_pred, y)\n",
    "\n",
    "# ##### Backward pass #####\n",
    "optimizer = tf.train.GradientDescentOptimizer(1e-5)\n",
    "updates = optimizer.minimize(loss)\n",
    "\n",
    "\n",
    "##### Enter a session #####\n",
    "with tf.Session() as sess:\n",
    "    # Run graph once to initialize w1 and w2\n",
    "    sess.run(tf.global_variables_initializer())\n",
    "    values = {x: np.random.randn(N, D),\n",
    "              y: np.random.randn(N, D),}\n",
    "\n",
    "    ##### Run the graph #####\n",
    "    # Train the network\n",
    "    loss_val_list = []\n",
    "    for t in range(50):\n",
    "        loss_val, _ = sess.run([loss, updates],\n",
    "                      feed_dict=values)\n",
    "        loss_val_list.append(loss_val)"
   ]
  },
  {
   "cell_type": "markdown",
   "metadata": {},
   "source": [
    "# **Keras**"
   ]
  },
  {
   "cell_type": "markdown",
   "metadata": {},
   "source": [
    "- tensorflow에서 모델링을 좀 더 쉽게 할 수 있도록 도와주는 High-level wrapper\n",
    "- tensorflow를 backend로 하는 별도의 API였으나 2.0 버전에서 tensorflow에 내장됨.\n",
    "- PyTorch와 유사하게 define by run의 형태로 작성 가능"
   ]
  },
  {
   "cell_type": "code",
   "execution_count": 44,
   "metadata": {},
   "outputs": [
    {
     "name": "stderr",
     "output_type": "stream",
     "text": [
      "C:\\Users\\dwkim\\Anaconda3\\envs\\exercise\\lib\\site-packages\\ipykernel_launcher.py:9: UserWarning: Update your `Dense` call to the Keras 2 API: `Dense(input_dim=1000, units=100)`\n",
      "  if __name__ == '__main__':\n",
      "C:\\Users\\dwkim\\Anaconda3\\envs\\exercise\\lib\\site-packages\\ipykernel_launcher.py:11: UserWarning: Update your `Dense` call to the Keras 2 API: `Dense(input_dim=100, units=1000)`\n",
      "  # This is added back by InteractiveShellApp.init_path()\n",
      "C:\\Users\\dwkim\\Anaconda3\\envs\\exercise\\lib\\site-packages\\ipykernel_launcher.py:23: UserWarning: The `nb_epoch` argument in `fit` has been renamed `epochs`.\n"
     ]
    }
   ],
   "source": [
    "# 구 코드\n",
    "from keras.models import Sequential\n",
    "from keras.layers.core import Dense, Activation\n",
    "from keras.optimizers import SGD\n",
    "\n",
    "N, D, H = 64, 1000, 100\n",
    "# Define model object as a sequence of layers\n",
    "model = Sequential()\n",
    "model.add(Dense(input_dim=D, output_dim=H))\n",
    "model.add(Activation('relu'))\n",
    "model.add(Dense(input_dim=H, output_dim=D))\n",
    "\n",
    "# Define optimizer object\n",
    "optimizer = SGD(lr=1e0)\n",
    "# Build the model, specify loss function\n",
    "model.compile(loss='mean_squared_error',\n",
    "             optimizer=optimizer)\n",
    "\n",
    "x = np.random.randn(N, D)\n",
    "y = np.random.randn(N, D)\n",
    "# Train the model\n",
    "history = model.fit(x, y, nb_epoch=50,\n",
    "                   batch_size=N, verbose=0)"
   ]
  },
  {
   "cell_type": "code",
   "execution_count": 47,
   "metadata": {},
   "outputs": [
    {
     "data": {
      "text/plain": [
       "<matplotlib.collections.PathCollection at 0x2c08a9d68d0>"
      ]
     },
     "execution_count": 47,
     "metadata": {},
     "output_type": "execute_result"
    },
    {
     "data": {
      "image/png": "[encoded data removed]",
      "text/plain": [
       "<Figure size 432x288 with 1 Axes>"
      ]
     },
     "metadata": {
      "needs_background": "light"
     },
     "output_type": "display_data"
    }
   ],
   "source": [
    "import matplotlib.pyplot as plt\n",
    "plt.scatter(np.arange(1, 51, 1), history.history[\"loss\"])"
   ]
  }
 ],
 "metadata": {
  "kernelspec": {
   "display_name": "Python 3",
   "language": "python",
   "name": "python3"
  },
  "language_info": {
   "codemirror_mode": {
    "name": "ipython",
    "version": 3
   },
   "file_extension": ".py",
   "mimetype": "text/x-python",
   "name": "python",
   "nbconvert_exporter": "python",
   "pygments_lexer": "ipython3",
   "version": "3.7.3"
  }
 },
 "nbformat": 4,
 "nbformat_minor": 2
}
