{
 "cells": [
  {
   "cell_type": "code",
   "execution_count": 1,
   "metadata": {},
   "outputs": [],
   "source": [
    "import pandas as pd\n",
    "from tqdm import tqdm\n",
    "import time\n",
    "import datetime"
   ]
  },
  {
   "cell_type": "code",
   "execution_count": 2,
   "metadata": {},
   "outputs": [
    {
     "name": "stdout",
     "output_type": "stream",
     "text": [
      "Time :  30.03681445121765\n"
     ]
    }
   ],
   "source": [
    "## 데이터 불러오기\n",
    "start_time = time.time()\n",
    "df = pd.read_csv(\"study_room_HMS.csv\")\n",
    "print(\"Time : \", time.time() - start_time)"
   ]
  },
  {
   "cell_type": "code",
   "execution_count": 3,
   "metadata": {},
   "outputs": [
    {
     "data": {
      "text/plain": [
       "(6962341, 6)"
      ]
     },
     "execution_count": 3,
     "metadata": {},
     "output_type": "execute_result"
    }
   ],
   "source": [
    "df.shape # 행, 열 갯수 확인"
   ]
  },
  {
   "cell_type": "code",
   "execution_count": 4,
   "metadata": {},
   "outputs": [],
   "source": [
    "def dfsplit(df):\n",
    "    start_time = time.time()\n",
    "    for index, row in tqdm(df.iterrows()):\n",
    "        yield row.hashed.split(\",\")\n",
    "    print(\"Time : \", time.time() - start_time)"
   ]
  },
  {
   "cell_type": "code",
   "execution_count": 5,
   "metadata": {},
   "outputs": [
    {
     "name": "stderr",
     "output_type": "stream",
     "text": [
      "6962341it [07:58, 14541.92it/s]\n"
     ]
    },
    {
     "name": "stdout",
     "output_type": "stream",
     "text": [
      "Time :  478.78320145606995\n"
     ]
    }
   ],
   "source": [
    "new_hashed = [x for x in dfsplit(df)]# hash 쉼표로 나누기\n",
    "df.drop(['hashed'], axis=1, inplace=True)\n",
    "df['hashed'] = new_hashed"
   ]
  },
  {
   "cell_type": "code",
   "execution_count": 6,
   "metadata": {},
   "outputs": [],
   "source": [
    "#datetime 형태로 변환\n",
    "def todatetime(df, col):\n",
    "    for index, row in tqdm(df.iterrows()):\n",
    "        t = datetime.datetime.strptime(row[col], \"%H:%M:%S.%f\")\n",
    "        yield datetime.datetime.time(t)"
   ]
  },
  {
   "cell_type": "code",
   "execution_count": 7,
   "metadata": {},
   "outputs": [
    {
     "name": "stderr",
     "output_type": "stream",
     "text": [
      "6962341it [09:43, 11931.37it/s]\n",
      "6962341it [09:26, 12295.26it/s]\n"
     ]
    }
   ],
   "source": [
    "starttime = [x for x in todatetime(df, \"study_start_time\")]\n",
    "df.drop(['study_start_time'], axis=1, inplace=True)\n",
    "df['study_start_time'] = starttime\n",
    "\n",
    "endtime = [x for x in todatetime(df, \"study_end_time\")]\n",
    "df.drop(['study_end_time'], axis=1, inplace=True)\n",
    "df['study_end_time'] = endtime"
   ]
  },
  {
   "cell_type": "markdown",
   "metadata": {},
   "source": [
    "### 파생변수 만들기"
   ]
  },
  {
   "cell_type": "markdown",
   "metadata": {},
   "source": [
    "변수 만들기 : 이용자 수"
   ]
  },
  {
   "cell_type": "code",
   "execution_count": 8,
   "metadata": {},
   "outputs": [
    {
     "name": "stderr",
     "output_type": "stream",
     "text": [
      "100%|█████████████████████████████████████████████████████████████████████| 6962341/6962341 [04:26<00:00, 26131.67it/s]\n"
     ]
    }
   ],
   "source": [
    "nums = [len(df['hashed'][x]) for x in tqdm(range(len(df)))] \n",
    "df['number_of_users'] = nums"
   ]
  },
  {
   "cell_type": "code",
   "execution_count": 9,
   "metadata": {},
   "outputs": [
    {
     "name": "stdout",
     "output_type": "stream",
     "text": [
      "한번에 함께 이용하는 이용자 수의 평균 : 4.924246313129449\n"
     ]
    }
   ],
   "source": [
    "avg_num_user = sum(df['number_of_users']) / len(df) \n",
    "print('한번에 함께 이용하는 이용자 수의 평균 :', avg_num_user)"
   ]
  },
  {
   "cell_type": "markdown",
   "metadata": {},
   "source": [
    "변수 만들기 : 이용 시간"
   ]
  },
  {
   "cell_type": "code",
   "execution_count": 10,
   "metadata": {},
   "outputs": [],
   "source": [
    "def time_difference(df):\n",
    "    for index, row in tqdm(df.iterrows()):\n",
    "        yield (datetime.datetime.combine(datetime.date.min, row['study_end_time']) - datetime.datetime.combine(datetime.date.min, row['study_start_time'])).seconds"
   ]
  },
  {
   "cell_type": "code",
   "execution_count": 11,
   "metadata": {},
   "outputs": [
    {
     "name": "stderr",
     "output_type": "stream",
     "text": [
      "6962341it [08:26, 13754.45it/s]\n"
     ]
    }
   ],
   "source": [
    "user_time = [x for x in time_difference(df)]\n",
    "df['time_difference'] = user_time"
   ]
  },
  {
   "cell_type": "code",
   "execution_count": 12,
   "metadata": {},
   "outputs": [
    {
     "name": "stdout",
     "output_type": "stream",
     "text": [
      "인당 평균 이용 시간 : 1136.6834286919002 s\n"
     ]
    }
   ],
   "source": [
    "avg_use_time = sum(df['time_difference'] * df['number_of_users']) / sum(df['number_of_users'])\n",
    "print('인당 평균 이용 시간 :', avg_use_time, 's')"
   ]
  },
  {
   "cell_type": "markdown",
   "metadata": {},
   "source": [
    "하루 이용 시간"
   ]
  },
  {
   "cell_type": "code",
   "execution_count": 13,
   "metadata": {},
   "outputs": [],
   "source": [
    "import matplotlib.pyplot as plt"
   ]
  },
  {
   "cell_type": "code",
   "execution_count": 14,
   "metadata": {},
   "outputs": [],
   "source": [
    "use_time = pd.DataFrame(columns=['date', 'total_use_time'])\n",
    "for i in range(1,57):\n",
    "    total_use_time = sum((df[df['study_start_day'] == i])['number_of_users'] * (df[df['study_start_day'] == i])['time_difference'])\n",
    "    use_time = use_time.append({'date' : int(i), 'total_use_time' : total_use_time}, ignore_index=True)"
   ]
  },
  {
   "cell_type": "code",
   "execution_count": 15,
   "metadata": {},
   "outputs": [
    {
     "data": {
      "text/plain": [
       "[<matplotlib.lines.Line2D at 0x2d8a47820f0>,\n",
       " <matplotlib.lines.Line2D at 0x2d8a4782240>]"
      ]
     },
     "execution_count": 15,
     "metadata": {},
     "output_type": "execute_result"
    },
    {
     "data": {
      "image/png": "[encoded data removed]",
      "text/plain": [
       "<Figure size 432x288 with 1 Axes>"
      ]
     },
     "metadata": {
      "needs_background": "light"
     },
     "output_type": "display_data"
    }
   ],
   "source": [
    "plt.plot(use_time)"
   ]
  },
  {
   "cell_type": "code",
   "execution_count": 16,
   "metadata": {},
   "outputs": [],
   "source": [
    "# 점점 증가 추세를 보이고 있으며, 일정한 주기를 가지고 오르내리는 형태를 보여주고 있으므로 요일별 변화가 아닌지 확인하기 위해 요일 변수를 추가"
   ]
  },
  {
   "cell_type": "code",
   "execution_count": 17,
   "metadata": {},
   "outputs": [],
   "source": [
    "use_time['day'] = use_time['date'] % 7 # 변수 추가"
   ]
  },
  {
   "cell_type": "code",
   "execution_count": 18,
   "metadata": {},
   "outputs": [
    {
     "data": {
      "text/plain": [
       "day\n",
       "0    5325298688\n",
       "1    3654200411\n",
       "2    5388857295\n",
       "3    5455915898\n",
       "4    6431154314\n",
       "5    7000441512\n",
       "6    5714507096\n",
       "Name: total_use_time, dtype: int64"
      ]
     },
     "execution_count": 18,
     "metadata": {},
     "output_type": "execute_result"
    }
   ],
   "source": [
    "(use_time.groupby(['day']).sum())['total_use_time'] \n",
    "# 유의미한 차이를 보인다. 특히 day = 1 (start_day_time을 7로 나눈 나머지가 1)일 경우가 많이 낮고 day = 5일 경우가 많이 높다. \n",
    "# 하지만 이것만으로는 정확히 언제가 어느 요일인지 알기는 힘들어 보인다.\n",
    "# 하지만 직관적으로 판단했을때는 이용자수가 가장 적은 day = 1이 일요일로 보는 것이 옳아보이며, 2 = 월요일, 3 = 화요일... 로 예상할 수 있다."
   ]
  },
  {
   "cell_type": "code",
   "execution_count": 19,
   "metadata": {},
   "outputs": [],
   "source": [
    "from collections import Counter\n",
    "hashed = []\n",
    "for index, row in df.iterrows():\n",
    "    for user in row.hashed:\n",
    "        hashed.append(user)"
   ]
  },
  {
   "cell_type": "code",
   "execution_count": 20,
   "metadata": {},
   "outputs": [],
   "source": [
    "hashed_df = pd.DataFrame.from_dict(Counter(hashed), orient='index').reset_index()\n",
    "hashed_df = hashed_df.rename(columns={'index':'hash', 0:'count'})"
   ]
  },
  {
   "cell_type": "code",
   "execution_count": 21,
   "metadata": {},
   "outputs": [
    {
     "data": {
      "text/html": [
       "<div>\n",
       "<style scoped>\n",
       "    .dataframe tbody tr th:only-of-type {\n",
       "        vertical-align: middle;\n",
       "    }\n",
       "\n",
       "    .dataframe tbody tr th {\n",
       "        vertical-align: top;\n",
       "    }\n",
       "\n",
       "    .dataframe thead th {\n",
       "        text-align: right;\n",
       "    }\n",
       "</style>\n",
       "<table border=\"1\" class=\"dataframe\">\n",
       "  <thead>\n",
       "    <tr style=\"text-align: right;\">\n",
       "      <th></th>\n",
       "      <th>count</th>\n",
       "    </tr>\n",
       "  </thead>\n",
       "  <tbody>\n",
       "    <tr>\n",
       "      <th>count</th>\n",
       "      <td>268148.000000</td>\n",
       "    </tr>\n",
       "    <tr>\n",
       "      <th>mean</th>\n",
       "      <td>127.855818</td>\n",
       "    </tr>\n",
       "    <tr>\n",
       "      <th>std</th>\n",
       "      <td>257.100419</td>\n",
       "    </tr>\n",
       "    <tr>\n",
       "      <th>min</th>\n",
       "      <td>1.000000</td>\n",
       "    </tr>\n",
       "    <tr>\n",
       "      <th>25%</th>\n",
       "      <td>3.000000</td>\n",
       "    </tr>\n",
       "    <tr>\n",
       "      <th>50%</th>\n",
       "      <td>24.000000</td>\n",
       "    </tr>\n",
       "    <tr>\n",
       "      <th>75%</th>\n",
       "      <td>143.000000</td>\n",
       "    </tr>\n",
       "    <tr>\n",
       "      <th>max</th>\n",
       "      <td>31498.000000</td>\n",
       "    </tr>\n",
       "  </tbody>\n",
       "</table>\n",
       "</div>"
      ],
      "text/plain": [
       "               count\n",
       "count  268148.000000\n",
       "mean      127.855818\n",
       "std       257.100419\n",
       "min         1.000000\n",
       "25%         3.000000\n",
       "50%        24.000000\n",
       "75%       143.000000\n",
       "max     31498.000000"
      ]
     },
     "execution_count": 21,
     "metadata": {},
     "output_type": "execute_result"
    }
   ],
   "source": [
    "hashed_df.describe()"
   ]
  },
  {
   "cell_type": "code",
   "execution_count": 22,
   "metadata": {},
   "outputs": [],
   "source": [
    "# 총 268148명의 이용자가 있었으며, 한 사람당의 평균 이용 횟수는 127회였고 가장 많은 횟수를 이용한 이용자의 사용횟수는 31498...인데\n",
    "# 56일간의 데이터에서 어떻게 저런 사용횟수가 나오는걸까...? 모르겠다.."
   ]
  },
  {
   "cell_type": "code",
   "execution_count": 23,
   "metadata": {},
   "outputs": [
    {
     "data": {
      "text/plain": [
       "113147    a183c2b789eb249afbb85c17f7b45886ab5e9a36bc3792...\n",
       "Name: hash, dtype: object"
      ]
     },
     "execution_count": 23,
     "metadata": {},
     "output_type": "execute_result"
    }
   ],
   "source": [
    "hashed_df[hashed_df[\"count\"] == 31498][\"hash\"] # 뭘까..."
   ]
  }
 ],
 "metadata": {
  "kernelspec": {
   "display_name": "Python 3",
   "language": "python",
   "name": "python3"
  },
  "language_info": {
   "codemirror_mode": {
    "name": "ipython",
    "version": 3
   },
   "file_extension": ".py",
   "mimetype": "text/x-python",
   "name": "python",
   "nbconvert_exporter": "python",
   "pygments_lexer": "ipython3",
   "version": "3.7.3"
  }
 },
 "nbformat": 4,
 "nbformat_minor": 4
}
