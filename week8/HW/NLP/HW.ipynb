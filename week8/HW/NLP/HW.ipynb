{
 "cells": [
  {
   "cell_type": "code",
   "execution_count": 1,
   "metadata": {},
   "outputs": [],
   "source": [
    "from bs4 import BeautifulSoup\n",
    "from datetime import datetime\n",
    "import requests\n",
    "import pandas as pd\n",
    "import numpy as np\n",
    "import matplotlib.pyplot as plt\n",
    "import re\n",
    "import multiprocessing\n",
    "from gensim.models import Word2Vec, fasttext\n",
    "from konlpy.tag import *"
   ]
  },
  {
   "cell_type": "markdown",
   "metadata": {},
   "source": [
    "## 크롤링"
   ]
  },
  {
   "cell_type": "markdown",
   "metadata": {},
   "source": [
    "네이버 뉴스 제목 크롤링하기"
   ]
  },
  {
   "cell_type": "code",
   "execution_count": 2,
   "metadata": {},
   "outputs": [],
   "source": [
    "# 네이버 뉴스 제목 크롤링 하기!\n",
    "def crawler(maxpage,query,s_date,e_date):\n",
    "    s_from = s_date.replace(\".\",\"\")\n",
    "    e_to = e_date.replace(\".\",\"\")\n",
    "    page = 1\n",
    "    maxpage_t =(int(maxpage)-1)*10+1\n",
    "    title_text = list()\n",
    "    while page <= maxpage_t:\n",
    "        url = \"https://search.naver.com/search.naver?where=news&query=\" + query + \"&sort=0\"+\"&ds=\" + s_date + \"&de=\" + e_date + \"&nso=so%3Ar%2Cp%3Afrom\" + s_from + \"to\" + e_to + \"%2Ca%3A&start=\" + str(page)   \n",
    "        response = requests.get(url)\n",
    "        html = response.text       \n",
    "        #뷰티풀소프의 인자값 지정\n",
    "        soup = BeautifulSoup(html, 'html.parser')        \n",
    "        #태그에서 제목과 링크주소 추출\n",
    "        atags = soup.select('._sp_each_title')\n",
    "        for atag in atags:\n",
    "            title_text.append(atag.text) #제목      \n",
    "        #모든 리스트 딕셔너리형태로 저장\n",
    "        result= {\"title\":title_text}  \n",
    "        df = pd.DataFrame(result) #df로 변환\n",
    "        page += 10\n",
    "    return df\n",
    "# 참고 : https://bumcrush.tistory.com/116"
   ]
  },
  {
   "cell_type": "code",
   "execution_count": 3,
   "metadata": {},
   "outputs": [],
   "source": [
    "df = crawler(300, \"조국\", \"2019.09.04\", \"2019.09.08\") # 조국에 대한 이슈를 크롤링! 기간은 내가 제주도 가있는 동안!"
   ]
  },
  {
   "cell_type": "markdown",
   "metadata": {},
   "source": [
    "## 전처리"
   ]
  },
  {
   "cell_type": "code",
   "execution_count": 4,
   "metadata": {},
   "outputs": [],
   "source": [
    "text = df[\"title\"]"
   ]
  },
  {
   "cell_type": "code",
   "execution_count": 5,
   "metadata": {},
   "outputs": [
    {
     "name": "stderr",
     "output_type": "stream",
     "text": [
      "C:\\ProgramData\\Anaconda3\\lib\\site-packages\\jpype\\_core.py:210: UserWarning: \n",
      "-------------------------------------------------------------------------------\n",
      "Deprecated: convertStrings was not specified when starting the JVM. The default\n",
      "behavior in JPype will be False starting in JPype 0.8. The recommended setting\n",
      "for new code is convertStrings=False.  The legacy value of True was assumed for\n",
      "this session. If you are a user of an application that reported this warning,\n",
      "please file a ticket with the developer.\n",
      "-------------------------------------------------------------------------------\n",
      "\n",
      "  \"\"\")\n"
     ]
    }
   ],
   "source": [
    "twitter = Okt()\n",
    "def make_corpus_rm_stopwords(text):\n",
    "    corpus = []\n",
    "    for line in text:\n",
    "        corpus.append(['/'.join(p) for p in twitter.pos(line) if p[1] not in (\"Josa\", \"Punctuation\", \"Foreign\", \"Number\")]) #전처리 \n",
    "    return corpus\n",
    "\n",
    "#주로 명사를 다룰 것이기 때문에 너무 세세하고 나누는 다른 방법보다 twitter가 더 유용할 것으로 보인다."
   ]
  },
  {
   "cell_type": "code",
   "execution_count": 6,
   "metadata": {},
   "outputs": [],
   "source": [
    "corpus = make_corpus_rm_stopwords(text) # 말뭉치 형태로 변환"
   ]
  },
  {
   "cell_type": "markdown",
   "metadata": {},
   "source": [
    "## 모델링"
   ]
  },
  {
   "cell_type": "markdown",
   "metadata": {},
   "source": [
    "### 1. Skip Gram"
   ]
  },
  {
   "cell_type": "code",
   "execution_count": 7,
   "metadata": {},
   "outputs": [
    {
     "name": "stderr",
     "output_type": "stream",
     "text": [
      "C:\\ProgramData\\Anaconda3\\lib\\site-packages\\gensim\\models\\base_any2vec.py:743: UserWarning: C extension not loaded, training will be slow. Install a C compiler and reinstall gensim for fast training.\n",
      "  \"C extension not loaded, training will be slow. \"\n"
     ]
    }
   ],
   "source": [
    "Skip_Gram_model = Word2Vec(corpus, size=3, window=3, min_count=4, workers=multiprocessing.cpu_count(), iter=10, sg=1)\n",
    "# 3차원의 벡터로 변환, 주변 단어는 앞뒤로 세개까지, 코퍼스 내 출현 빈도 최소 4회, 스킵그램\n",
    "# 표본이 그렇게 많지 않기 때문에 min_count도 크지 않은 4으로 설정, 문장이 길지 않은 뉴스 기사 제목 분석이기 때문에 window 역시 크지 않은 3로 설정했다.\n",
    "# 역시 표본이 많지 않아 모델을 돌리는 속도가 크게 느리지 않기 때문에 iteration은 10 정도로 설정\n",
    "# 차원은 3이면 충분해보임"
   ]
  },
  {
   "cell_type": "code",
   "execution_count": 60,
   "metadata": {},
   "outputs": [],
   "source": [
    "w2c = dict()\n",
    "for item in Skip_Gram_model.wv.vocab :\n",
    "    w2c[item] = Skip_Gram_model.wv.vocab[item].count"
   ]
  },
  {
   "cell_type": "code",
   "execution_count": 61,
   "metadata": {},
   "outputs": [
    {
     "name": "stderr",
     "output_type": "stream",
     "text": [
      "C:\\ProgramData\\Anaconda3\\lib\\site-packages\\ipykernel_launcher.py:4: DeprecationWarning: Call to deprecated `most_similar` (Method will be removed in 4.0.0, use self.wv.most_similar() instead).\n",
      "  after removing the cwd from sys.path.\n"
     ]
    },
    {
     "data": {
      "text/plain": [
       "[('치닫는/Verb', 0.9999467134475708),\n",
       " ('부담/Noun', 0.9999353885650635),\n",
       " ('집회/Noun', 0.9998221397399902),\n",
       " ('초읽기/Noun', 0.9997962713241577),\n",
       " ('뒤/Noun', 0.9996634721755981),\n",
       " ('따라/Verb', 0.9996448159217834),\n",
       " ('위해/Noun', 0.9995923638343811),\n",
       " ('공세/Noun', 0.9995636940002441),\n",
       " ('이슈/Noun', 0.9993616938591003),\n",
       " ('자진/Noun', 0.9985596537590027),\n",
       " ('당연한/Adjective', 0.9983656406402588),\n",
       " ('폭풍/Noun', 0.998248279094696),\n",
       " ('수준/Noun', 0.9974390864372253),\n",
       " ('경실련/Noun', 0.9972667098045349),\n",
       " ('대안/Noun', 0.9969713687896729),\n",
       " ('경우/Noun', 0.9969574809074402),\n",
       " ('압박/Noun', 0.9968871474266052),\n",
       " ('워터게이트/Noun', 0.9967479109764099),\n",
       " ('대한/Noun', 0.9967138171195984),\n",
       " ('추석/Noun', 0.9966588020324707)]"
      ]
     },
     "execution_count": 61,
     "metadata": {},
     "output_type": "execute_result"
    }
   ],
   "source": [
    "words = Skip_Gram_model.wv.index2word\n",
    "vectors = Skip_Gram_model.wv.vectors\n",
    "Skip_Gram_model_result = dict(zip(words, vectors))\n",
    "Skip_Gram_model.most_similar('사퇴/Noun', topn=20)"
   ]
  },
  {
   "cell_type": "code",
   "execution_count": 62,
   "metadata": {},
   "outputs": [],
   "source": [
    "w2v_df = pd.DataFrame(vectors, columns = ['x1', 'x2', 'x3'])\n",
    "w2v_df['word'] = words\n",
    "w2v_df = w2v_df[['word', 'x1', 'x2', 'x3']]"
   ]
  },
  {
   "cell_type": "markdown",
   "metadata": {},
   "source": [
    "### 2. CBOW"
   ]
  },
  {
   "cell_type": "code",
   "execution_count": 10,
   "metadata": {},
   "outputs": [],
   "source": [
    "CBOW_model = Word2Vec(corpus, size=3, window=3, min_count=4, workers=multiprocessing.cpu_count(), iter=100, sg=0)"
   ]
  },
  {
   "cell_type": "code",
   "execution_count": 11,
   "metadata": {},
   "outputs": [
    {
     "name": "stderr",
     "output_type": "stream",
     "text": [
      "C:\\ProgramData\\Anaconda3\\lib\\site-packages\\ipykernel_launcher.py:4: DeprecationWarning: Call to deprecated `most_similar` (Method will be removed in 4.0.0, use self.wv.most_similar() instead).\n",
      "  after removing the cwd from sys.path.\n"
     ]
    },
    {
     "data": {
      "text/plain": [
       "[('데스노트/Noun', 0.9999883770942688),\n",
       " ('현장/Noun', 0.999874472618103),\n",
       " ('VS/Alpha', 0.9998599886894226),\n",
       " ('개혁/Noun', 0.9998507499694824),\n",
       " ('상실/Noun', 0.9997360706329346),\n",
       " ('정의당/Noun', 0.999668300151825),\n",
       " ('부적절/Noun', 0.9993557929992676),\n",
       " ('사법/Noun', 0.9992281794548035),\n",
       " ('따를/Verb', 0.999178409576416),\n",
       " ('자진/Noun', 0.9991564750671387),\n",
       " ('제외/Noun', 0.9987576007843018),\n",
       " ('전문/Noun', 0.9986372590065002),\n",
       " ('여론조사/Noun', 0.9985661506652832),\n",
       " ('찬성/Noun', 0.9985058307647705),\n",
       " ('아닌/Adjective', 0.9984228014945984),\n",
       " ('남용/Noun', 0.9982161521911621),\n",
       " ('하라/Noun', 0.9980080127716064),\n",
       " ('올려/Verb', 0.9979280233383179),\n",
       " ('있을/Adjective', 0.9978268146514893),\n",
       " ('분노/Noun', 0.9976824522018433)]"
      ]
     },
     "execution_count": 11,
     "metadata": {},
     "output_type": "execute_result"
    }
   ],
   "source": [
    "CBOW_words = CBOW_model.wv.index2word\n",
    "CBOW_vectors = CBOW_model.wv.vectors\n",
    "CBOW_model_result = dict(zip(words, vectors))\n",
    "CBOW_model.most_similar('사퇴/Noun', topn=20)"
   ]
  },
  {
   "cell_type": "code",
   "execution_count": 12,
   "metadata": {},
   "outputs": [],
   "source": [
    "CBOW_w2v_df = pd.DataFrame(CBOW_vectors, columns = ['x1', 'x2', 'x3'])\n",
    "CBOW_w2v_df['word'] = CBOW_words\n",
    "CBOW_w2v_df = w2v_df[['word', 'x1', 'x2', 'x3']]"
   ]
  },
  {
   "cell_type": "code",
   "execution_count": 13,
   "metadata": {},
   "outputs": [],
   "source": [
    "# CBOW 모델과 Skip-gram 모델을 비교하면 CBOW의 모델이 조금 더 논리적이라고 개인적으로 생각하지만, 실제 실험 결과에서는 Skip-gram이 CBOW에 비해 전체적으로 다소 좋은 결과를 내는 추세를 보인다. 현재는 대부분의 사람들이 Skip-gram 모델을 사용하는 것 같다.\n",
    "# 출처 : https://shuuki4.wordpress.com/2016/01/27/word2vec-%EA%B4%80%EB%A0%A8-%EC%9D%B4%EB%A1%A0-%EC%A0%95%EB%A6%AC/\n",
    "# 모델링 결과도 큰 차이가 없어보인다. Skip Gram 방법을 활용하여 분석해보기로 하자"
   ]
  },
  {
   "cell_type": "markdown",
   "metadata": {},
   "source": [
    "## 인사이트 도출"
   ]
  },
  {
   "cell_type": "markdown",
   "metadata": {},
   "source": [
    "어떤 단어가 어떤 단어들과 관련이 있는지를 클러스터링을 통해 분석한 후 각 클러스터를 살펴봐 인사이트를 도출하고자 한다."
   ]
  },
  {
   "cell_type": "code",
   "execution_count": 66,
   "metadata": {},
   "outputs": [],
   "source": [
    "count = [Skip_Gram_model.wv.vocab[item].count for item in Skip_Gram_model.wv.vocab]\n",
    "w2v_df[\"count\"] = count # 데이터 프레임에 빈도수 추가"
   ]
  },
  {
   "cell_type": "code",
   "execution_count": 67,
   "metadata": {},
   "outputs": [],
   "source": [
    "from sklearn.cluster import KMeans"
   ]
  },
  {
   "cell_type": "code",
   "execution_count": 91,
   "metadata": {},
   "outputs": [],
   "source": [
    "data_points = w2v_df.iloc[:, 1:4].values\n",
    "kmeans = KMeans(n_clusters=4).fit(data_points)\n",
    "w2v_df['cluster_id'] = kmeans.labels_\n",
    "\n",
    "# 약 5일간의 기간 동안의 데이터이므로 클러스터 갯수가 너무 많으면 제대로 주제로 나눠지기 힘들다고 판단해 4로 설정했다."
   ]
  },
  {
   "cell_type": "code",
   "execution_count": 92,
   "metadata": {},
   "outputs": [
    {
     "data": {
      "text/html": [
       "<div>\n",
       "<style scoped>\n",
       "    .dataframe tbody tr th:only-of-type {\n",
       "        vertical-align: middle;\n",
       "    }\n",
       "\n",
       "    .dataframe tbody tr th {\n",
       "        vertical-align: top;\n",
       "    }\n",
       "\n",
       "    .dataframe thead th {\n",
       "        text-align: right;\n",
       "    }\n",
       "</style>\n",
       "<table border=\"1\" class=\"dataframe\">\n",
       "  <thead>\n",
       "    <tr style=\"text-align: right;\">\n",
       "      <th></th>\n",
       "      <th>word</th>\n",
       "      <th>count</th>\n",
       "    </tr>\n",
       "  </thead>\n",
       "  <tbody>\n",
       "    <tr>\n",
       "      <th>1</th>\n",
       "      <td>임명/Noun</td>\n",
       "      <td>3114</td>\n",
       "    </tr>\n",
       "    <tr>\n",
       "      <th>58</th>\n",
       "      <td>존중/Noun</td>\n",
       "      <td>264</td>\n",
       "    </tr>\n",
       "    <tr>\n",
       "      <th>8</th>\n",
       "      <td>대통령/Noun</td>\n",
       "      <td>187</td>\n",
       "    </tr>\n",
       "    <tr>\n",
       "      <th>38</th>\n",
       "      <td>문/Noun</td>\n",
       "      <td>127</td>\n",
       "    </tr>\n",
       "    <tr>\n",
       "      <th>93</th>\n",
       "      <td>정의/Noun</td>\n",
       "      <td>127</td>\n",
       "    </tr>\n",
       "    <tr>\n",
       "      <th>269</th>\n",
       "      <td>이후/Noun</td>\n",
       "      <td>101</td>\n",
       "    </tr>\n",
       "    <tr>\n",
       "      <th>72</th>\n",
       "      <td>논의/Noun</td>\n",
       "      <td>82</td>\n",
       "    </tr>\n",
       "    <tr>\n",
       "      <th>78</th>\n",
       "      <td>긴급/Noun</td>\n",
       "      <td>79</td>\n",
       "    </tr>\n",
       "    <tr>\n",
       "      <th>35</th>\n",
       "      <td>강행/Noun</td>\n",
       "      <td>78</td>\n",
       "    </tr>\n",
       "    <tr>\n",
       "      <th>235</th>\n",
       "      <td>리얼미터/Noun</td>\n",
       "      <td>75</td>\n",
       "    </tr>\n",
       "    <tr>\n",
       "      <th>15</th>\n",
       "      <td>반대/Noun</td>\n",
       "      <td>70</td>\n",
       "    </tr>\n",
       "    <tr>\n",
       "      <th>19</th>\n",
       "      <td>당/Suffix</td>\n",
       "      <td>69</td>\n",
       "    </tr>\n",
       "    <tr>\n",
       "      <th>288</th>\n",
       "      <td>특검/Noun</td>\n",
       "      <td>65</td>\n",
       "    </tr>\n",
       "    <tr>\n",
       "      <th>91</th>\n",
       "      <td>듯/Noun</td>\n",
       "      <td>63</td>\n",
       "    </tr>\n",
       "    <tr>\n",
       "      <th>339</th>\n",
       "      <td>학/Noun</td>\n",
       "      <td>62</td>\n",
       "    </tr>\n",
       "  </tbody>\n",
       "</table>\n",
       "</div>"
      ],
      "text/plain": [
       "          word  count\n",
       "1      임명/Noun   3114\n",
       "58     존중/Noun    264\n",
       "8     대통령/Noun    187\n",
       "38      문/Noun    127\n",
       "93     정의/Noun    127\n",
       "269    이후/Noun    101\n",
       "72     논의/Noun     82\n",
       "78     긴급/Noun     79\n",
       "35     강행/Noun     78\n",
       "235  리얼미터/Noun     75\n",
       "15     반대/Noun     70\n",
       "19    당/Suffix     69\n",
       "288    특검/Noun     65\n",
       "91      듯/Noun     63\n",
       "339     학/Noun     62"
      ]
     },
     "execution_count": 92,
     "metadata": {},
     "output_type": "execute_result"
    }
   ],
   "source": [
    "w2v_df[w2v_df[\"cluster_id\"] == 0].loc[:,(\"word\", \"count\")].sort_values('count', ascending=False).head(15)"
   ]
  },
  {
   "cell_type": "code",
   "execution_count": 93,
   "metadata": {},
   "outputs": [
    {
     "data": {
      "text/html": [
       "<div>\n",
       "<style scoped>\n",
       "    .dataframe tbody tr th:only-of-type {\n",
       "        vertical-align: middle;\n",
       "    }\n",
       "\n",
       "    .dataframe tbody tr th {\n",
       "        vertical-align: top;\n",
       "    }\n",
       "\n",
       "    .dataframe thead th {\n",
       "        text-align: right;\n",
       "    }\n",
       "</style>\n",
       "<table border=\"1\" class=\"dataframe\">\n",
       "  <thead>\n",
       "    <tr style=\"text-align: right;\">\n",
       "      <th></th>\n",
       "      <th>word</th>\n",
       "      <th>count</th>\n",
       "    </tr>\n",
       "  </thead>\n",
       "  <tbody>\n",
       "    <tr>\n",
       "      <th>12</th>\n",
       "      <td>것/Noun</td>\n",
       "      <td>410</td>\n",
       "    </tr>\n",
       "    <tr>\n",
       "      <th>190</th>\n",
       "      <td>학생/Noun</td>\n",
       "      <td>384</td>\n",
       "    </tr>\n",
       "    <tr>\n",
       "      <th>89</th>\n",
       "      <td>안/Noun</td>\n",
       "      <td>190</td>\n",
       "    </tr>\n",
       "    <tr>\n",
       "      <th>88</th>\n",
       "      <td>포토/Noun</td>\n",
       "      <td>159</td>\n",
       "    </tr>\n",
       "    <tr>\n",
       "      <th>5</th>\n",
       "      <td>후보자/Noun</td>\n",
       "      <td>147</td>\n",
       "    </tr>\n",
       "    <tr>\n",
       "      <th>73</th>\n",
       "      <td>적/Suffix</td>\n",
       "      <td>142</td>\n",
       "    </tr>\n",
       "    <tr>\n",
       "      <th>136</th>\n",
       "      <td>청와대/Noun</td>\n",
       "      <td>136</td>\n",
       "    </tr>\n",
       "    <tr>\n",
       "      <th>18</th>\n",
       "      <td>개혁/Noun</td>\n",
       "      <td>95</td>\n",
       "    </tr>\n",
       "    <tr>\n",
       "      <th>412</th>\n",
       "      <td>두/Determiner</td>\n",
       "      <td>94</td>\n",
       "    </tr>\n",
       "    <tr>\n",
       "      <th>7</th>\n",
       "      <td>청문회/Noun</td>\n",
       "      <td>75</td>\n",
       "    </tr>\n",
       "    <tr>\n",
       "      <th>150</th>\n",
       "      <td>없는/Adjective</td>\n",
       "      <td>74</td>\n",
       "    </tr>\n",
       "    <tr>\n",
       "      <th>338</th>\n",
       "      <td>수준/Noun</td>\n",
       "      <td>72</td>\n",
       "    </tr>\n",
       "    <tr>\n",
       "      <th>610</th>\n",
       "      <td>해명글/Noun</td>\n",
       "      <td>68</td>\n",
       "    </tr>\n",
       "    <tr>\n",
       "      <th>104</th>\n",
       "      <td>전/Noun</td>\n",
       "      <td>66</td>\n",
       "    </tr>\n",
       "    <tr>\n",
       "      <th>279</th>\n",
       "      <td>맹탕/Noun</td>\n",
       "      <td>66</td>\n",
       "    </tr>\n",
       "  </tbody>\n",
       "</table>\n",
       "</div>"
      ],
      "text/plain": [
       "             word  count\n",
       "12         것/Noun    410\n",
       "190       학생/Noun    384\n",
       "89         안/Noun    190\n",
       "88        포토/Noun    159\n",
       "5        후보자/Noun    147\n",
       "73       적/Suffix    142\n",
       "136      청와대/Noun    136\n",
       "18        개혁/Noun     95\n",
       "412  두/Determiner     94\n",
       "7        청문회/Noun     75\n",
       "150  없는/Adjective     74\n",
       "338       수준/Noun     72\n",
       "610      해명글/Noun     68\n",
       "104        전/Noun     66\n",
       "279       맹탕/Noun     66"
      ]
     },
     "execution_count": 93,
     "metadata": {},
     "output_type": "execute_result"
    }
   ],
   "source": [
    "w2v_df[w2v_df[\"cluster_id\"] == 1].loc[:,(\"word\", \"count\")].sort_values('count', ascending=False).head(15)"
   ]
  },
  {
   "cell_type": "code",
   "execution_count": 94,
   "metadata": {},
   "outputs": [
    {
     "data": {
      "text/html": [
       "<div>\n",
       "<style scoped>\n",
       "    .dataframe tbody tr th:only-of-type {\n",
       "        vertical-align: middle;\n",
       "    }\n",
       "\n",
       "    .dataframe tbody tr th {\n",
       "        vertical-align: top;\n",
       "    }\n",
       "\n",
       "    .dataframe thead th {\n",
       "        text-align: right;\n",
       "    }\n",
       "</style>\n",
       "<table border=\"1\" class=\"dataframe\">\n",
       "  <thead>\n",
       "    <tr style=\"text-align: right;\">\n",
       "      <th></th>\n",
       "      <th>word</th>\n",
       "      <th>count</th>\n",
       "    </tr>\n",
       "  </thead>\n",
       "  <tbody>\n",
       "    <tr>\n",
       "      <th>6</th>\n",
       "      <td>딸/Noun</td>\n",
       "      <td>645</td>\n",
       "    </tr>\n",
       "    <tr>\n",
       "      <th>10</th>\n",
       "      <td>표창장/Noun</td>\n",
       "      <td>353</td>\n",
       "    </tr>\n",
       "    <tr>\n",
       "      <th>62</th>\n",
       "      <td>없이/Adverb</td>\n",
       "      <td>148</td>\n",
       "    </tr>\n",
       "    <tr>\n",
       "      <th>43</th>\n",
       "      <td>논문/Noun</td>\n",
       "      <td>145</td>\n",
       "    </tr>\n",
       "    <tr>\n",
       "      <th>44</th>\n",
       "      <td>정경/Noun</td>\n",
       "      <td>132</td>\n",
       "    </tr>\n",
       "    <tr>\n",
       "      <th>3</th>\n",
       "      <td>부인/Noun</td>\n",
       "      <td>129</td>\n",
       "    </tr>\n",
       "    <tr>\n",
       "      <th>17</th>\n",
       "      <td>동양대/Noun</td>\n",
       "      <td>109</td>\n",
       "    </tr>\n",
       "    <tr>\n",
       "      <th>4</th>\n",
       "      <td>기소/Noun</td>\n",
       "      <td>108</td>\n",
       "    </tr>\n",
       "    <tr>\n",
       "      <th>21</th>\n",
       "      <td>위조/Noun</td>\n",
       "      <td>85</td>\n",
       "    </tr>\n",
       "    <tr>\n",
       "      <th>22</th>\n",
       "      <td>소환/Noun</td>\n",
       "      <td>72</td>\n",
       "    </tr>\n",
       "    <tr>\n",
       "      <th>92</th>\n",
       "      <td>경찰/Noun</td>\n",
       "      <td>54</td>\n",
       "    </tr>\n",
       "    <tr>\n",
       "      <th>123</th>\n",
       "      <td>취소/Noun</td>\n",
       "      <td>51</td>\n",
       "    </tr>\n",
       "    <tr>\n",
       "      <th>107</th>\n",
       "      <td>피의자/Noun</td>\n",
       "      <td>51</td>\n",
       "    </tr>\n",
       "    <tr>\n",
       "      <th>249</th>\n",
       "      <td>위협/Noun</td>\n",
       "      <td>50</td>\n",
       "    </tr>\n",
       "    <tr>\n",
       "      <th>34</th>\n",
       "      <td>박지원/Noun</td>\n",
       "      <td>37</td>\n",
       "    </tr>\n",
       "  </tbody>\n",
       "</table>\n",
       "</div>"
      ],
      "text/plain": [
       "          word  count\n",
       "6       딸/Noun    645\n",
       "10    표창장/Noun    353\n",
       "62   없이/Adverb    148\n",
       "43     논문/Noun    145\n",
       "44     정경/Noun    132\n",
       "3      부인/Noun    129\n",
       "17    동양대/Noun    109\n",
       "4      기소/Noun    108\n",
       "21     위조/Noun     85\n",
       "22     소환/Noun     72\n",
       "92     경찰/Noun     54\n",
       "123    취소/Noun     51\n",
       "107   피의자/Noun     51\n",
       "249    위협/Noun     50\n",
       "34    박지원/Noun     37"
      ]
     },
     "execution_count": 94,
     "metadata": {},
     "output_type": "execute_result"
    }
   ],
   "source": [
    "w2v_df[w2v_df[\"cluster_id\"] == 2].loc[:,(\"word\", \"count\")].sort_values('count', ascending=False).head(15)"
   ]
  },
  {
   "cell_type": "code",
   "execution_count": 95,
   "metadata": {},
   "outputs": [
    {
     "data": {
      "text/html": [
       "<div>\n",
       "<style scoped>\n",
       "    .dataframe tbody tr th:only-of-type {\n",
       "        vertical-align: middle;\n",
       "    }\n",
       "\n",
       "    .dataframe tbody tr th {\n",
       "        vertical-align: top;\n",
       "    }\n",
       "\n",
       "    .dataframe thead th {\n",
       "        text-align: right;\n",
       "    }\n",
       "</style>\n",
       "<table border=\"1\" class=\"dataframe\">\n",
       "  <thead>\n",
       "    <tr style=\"text-align: right;\">\n",
       "      <th></th>\n",
       "      <th>word</th>\n",
       "      <th>count</th>\n",
       "    </tr>\n",
       "  </thead>\n",
       "  <tbody>\n",
       "    <tr>\n",
       "      <th>66</th>\n",
       "      <td>주광덕/Noun</td>\n",
       "      <td>433</td>\n",
       "    </tr>\n",
       "    <tr>\n",
       "      <th>129</th>\n",
       "      <td>공개/Noun</td>\n",
       "      <td>355</td>\n",
       "    </tr>\n",
       "    <tr>\n",
       "      <th>132</th>\n",
       "      <td>달라/Noun</td>\n",
       "      <td>347</td>\n",
       "    </tr>\n",
       "    <tr>\n",
       "      <th>16</th>\n",
       "      <td>총장/Noun</td>\n",
       "      <td>144</td>\n",
       "    </tr>\n",
       "    <tr>\n",
       "      <th>131</th>\n",
       "      <td>했다/Verb</td>\n",
       "      <td>137</td>\n",
       "    </tr>\n",
       "    <tr>\n",
       "      <th>196</th>\n",
       "      <td>측/Suffix</td>\n",
       "      <td>94</td>\n",
       "    </tr>\n",
       "    <tr>\n",
       "      <th>212</th>\n",
       "      <td>종용/Noun</td>\n",
       "      <td>86</td>\n",
       "    </tr>\n",
       "    <tr>\n",
       "      <th>64</th>\n",
       "      <td>증명서/Noun</td>\n",
       "      <td>76</td>\n",
       "    </tr>\n",
       "    <tr>\n",
       "      <th>80</th>\n",
       "      <td>생/Noun</td>\n",
       "      <td>75</td>\n",
       "    </tr>\n",
       "    <tr>\n",
       "      <th>278</th>\n",
       "      <td>자녀/Noun</td>\n",
       "      <td>67</td>\n",
       "    </tr>\n",
       "    <tr>\n",
       "      <th>70</th>\n",
       "      <td>통화/Noun</td>\n",
       "      <td>66</td>\n",
       "    </tr>\n",
       "    <tr>\n",
       "      <th>59</th>\n",
       "      <td>의원/Noun</td>\n",
       "      <td>61</td>\n",
       "    </tr>\n",
       "    <tr>\n",
       "      <th>114</th>\n",
       "      <td>아냐/Verb</td>\n",
       "      <td>59</td>\n",
       "    </tr>\n",
       "    <tr>\n",
       "      <th>42</th>\n",
       "      <td>아들/Noun</td>\n",
       "      <td>55</td>\n",
       "    </tr>\n",
       "    <tr>\n",
       "      <th>220</th>\n",
       "      <td>집/Noun</td>\n",
       "      <td>53</td>\n",
       "    </tr>\n",
       "  </tbody>\n",
       "</table>\n",
       "</div>"
      ],
      "text/plain": [
       "         word  count\n",
       "66   주광덕/Noun    433\n",
       "129   공개/Noun    355\n",
       "132   달라/Noun    347\n",
       "16    총장/Noun    144\n",
       "131   했다/Verb    137\n",
       "196  측/Suffix     94\n",
       "212   종용/Noun     86\n",
       "64   증명서/Noun     76\n",
       "80     생/Noun     75\n",
       "278   자녀/Noun     67\n",
       "70    통화/Noun     66\n",
       "59    의원/Noun     61\n",
       "114   아냐/Verb     59\n",
       "42    아들/Noun     55\n",
       "220    집/Noun     53"
      ]
     },
     "execution_count": 95,
     "metadata": {},
     "output_type": "execute_result"
    }
   ],
   "source": [
    "w2v_df[w2v_df[\"cluster_id\"] == 3].loc[:,(\"word\", \"count\")].sort_values('count', ascending=False).head(15)"
   ]
  },
  {
   "cell_type": "markdown",
   "metadata": {},
   "source": [
    "4개의 집단으로 클러스터링을 했으며, 나름대로 각각 주제를 잘 갖춰서 분류된거 같다.\n",
    "\n",
    "첫번째 집단의 경우 '임명' 과 '대통령', '문재인' 에 대한 이야기가 주로 언급되었다. 대통령이 임명을 감행함에 따라 혹은 여론조사를 통한 지지율 같은 주제로 볼 수 있었다.\n",
    "\n",
    "두번째 집단의 경우 '부인' 과 관련된 이슈인 것으로 보인다. 검색 결과 조국의 부인이 해명글을 올렸으며 포토라인 등에 대한 이야기가 나왔다.\n",
    "\n",
    "세번째 집단의 경우 '딸' 에 대한 이슈로 동양대 표창장 등의 이야기가 나왔다.\n",
    "\n",
    "네번째 집단의 경우 '주광덕' 의원이 청문회 과정에서 '조국' 에게 제기한 의혹들을 의미하며 아들 및 자녀들에 대한 이야기도 있으며 조국이 관련 인물과 통화를 했다는 의혹도 제기되어 '통화' 등의 키워드도 발견할 수 있었다.\n",
    "\n",
    "이와 같이 뉴스 기사 제목만을 클러스터링을 해 당시 기간동안 있었던 '조국' 에 관련된 여러 이슈들을 알아볼 수 있었다."
   ]
  },
  {
   "cell_type": "code",
   "execution_count": null,
   "metadata": {},
   "outputs": [],
   "source": []
  }
 ],
 "metadata": {
  "kernelspec": {
   "display_name": "Python 3",
   "language": "python",
   "name": "python3"
  },
  "language_info": {
   "codemirror_mode": {
    "name": "ipython",
    "version": 3
   },
   "file_extension": ".py",
   "mimetype": "text/x-python",
   "name": "python",
   "nbconvert_exporter": "python",
   "pygments_lexer": "ipython3",
   "version": "3.7.3"
  }
 },
 "nbformat": 4,
 "nbformat_minor": 4
}
