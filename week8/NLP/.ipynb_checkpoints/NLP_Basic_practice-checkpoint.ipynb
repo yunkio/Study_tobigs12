{
 "cells": [
  {
   "cell_type": "markdown",
   "metadata": {},
   "source": [
    "# NLP Basic 실습"
   ]
  },
  {
   "cell_type": "code",
   "execution_count": 1,
   "metadata": {},
   "outputs": [],
   "source": [
    "import numpy as np\n",
    "import pandas as pd\n",
    "# !pip3 install KoNLPy"
   ]
  },
  {
   "cell_type": "code",
   "execution_count": 2,
   "metadata": {},
   "outputs": [],
   "source": [
    "from konlpy.tag import *"
   ]
  },
  {
   "cell_type": "code",
   "execution_count": 3,
   "metadata": {},
   "outputs": [
    {
     "name": "stderr",
     "output_type": "stream",
     "text": [
      "C:\\ProgramData\\Anaconda3\\lib\\site-packages\\konlpy\\tag\\_okt.py:16: UserWarning: \"Twitter\" has changed to \"Okt\" since KoNLPy v0.4.5.\n",
      "  warn('\"Twitter\" has changed to \"Okt\" since KoNLPy v0.4.5.')\n"
     ]
    }
   ],
   "source": [
    "twitter = Okt()  #twitter class 객체당!\n",
    "komoran = Komoran()\n",
    "kkma = Kkma()\n",
    "# mecab = Mecab()\n",
    "# hannanum = Hannanum()"
   ]
  },
  {
   "cell_type": "code",
   "execution_count": 6,
   "metadata": {},
   "outputs": [],
   "source": [
    "text = \"이별을 말한 내가 이 정도인데 그대는 지금 얼마나 아플지\""
   ]
  },
  {
   "cell_type": "markdown",
   "metadata": {},
   "source": [
    "## 명사 추출"
   ]
  },
  {
   "cell_type": "code",
   "execution_count": 7,
   "metadata": {},
   "outputs": [
    {
     "data": {
      "text/plain": [
       "['이별', '말', '내', '이', '정도', '그대', '지금', '얼마나']"
      ]
     },
     "execution_count": 7,
     "metadata": {},
     "output_type": "execute_result"
    }
   ],
   "source": [
    "twitter.nouns(text)"
   ]
  },
  {
   "cell_type": "code",
   "execution_count": 8,
   "metadata": {},
   "outputs": [
    {
     "data": {
      "text/plain": [
       "['이별', '말', '정도']"
      ]
     },
     "execution_count": 8,
     "metadata": {},
     "output_type": "execute_result"
    }
   ],
   "source": [
    "komoran.nouns(text)"
   ]
  },
  {
   "cell_type": "code",
   "execution_count": 9,
   "metadata": {},
   "outputs": [
    {
     "data": {
      "text/plain": [
       "['이별', '내가', '정도', '그대']"
      ]
     },
     "execution_count": 9,
     "metadata": {},
     "output_type": "execute_result"
    }
   ],
   "source": [
    "kkma.nouns(text) #시간 제일 오래 걸림"
   ]
  },
  {
   "cell_type": "markdown",
   "metadata": {},
   "source": [
    "## 형태소 추출"
   ]
  },
  {
   "cell_type": "code",
   "execution_count": 10,
   "metadata": {},
   "outputs": [
    {
     "data": {
      "text/plain": [
       "['이별', '을', '말', '한', '내', '가', '이', '정도', '인데', '그대', '는', '지금', '얼마나', '아플지']"
      ]
     },
     "execution_count": 10,
     "metadata": {},
     "output_type": "execute_result"
    }
   ],
   "source": [
    "twitter.morphs(text)"
   ]
  },
  {
   "cell_type": "code",
   "execution_count": 11,
   "metadata": {},
   "outputs": [
    {
     "data": {
      "text/plain": [
       "['이별',\n",
       " '을',\n",
       " '말',\n",
       " '하',\n",
       " 'ㄴ',\n",
       " '내',\n",
       " '가',\n",
       " '이',\n",
       " '정도',\n",
       " '이',\n",
       " 'ㄴ데',\n",
       " '그대',\n",
       " '는',\n",
       " '지금',\n",
       " '얼마나',\n",
       " '아프',\n",
       " 'ㄹ지']"
      ]
     },
     "execution_count": 11,
     "metadata": {},
     "output_type": "execute_result"
    }
   ],
   "source": [
    "komoran.morphs(text)"
   ]
  },
  {
   "cell_type": "code",
   "execution_count": 12,
   "metadata": {},
   "outputs": [
    {
     "data": {
      "text/plain": [
       "['이별',\n",
       " '을',\n",
       " '말하',\n",
       " 'ㄴ',\n",
       " '내가',\n",
       " '이',\n",
       " '정도',\n",
       " '이',\n",
       " 'ㄴ데',\n",
       " '그대',\n",
       " '는',\n",
       " '지금',\n",
       " '얼마나',\n",
       " '아프',\n",
       " 'ㄹ지']"
      ]
     },
     "execution_count": 12,
     "metadata": {},
     "output_type": "execute_result"
    }
   ],
   "source": [
    "kkma.morphs(text)"
   ]
  },
  {
   "cell_type": "markdown",
   "metadata": {},
   "source": [
    "## 형태소 품사 태깅"
   ]
  },
  {
   "cell_type": "code",
   "execution_count": 13,
   "metadata": {},
   "outputs": [
    {
     "data": {
      "text/plain": [
       "[('이별', 'Noun'),\n",
       " ('을', 'Josa'),\n",
       " ('말', 'Noun'),\n",
       " ('한', 'Josa'),\n",
       " ('내', 'Noun'),\n",
       " ('가', 'Josa'),\n",
       " ('이', 'Noun'),\n",
       " ('정도', 'Noun'),\n",
       " ('인데', 'Josa'),\n",
       " ('그대', 'Noun'),\n",
       " ('는', 'Josa'),\n",
       " ('지금', 'Noun'),\n",
       " ('얼마나', 'Noun'),\n",
       " ('아플지', 'Adjective')]"
      ]
     },
     "execution_count": 13,
     "metadata": {},
     "output_type": "execute_result"
    }
   ],
   "source": [
    "twitter.pos(text)"
   ]
  },
  {
   "cell_type": "code",
   "execution_count": 14,
   "metadata": {},
   "outputs": [
    {
     "data": {
      "text/plain": [
       "[('이별', 'NNG'),\n",
       " ('을', 'JKO'),\n",
       " ('말', 'NNG'),\n",
       " ('하', 'XSV'),\n",
       " ('ㄴ', 'ETM'),\n",
       " ('내', 'NP'),\n",
       " ('가', 'JKS'),\n",
       " ('이', 'MM'),\n",
       " ('정도', 'NNG'),\n",
       " ('이', 'VCP'),\n",
       " ('ㄴ데', 'EC'),\n",
       " ('그대', 'NP'),\n",
       " ('는', 'JX'),\n",
       " ('지금', 'MAG'),\n",
       " ('얼마나', 'MAG'),\n",
       " ('아프', 'VA'),\n",
       " ('ㄹ지', 'EC')]"
      ]
     },
     "execution_count": 14,
     "metadata": {},
     "output_type": "execute_result"
    }
   ],
   "source": [
    "komoran.pos(text)"
   ]
  },
  {
   "cell_type": "code",
   "execution_count": 15,
   "metadata": {},
   "outputs": [
    {
     "data": {
      "text/plain": [
       "[('이별', 'NNG'),\n",
       " ('을', 'JKO'),\n",
       " ('말하', 'VV'),\n",
       " ('ㄴ', 'ETD'),\n",
       " ('내가', 'NNG'),\n",
       " ('이', 'MDT'),\n",
       " ('정도', 'NNG'),\n",
       " ('이', 'VCP'),\n",
       " ('ㄴ데', 'ECE'),\n",
       " ('그대', 'NP'),\n",
       " ('는', 'JX'),\n",
       " ('지금', 'MAG'),\n",
       " ('얼마나', 'MAG'),\n",
       " ('아프', 'VV'),\n",
       " ('ㄹ지', 'ECD')]"
      ]
     },
     "execution_count": 15,
     "metadata": {},
     "output_type": "execute_result"
    }
   ],
   "source": [
    "kkma.pos(text)"
   ]
  },
  {
   "cell_type": "markdown",
   "metadata": {},
   "source": [
    "# Word Embedding"
   ]
  },
  {
   "cell_type": "code",
   "execution_count": 35,
   "metadata": {},
   "outputs": [],
   "source": [
    "text = \"\"\"지금 생각해도 가슴 떨려 \n",
    "수줍게 넌 내게 고백했지 \n",
    "내리는 벚꽃 지나 겨울이 올 때 까지 \n",
    "언제나 너와 같이 있고 싶어 \n",
    "\n",
    "아마, 비 오던 여름날 밤이었을거야 \n",
    "추워 입술이 파랗게 질린 나 그리고 그대 \n",
    "내 손을 잡으며 입술을 맞추고 \n",
    "떨리던 나를 꼭 안아주던 그대 \n",
    "이제와 솔직히 입맞춤 보다 더 \n",
    "떨리던 나를 안아주던 그대의 품이 더 좋았어 \n",
    "\n",
    "내가 어떻게 해야 그대를 잊을 수 있을까 \n",
    "우리 헤어지게 된 날부터 \n",
    "내가 여기 살았었고 그대가 내게 살았었던 날들 \n",
    "\n",
    "나 솔직히 무섭다 \n",
    "그대 없는 생활 어떻게 버틸지 \n",
    "함께한 시간이 많아서였을까 \n",
    "생각할수록 자꾸만 미안했던 일이 떠올라 \n",
    "나 솔직히 무섭다 \n",
    "어제처럼 그대 있을 것만 같은데 \n",
    "하루에도 몇 번 그대 닮은 뒷모습에 \n",
    "가슴 주저앉는 이런 나를 어떻게 해야 하니 \n",
    "\n",
    "그댄 다 잊었겠지 \n",
    "내 귓가를 속삭이면서 사랑한다던 고백 \n",
    "그댄 알고 있을까? 내가 얼마나 사랑했는지 \n",
    "또 얼마를 그리워해야 그댈 잊을 수 있을지 \n",
    "\n",
    "난 그대가 아프다 \n",
    "언제나 말없이 환히 웃던 모습 \n",
    "못난 내 성격에 너무도 착했던 그대를 만난건 \n",
    "정말이지 행운이었다 생각해 \n",
    "난 그대가 아프다 \n",
    "여리고 순해서 눈물도 많았었지 \n",
    "이렇게 힘든데 이별을 말한 내가 이 정돈데 \n",
    "그대는 지금 얼마나 아플지 \n",
    "\n",
    "나 그대가 아프다 \n",
    "나 그 사람이 미안해 \n",
    "나 나 그 사람이 아프다\"\"\""
   ]
  },
  {
   "cell_type": "markdown",
   "metadata": {},
   "source": [
    "## Tokenize"
   ]
  },
  {
   "cell_type": "code",
   "execution_count": 17,
   "metadata": {},
   "outputs": [],
   "source": [
    "def make_corpus(text):\n",
    "    corpus = []\n",
    "    for s in text.split('\\n'):\n",
    "        corpus.append(['/'.join(p) for p in twitter.pos(s)])\n",
    "    return corpus\n",
    "\n",
    "def make_corpus_rm_stopwords(text):\n",
    "    corpus = []\n",
    "    for s in text.split('\\n'):\n",
    "        corpus.append(['/'.join(p) for p in twitter.pos(s) if p[1] != \"Josa\"]) #임베딩에 필요없는 조사 빼고! \n",
    "    return corpus"
   ]
  },
  {
   "cell_type": "code",
   "execution_count": 46,
   "metadata": {},
   "outputs": [],
   "source": [
    "corpus = make_corpus(text)\n",
    "corpus = make_corpus_rm_stopwords(text)"
   ]
  },
  {
   "cell_type": "markdown",
   "metadata": {},
   "source": [
    "## Train"
   ]
  },
  {
   "cell_type": "code",
   "execution_count": 19,
   "metadata": {},
   "outputs": [],
   "source": [
    "from gensim.models import Word2Vec, fasttext\n",
    "# input format : [[\"my\", \"name\", \"is\", \"jamie\"], [\"jamie\", \"is\", \"cute\"]]\n",
    "# size : 임베딩 차원\n",
    "# window : 윈도우 사이즈\n",
    "# min_count : 고려할 단어의 최소 빈도 기준\n",
    "# workers : cpu core 수\n",
    "# iter : 반복 학습 횟수(epoch)\n",
    "# sg : 0 -> CBOW, 1 -> Skip-Gram\n",
    "# CBOW_model - Word2Vec(corpus, size=2, window=2, min_count=2, workers=1, iter=1000, sg=1)"
   ]
  },
  {
   "cell_type": "code",
   "execution_count": 47,
   "metadata": {},
   "outputs": [],
   "source": [
    "Skip_Gram_model = Word2Vec(corpus, size=2, window=2, min_count=2, workers=1, iter=1000, sg=1)"
   ]
  },
  {
   "cell_type": "code",
   "execution_count": 19,
   "metadata": {
    "collapsed": true
   },
   "outputs": [],
   "source": [
    "# FT_CB_model = FastText(corpus, size=2, window=2, min_count=2, workers=1, iter=1000, sg=0)"
   ]
  },
  {
   "cell_type": "code",
   "execution_count": 20,
   "metadata": {
    "collapsed": true
   },
   "outputs": [],
   "source": [
    "# FT_SG_model = FastText(corpus, size=2, window=2, min_count=2, workers=1, iter=1000, sg=1)"
   ]
  },
  {
   "cell_type": "markdown",
   "metadata": {},
   "source": [
    "## Test & Result"
   ]
  },
  {
   "cell_type": "code",
   "execution_count": 48,
   "metadata": {},
   "outputs": [
    {
     "data": {
      "text/plain": [
       "['그대/Noun',\n",
       " '나/Noun',\n",
       " '내/Noun',\n",
       " '그/Noun',\n",
       " '아프다/Adjective',\n",
       " '생각/Noun',\n",
       " '나를/Verb',\n",
       " '솔직히/Adjective',\n",
       " '어떻게/Adjective',\n",
       " '해야/Verb',\n",
       " '지금/Noun',\n",
       " '가슴/Noun',\n",
       " '내게/Verb',\n",
       " '고백/Noun',\n",
       " '언제나/Adverb',\n",
       " '입술/Noun',\n",
       " '떨리던/Verb',\n",
       " '안아주던/Verb',\n",
       " '더/Noun',\n",
       " '잊을/Verb',\n",
       " '수/Noun',\n",
       " '있을까/Adjective',\n",
       " '날/Noun',\n",
       " '무섭다/Adjective',\n",
       " '댄/Verb',\n",
       " '사랑/Noun',\n",
       " '얼마나/Noun',\n",
       " '난/Noun',\n",
       " '말/Noun',\n",
       " '사람/Noun']"
      ]
     },
     "execution_count": 48,
     "metadata": {},
     "output_type": "execute_result"
    }
   ],
   "source": [
    "words = Skip_Gram_model.wv.index2word #one-hot encoding알아서 해줌 \n",
    "words"
   ]
  },
  {
   "cell_type": "code",
   "execution_count": 49,
   "metadata": {},
   "outputs": [
    {
     "data": {
      "text/plain": [
       "array([[ 1.0558451 , -0.778538  ],\n",
       "       [ 1.0119463 , -0.4897444 ],\n",
       "       [ 1.0585265 , -0.90142   ],\n",
       "       [ 1.4265578 , -0.5472976 ],\n",
       "       [ 0.65139   , -0.74577945],\n",
       "       [ 0.7884442 , -0.6230456 ],\n",
       "       [ 1.1965461 , -0.8724747 ],\n",
       "       [ 0.7565179 , -0.8487983 ],\n",
       "       [ 1.2259159 , -0.83080363],\n",
       "       [ 1.462344  , -0.7713356 ],\n",
       "       [ 0.93423724, -0.58373743],\n",
       "       [ 1.1880054 , -0.5257756 ],\n",
       "       [ 0.5683837 , -0.8171157 ],\n",
       "       [ 0.8604387 , -0.69591224],\n",
       "       [ 0.6774206 , -0.47093824],\n",
       "       [ 0.5774133 , -0.3908104 ],\n",
       "       [ 0.71589744, -1.3529428 ],\n",
       "       [ 0.6897625 , -1.3595866 ],\n",
       "       [ 0.9724898 , -0.8313545 ],\n",
       "       [ 1.4432527 , -0.7311549 ],\n",
       "       [ 1.7302284 , -0.5126427 ],\n",
       "       [ 1.1689337 , -1.0616009 ],\n",
       "       [ 0.6658221 , -0.62903583],\n",
       "       [ 1.0500131 , -0.12882541],\n",
       "       [ 0.8457471 , -1.1984769 ],\n",
       "       [ 0.9658646 , -0.9088194 ],\n",
       "       [ 0.86588705, -1.1813745 ],\n",
       "       [ 0.6199754 , -0.28499985],\n",
       "       [ 0.78676814, -0.38680625],\n",
       "       [ 0.7779111 , -0.5470225 ]], dtype=float32)"
      ]
     },
     "execution_count": 49,
     "metadata": {},
     "output_type": "execute_result"
    }
   ],
   "source": [
    "vectors = Skip_Gram_model.wv.vectors\n",
    "vectors"
   ]
  },
  {
   "cell_type": "code",
   "execution_count": 50,
   "metadata": {},
   "outputs": [],
   "source": [
    "Skip_Gram_model_result = dict(zip(words, vectors))"
   ]
  },
  {
   "cell_type": "code",
   "execution_count": 52,
   "metadata": {},
   "outputs": [
    {
     "name": "stderr",
     "output_type": "stream",
     "text": [
      "C:\\ProgramData\\Anaconda3\\lib\\site-packages\\ipykernel_launcher.py:1: DeprecationWarning: Call to deprecated `most_similar` (Method will be removed in 4.0.0, use self.wv.most_similar() instead).\n",
      "  \"\"\"Entry point for launching an IPython kernel.\n"
     ]
    },
    {
     "data": {
      "text/plain": [
       "[('솔직히/Adjective', 0.9999496936798096),\n",
       " ('얼마나/Noun', 0.9963518977165222),\n",
       " ('날/Noun', 0.9954093098640442),\n",
       " ('사랑/Noun', 0.9952141046524048),\n",
       " ('댄/Verb', 0.9946577548980713)]"
      ]
     },
     "execution_count": 52,
     "metadata": {},
     "output_type": "execute_result"
    }
   ],
   "source": [
    "Skip_Gram_model.most_similar('아프다/Adjective', topn=5)  #너라는 토큰과 유사한 top5개 보기  #word2vec 코사인 유사도!"
   ]
  },
  {
   "cell_type": "code",
   "execution_count": 53,
   "metadata": {},
   "outputs": [
    {
     "data": {
      "text/html": [
       "<div>\n",
       "<style scoped>\n",
       "    .dataframe tbody tr th:only-of-type {\n",
       "        vertical-align: middle;\n",
       "    }\n",
       "\n",
       "    .dataframe tbody tr th {\n",
       "        vertical-align: top;\n",
       "    }\n",
       "\n",
       "    .dataframe thead th {\n",
       "        text-align: right;\n",
       "    }\n",
       "</style>\n",
       "<table border=\"1\" class=\"dataframe\">\n",
       "  <thead>\n",
       "    <tr style=\"text-align: right;\">\n",
       "      <th></th>\n",
       "      <th>word</th>\n",
       "      <th>x1</th>\n",
       "      <th>x2</th>\n",
       "    </tr>\n",
       "  </thead>\n",
       "  <tbody>\n",
       "    <tr>\n",
       "      <th>0</th>\n",
       "      <td>그대/Noun</td>\n",
       "      <td>1.055845</td>\n",
       "      <td>-0.778538</td>\n",
       "    </tr>\n",
       "    <tr>\n",
       "      <th>1</th>\n",
       "      <td>나/Noun</td>\n",
       "      <td>1.011946</td>\n",
       "      <td>-0.489744</td>\n",
       "    </tr>\n",
       "    <tr>\n",
       "      <th>2</th>\n",
       "      <td>내/Noun</td>\n",
       "      <td>1.058527</td>\n",
       "      <td>-0.901420</td>\n",
       "    </tr>\n",
       "    <tr>\n",
       "      <th>3</th>\n",
       "      <td>그/Noun</td>\n",
       "      <td>1.426558</td>\n",
       "      <td>-0.547298</td>\n",
       "    </tr>\n",
       "    <tr>\n",
       "      <th>4</th>\n",
       "      <td>아프다/Adjective</td>\n",
       "      <td>0.651390</td>\n",
       "      <td>-0.745779</td>\n",
       "    </tr>\n",
       "    <tr>\n",
       "      <th>5</th>\n",
       "      <td>생각/Noun</td>\n",
       "      <td>0.788444</td>\n",
       "      <td>-0.623046</td>\n",
       "    </tr>\n",
       "    <tr>\n",
       "      <th>6</th>\n",
       "      <td>나를/Verb</td>\n",
       "      <td>1.196546</td>\n",
       "      <td>-0.872475</td>\n",
       "    </tr>\n",
       "    <tr>\n",
       "      <th>7</th>\n",
       "      <td>솔직히/Adjective</td>\n",
       "      <td>0.756518</td>\n",
       "      <td>-0.848798</td>\n",
       "    </tr>\n",
       "    <tr>\n",
       "      <th>8</th>\n",
       "      <td>어떻게/Adjective</td>\n",
       "      <td>1.225916</td>\n",
       "      <td>-0.830804</td>\n",
       "    </tr>\n",
       "    <tr>\n",
       "      <th>9</th>\n",
       "      <td>해야/Verb</td>\n",
       "      <td>1.462344</td>\n",
       "      <td>-0.771336</td>\n",
       "    </tr>\n",
       "    <tr>\n",
       "      <th>10</th>\n",
       "      <td>지금/Noun</td>\n",
       "      <td>0.934237</td>\n",
       "      <td>-0.583737</td>\n",
       "    </tr>\n",
       "    <tr>\n",
       "      <th>11</th>\n",
       "      <td>가슴/Noun</td>\n",
       "      <td>1.188005</td>\n",
       "      <td>-0.525776</td>\n",
       "    </tr>\n",
       "    <tr>\n",
       "      <th>12</th>\n",
       "      <td>내게/Verb</td>\n",
       "      <td>0.568384</td>\n",
       "      <td>-0.817116</td>\n",
       "    </tr>\n",
       "    <tr>\n",
       "      <th>13</th>\n",
       "      <td>고백/Noun</td>\n",
       "      <td>0.860439</td>\n",
       "      <td>-0.695912</td>\n",
       "    </tr>\n",
       "    <tr>\n",
       "      <th>14</th>\n",
       "      <td>언제나/Adverb</td>\n",
       "      <td>0.677421</td>\n",
       "      <td>-0.470938</td>\n",
       "    </tr>\n",
       "    <tr>\n",
       "      <th>15</th>\n",
       "      <td>입술/Noun</td>\n",
       "      <td>0.577413</td>\n",
       "      <td>-0.390810</td>\n",
       "    </tr>\n",
       "    <tr>\n",
       "      <th>16</th>\n",
       "      <td>떨리던/Verb</td>\n",
       "      <td>0.715897</td>\n",
       "      <td>-1.352943</td>\n",
       "    </tr>\n",
       "    <tr>\n",
       "      <th>17</th>\n",
       "      <td>안아주던/Verb</td>\n",
       "      <td>0.689762</td>\n",
       "      <td>-1.359587</td>\n",
       "    </tr>\n",
       "    <tr>\n",
       "      <th>18</th>\n",
       "      <td>더/Noun</td>\n",
       "      <td>0.972490</td>\n",
       "      <td>-0.831354</td>\n",
       "    </tr>\n",
       "    <tr>\n",
       "      <th>19</th>\n",
       "      <td>잊을/Verb</td>\n",
       "      <td>1.443253</td>\n",
       "      <td>-0.731155</td>\n",
       "    </tr>\n",
       "    <tr>\n",
       "      <th>20</th>\n",
       "      <td>수/Noun</td>\n",
       "      <td>1.730228</td>\n",
       "      <td>-0.512643</td>\n",
       "    </tr>\n",
       "    <tr>\n",
       "      <th>21</th>\n",
       "      <td>있을까/Adjective</td>\n",
       "      <td>1.168934</td>\n",
       "      <td>-1.061601</td>\n",
       "    </tr>\n",
       "    <tr>\n",
       "      <th>22</th>\n",
       "      <td>날/Noun</td>\n",
       "      <td>0.665822</td>\n",
       "      <td>-0.629036</td>\n",
       "    </tr>\n",
       "    <tr>\n",
       "      <th>23</th>\n",
       "      <td>무섭다/Adjective</td>\n",
       "      <td>1.050013</td>\n",
       "      <td>-0.128825</td>\n",
       "    </tr>\n",
       "    <tr>\n",
       "      <th>24</th>\n",
       "      <td>댄/Verb</td>\n",
       "      <td>0.845747</td>\n",
       "      <td>-1.198477</td>\n",
       "    </tr>\n",
       "    <tr>\n",
       "      <th>25</th>\n",
       "      <td>사랑/Noun</td>\n",
       "      <td>0.965865</td>\n",
       "      <td>-0.908819</td>\n",
       "    </tr>\n",
       "    <tr>\n",
       "      <th>26</th>\n",
       "      <td>얼마나/Noun</td>\n",
       "      <td>0.865887</td>\n",
       "      <td>-1.181375</td>\n",
       "    </tr>\n",
       "    <tr>\n",
       "      <th>27</th>\n",
       "      <td>난/Noun</td>\n",
       "      <td>0.619975</td>\n",
       "      <td>-0.285000</td>\n",
       "    </tr>\n",
       "    <tr>\n",
       "      <th>28</th>\n",
       "      <td>말/Noun</td>\n",
       "      <td>0.786768</td>\n",
       "      <td>-0.386806</td>\n",
       "    </tr>\n",
       "    <tr>\n",
       "      <th>29</th>\n",
       "      <td>사람/Noun</td>\n",
       "      <td>0.777911</td>\n",
       "      <td>-0.547023</td>\n",
       "    </tr>\n",
       "  </tbody>\n",
       "</table>\n",
       "</div>"
      ],
      "text/plain": [
       "             word        x1        x2\n",
       "0         그대/Noun  1.055845 -0.778538\n",
       "1          나/Noun  1.011946 -0.489744\n",
       "2          내/Noun  1.058527 -0.901420\n",
       "3          그/Noun  1.426558 -0.547298\n",
       "4   아프다/Adjective  0.651390 -0.745779\n",
       "5         생각/Noun  0.788444 -0.623046\n",
       "6         나를/Verb  1.196546 -0.872475\n",
       "7   솔직히/Adjective  0.756518 -0.848798\n",
       "8   어떻게/Adjective  1.225916 -0.830804\n",
       "9         해야/Verb  1.462344 -0.771336\n",
       "10        지금/Noun  0.934237 -0.583737\n",
       "11        가슴/Noun  1.188005 -0.525776\n",
       "12        내게/Verb  0.568384 -0.817116\n",
       "13        고백/Noun  0.860439 -0.695912\n",
       "14     언제나/Adverb  0.677421 -0.470938\n",
       "15        입술/Noun  0.577413 -0.390810\n",
       "16       떨리던/Verb  0.715897 -1.352943\n",
       "17      안아주던/Verb  0.689762 -1.359587\n",
       "18         더/Noun  0.972490 -0.831354\n",
       "19        잊을/Verb  1.443253 -0.731155\n",
       "20         수/Noun  1.730228 -0.512643\n",
       "21  있을까/Adjective  1.168934 -1.061601\n",
       "22         날/Noun  0.665822 -0.629036\n",
       "23  무섭다/Adjective  1.050013 -0.128825\n",
       "24         댄/Verb  0.845747 -1.198477\n",
       "25        사랑/Noun  0.965865 -0.908819\n",
       "26       얼마나/Noun  0.865887 -1.181375\n",
       "27         난/Noun  0.619975 -0.285000\n",
       "28         말/Noun  0.786768 -0.386806\n",
       "29        사람/Noun  0.777911 -0.547023"
      ]
     },
     "execution_count": 53,
     "metadata": {},
     "output_type": "execute_result"
    }
   ],
   "source": [
    "import pandas as pd\n",
    "w2v_df = pd.DataFrame(vectors, columns = ['x1', 'x2'])\n",
    "w2v_df['word'] = words\n",
    "w2v_df = w2v_df[['word', 'x1', 'x2']]\n",
    "w2v_df"
   ]
  },
  {
   "cell_type": "code",
   "execution_count": 55,
   "metadata": {},
   "outputs": [
    {
     "data": {
      "image/png": "[encoded data removed]",
      "text/plain": [
       "<Figure size 432x288 with 1 Axes>"
      ]
     },
     "metadata": {
      "needs_background": "light"
     },
     "output_type": "display_data"
    }
   ],
   "source": [
    "import matplotlib.pyplot as plt\n",
    "import numpy as np\n",
    "\n",
    "fig, ax = plt.subplots()\n",
    "\n",
    "for word, x1, x2 in zip(w2v_df['word'], w2v_df['x1'], w2v_df['x2']):\n",
    "    ax.annotate(word, (x1,x2 ))\n",
    "    \n",
    "PADDING = 1.0\n",
    "x_axis_min = np.amin(vectors, axis=0)[0] - PADDING\n",
    "y_axis_min = np.amin(vectors, axis=0)[1] - PADDING\n",
    "x_axis_max = np.amax(vectors, axis=0)[0] + PADDING\n",
    "y_axis_max = np.amax(vectors, axis=0)[1] + PADDING\n",
    " \n",
    "plt.xlim(x_axis_min,x_axis_max)\n",
    "plt.ylim(y_axis_min,y_axis_max)\n",
    "plt.rcParams[\"figure.figsize\"] = (100,100)\n",
    "\n",
    "plt.show()"
   ]
  },
  {
   "cell_type": "code",
   "execution_count": null,
   "metadata": {},
   "outputs": [],
   "source": []
  }
 ],
 "metadata": {
  "anaconda-cloud": {},
  "kernelspec": {
   "display_name": "Python 3",
   "language": "python",
   "name": "python3"
  },
  "language_info": {
   "codemirror_mode": {
    "name": "ipython",
    "version": 3
   },
   "file_extension": ".py",
   "mimetype": "text/x-python",
   "name": "python",
   "nbconvert_exporter": "python",
   "pygments_lexer": "ipython3",
   "version": "3.7.1"
  }
 },
 "nbformat": 4,
 "nbformat_minor": 2
}
