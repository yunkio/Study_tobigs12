{
 "cells": [
  {
   "cell_type": "code",
   "execution_count": 23,
   "metadata": {},
   "outputs": [
    {
     "name": "stdout",
     "output_type": "stream",
     "text": [
      "2 3\n",
      "hans\n",
      "nicole\n",
      "jackson\n",
      "hans\n",
      "nicole\n",
      "2\n",
      "Hans\n",
      "Nicole\n"
     ]
    }
   ],
   "source": [
    "A, B = (input().split())\n",
    "A_list, B_list = [input() for i in range(int(A))], [input() for i in range(int(B))]\n",
    "Pass = [result.capitalize() for result in B_list if result in A_list]\n",
    "print(len(Pass), \"\\n\".join(sorted(Pass)), sep=\"\\n\")"
   ]
  }
 ],
 "metadata": {
  "kernelspec": {
   "display_name": "Python 3",
   "language": "python",
   "name": "python3"
  },
  "language_info": {
   "codemirror_mode": {
    "name": "ipython",
    "version": 3
   },
   "file_extension": ".py",
   "mimetype": "text/x-python",
   "name": "python",
   "nbconvert_exporter": "python",
   "pygments_lexer": "ipython3",
   "version": "3.7.3"
  }
 },
 "nbformat": 4,
 "nbformat_minor": 2
}
