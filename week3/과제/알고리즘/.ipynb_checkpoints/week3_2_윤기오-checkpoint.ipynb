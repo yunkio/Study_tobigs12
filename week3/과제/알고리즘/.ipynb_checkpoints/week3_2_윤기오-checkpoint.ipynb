{
 "cells": [
  {
   "cell_type": "code",
   "execution_count": 72,
   "metadata": {},
   "outputs": [
    {
     "name": "stdout",
     "output_type": "stream",
     "text": [
      "3\n",
      "4\n",
      "35\n"
     ]
    }
   ],
   "source": [
    "m,n = int(input()),int(input())\n",
    "floor = [list(range(1, n+1))]\n",
    "for x in range(m) :\n",
    "    floor.append([sum(floor[x][:room]) for room in range(1, n+1)])\n",
    "print(floor[-1][-1])"
   ]
  }
 ],
 "metadata": {
  "kernelspec": {
   "display_name": "Python 3",
   "language": "python",
   "name": "python3"
  },
  "language_info": {
   "codemirror_mode": {
    "name": "ipython",
    "version": 3
   },
   "file_extension": ".py",
   "mimetype": "text/x-python",
   "name": "python",
   "nbconvert_exporter": "python",
   "pygments_lexer": "ipython3",
   "version": "3.7.3"
  }
 },
 "nbformat": 4,
 "nbformat_minor": 2
}
