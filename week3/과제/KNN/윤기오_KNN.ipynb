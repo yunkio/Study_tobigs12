{
 "cells": [
  {
   "cell_type": "code",
   "execution_count": 346,
   "metadata": {},
   "outputs": [],
   "source": [
    "import numpy as np\n",
    "import pandas as pd\n",
    "from sklearn.datasets import load_iris\n",
    "from sklearn.model_selection import train_test_split \n",
    "from sklearn.neighbors import KNeighborsClassifier\n",
    "import math"
   ]
  },
  {
   "cell_type": "code",
   "execution_count": 347,
   "metadata": {},
   "outputs": [],
   "source": [
    "iris = load_iris()"
   ]
  },
  {
   "cell_type": "code",
   "execution_count": 348,
   "metadata": {},
   "outputs": [],
   "source": [
    "#iris.data -> features, iris.target -> labels\n",
    "X = iris.data\n",
    "y = iris.target"
   ]
  },
  {
   "cell_type": "markdown",
   "metadata": {},
   "source": [
    "- About data : https://www.kaggle.com/uciml/iris"
   ]
  },
  {
   "cell_type": "code",
   "execution_count": 349,
   "metadata": {},
   "outputs": [],
   "source": [
    "# split into test and train dataset, and use random_state=48\n",
    "X_train, X_test, y_train, y_test = train_test_split(X, y, test_size = 0.3, random_state=48)"
   ]
  },
  {
   "cell_type": "code",
   "execution_count": 350,
   "metadata": {},
   "outputs": [],
   "source": [
    "from sklearn.preprocessing import StandardScaler"
   ]
  },
  {
   "cell_type": "markdown",
   "metadata": {},
   "source": [
    "- Documentation for \"StandardScaler\" : https://scikit-learn.org/stable/modules/generated/sklearn.preprocessing.StandardScaler.html"
   ]
  },
  {
   "cell_type": "code",
   "execution_count": 351,
   "metadata": {},
   "outputs": [],
   "source": [
    "ss = StandardScaler()\n",
    "\n",
    "X_train=ss.fit_transform(X_train)\n",
    "X_test=ss.transform(X_test)"
   ]
  },
  {
   "cell_type": "code",
   "execution_count": 352,
   "metadata": {},
   "outputs": [],
   "source": [
    "trainSet=np.column_stack((X_train, y_train))\n",
    "testSet=np.column_stack((X_test, y_test))"
   ]
  },
  {
   "cell_type": "code",
   "execution_count": 353,
   "metadata": {},
   "outputs": [
    {
     "data": {
      "text/plain": [
       "4"
      ]
     },
     "execution_count": 353,
     "metadata": {},
     "output_type": "execute_result"
    }
   ],
   "source": [
    "len(X_train[0])"
   ]
  },
  {
   "cell_type": "markdown",
   "metadata": {},
   "source": [
    "### KNN Classifier Implementation (Majority voting)"
   ]
  },
  {
   "cell_type": "code",
   "execution_count": 384,
   "metadata": {},
   "outputs": [],
   "source": [
    "def getDistance(p, instance1, instance2):\n",
    "    distance = (sum((abs(instance1 - instance2))**p))**(1/p)\n",
    "    return distance"
   ]
  },
  {
   "cell_type": "code",
   "execution_count": 385,
   "metadata": {},
   "outputs": [],
   "source": [
    "def getNeighbors(p, trainSet, testInstance, k):\n",
    "    all_dis = list()\n",
    "    for instance in range(len(trainSet)):\n",
    "        distance = getDistance(p, (trainSet[instance])[:-1], testInstance[:-1])\n",
    "        all_dis.append(distance)\n",
    "    neighbors = trainSet[np.argsort(all_dis)[:k]]\n",
    "    return neighbors"
   ]
  },
  {
   "cell_type": "code",
   "execution_count": 386,
   "metadata": {},
   "outputs": [],
   "source": [
    "def getResponse(neighbors):\n",
    "    vote = np.argmax(np.bincount((neighbors[:,-1]).astype(int)))\n",
    "    return vote.astype(float)"
   ]
  },
  {
   "cell_type": "code",
   "execution_count": 387,
   "metadata": {},
   "outputs": [],
   "source": [
    "def getAccuracy(testSet, predictions):\n",
    "    accuracy_score = (sum(predictions == testSet[:, -1]) / len(testSet)) * 100\n",
    "    return accuracy_score"
   ]
  },
  {
   "cell_type": "markdown",
   "metadata": {},
   "source": [
    "### Euclidean distance, k = 3"
   ]
  },
  {
   "cell_type": "code",
   "execution_count": 395,
   "metadata": {},
   "outputs": [],
   "source": [
    "k = 3\n",
    "p = 2"
   ]
  },
  {
   "cell_type": "code",
   "execution_count": 396,
   "metadata": {},
   "outputs": [
    {
     "name": "stdout",
     "output_type": "stream",
     "text": [
      "0 > predicted : 1.0, actual : 1.0\n",
      "1 > predicted : 1.0, actual : 1.0\n",
      "2 > predicted : 2.0, actual : 2.0\n",
      "3 > predicted : 1.0, actual : 0.0\n",
      "4 > predicted : 1.0, actual : 1.0\n",
      "5 > predicted : 2.0, actual : 2.0\n",
      "6 > predicted : 0.0, actual : 0.0\n",
      "7 > predicted : 1.0, actual : 2.0\n",
      "8 > predicted : 0.0, actual : 0.0\n",
      "9 > predicted : 1.0, actual : 1.0\n",
      "10 > predicted : 2.0, actual : 2.0\n",
      "11 > predicted : 0.0, actual : 0.0\n",
      "12 > predicted : 0.0, actual : 0.0\n",
      "13 > predicted : 2.0, actual : 2.0\n",
      "14 > predicted : 1.0, actual : 1.0\n",
      "15 > predicted : 1.0, actual : 1.0\n",
      "16 > predicted : 0.0, actual : 0.0\n",
      "17 > predicted : 1.0, actual : 1.0\n",
      "18 > predicted : 2.0, actual : 1.0\n",
      "19 > predicted : 2.0, actual : 2.0\n",
      "20 > predicted : 0.0, actual : 0.0\n",
      "21 > predicted : 2.0, actual : 2.0\n",
      "22 > predicted : 1.0, actual : 1.0\n",
      "23 > predicted : 1.0, actual : 1.0\n",
      "24 > predicted : 2.0, actual : 2.0\n",
      "25 > predicted : 0.0, actual : 0.0\n",
      "26 > predicted : 0.0, actual : 0.0\n",
      "27 > predicted : 2.0, actual : 2.0\n",
      "28 > predicted : 2.0, actual : 2.0\n",
      "29 > predicted : 1.0, actual : 1.0\n",
      "30 > predicted : 2.0, actual : 2.0\n",
      "31 > predicted : 1.0, actual : 1.0\n",
      "32 > predicted : 2.0, actual : 2.0\n",
      "33 > predicted : 0.0, actual : 0.0\n",
      "34 > predicted : 1.0, actual : 1.0\n",
      "35 > predicted : 2.0, actual : 2.0\n",
      "36 > predicted : 1.0, actual : 2.0\n",
      "37 > predicted : 1.0, actual : 1.0\n",
      "38 > predicted : 0.0, actual : 0.0\n",
      "39 > predicted : 1.0, actual : 1.0\n",
      "40 > predicted : 1.0, actual : 1.0\n",
      "41 > predicted : 1.0, actual : 1.0\n",
      "42 > predicted : 2.0, actual : 2.0\n",
      "43 > predicted : 1.0, actual : 2.0\n",
      "44 > predicted : 1.0, actual : 1.0\n"
     ]
    }
   ],
   "source": [
    "predictions=[]\n",
    "\n",
    "for i in range(len(testSet)):\n",
    "    neighbors = getNeighbors(p, trainSet, testSet[i], k)\n",
    "    result = getResponse(neighbors)\n",
    "    predictions.append(result)\n",
    "    print(str(i) + ' > predicted : ' + str(result) + ', actual : ' + str(testSet[i][-1]))"
   ]
  },
  {
   "cell_type": "code",
   "execution_count": 397,
   "metadata": {},
   "outputs": [
    {
     "name": "stdout",
     "output_type": "stream",
     "text": [
      "Accuracy: 88.88888888888889%\n"
     ]
    }
   ],
   "source": [
    "accuracy = getAccuracy(testSet, predictions)\n",
    "print('Accuracy: ' + str(accuracy) + '%')"
   ]
  },
  {
   "cell_type": "markdown",
   "metadata": {},
   "source": [
    "### Manhattan distance, k=3"
   ]
  },
  {
   "cell_type": "code",
   "execution_count": 398,
   "metadata": {},
   "outputs": [],
   "source": [
    "k = 3\n",
    "p = 1 # Manhattan distance"
   ]
  },
  {
   "cell_type": "code",
   "execution_count": 399,
   "metadata": {},
   "outputs": [
    {
     "name": "stdout",
     "output_type": "stream",
     "text": [
      "0 > predicted : 1.0, actual : 1.0\n",
      "1 > predicted : 1.0, actual : 1.0\n",
      "2 > predicted : 1.0, actual : 2.0\n",
      "3 > predicted : 0.0, actual : 0.0\n",
      "4 > predicted : 1.0, actual : 1.0\n",
      "5 > predicted : 2.0, actual : 2.0\n",
      "6 > predicted : 0.0, actual : 0.0\n",
      "7 > predicted : 1.0, actual : 2.0\n",
      "8 > predicted : 0.0, actual : 0.0\n",
      "9 > predicted : 1.0, actual : 1.0\n",
      "10 > predicted : 2.0, actual : 2.0\n",
      "11 > predicted : 0.0, actual : 0.0\n",
      "12 > predicted : 0.0, actual : 0.0\n",
      "13 > predicted : 2.0, actual : 2.0\n",
      "14 > predicted : 1.0, actual : 1.0\n",
      "15 > predicted : 1.0, actual : 1.0\n",
      "16 > predicted : 0.0, actual : 0.0\n",
      "17 > predicted : 1.0, actual : 1.0\n",
      "18 > predicted : 2.0, actual : 1.0\n",
      "19 > predicted : 2.0, actual : 2.0\n",
      "20 > predicted : 0.0, actual : 0.0\n",
      "21 > predicted : 2.0, actual : 2.0\n",
      "22 > predicted : 1.0, actual : 1.0\n",
      "23 > predicted : 1.0, actual : 1.0\n",
      "24 > predicted : 2.0, actual : 2.0\n",
      "25 > predicted : 0.0, actual : 0.0\n",
      "26 > predicted : 0.0, actual : 0.0\n",
      "27 > predicted : 2.0, actual : 2.0\n",
      "28 > predicted : 2.0, actual : 2.0\n",
      "29 > predicted : 1.0, actual : 1.0\n",
      "30 > predicted : 2.0, actual : 2.0\n",
      "31 > predicted : 1.0, actual : 1.0\n",
      "32 > predicted : 2.0, actual : 2.0\n",
      "33 > predicted : 0.0, actual : 0.0\n",
      "34 > predicted : 1.0, actual : 1.0\n",
      "35 > predicted : 2.0, actual : 2.0\n",
      "36 > predicted : 1.0, actual : 2.0\n",
      "37 > predicted : 1.0, actual : 1.0\n",
      "38 > predicted : 0.0, actual : 0.0\n",
      "39 > predicted : 1.0, actual : 1.0\n",
      "40 > predicted : 1.0, actual : 1.0\n",
      "41 > predicted : 1.0, actual : 1.0\n",
      "42 > predicted : 2.0, actual : 2.0\n",
      "43 > predicted : 2.0, actual : 2.0\n",
      "44 > predicted : 1.0, actual : 1.0\n"
     ]
    }
   ],
   "source": [
    "predictions=[]\n",
    "\n",
    "for i in range(len(testSet)):\n",
    "    neighbors = getNeighbors(p, trainSet, testSet[i], k)\n",
    "    result = getResponse(neighbors)\n",
    "    predictions.append(result)\n",
    "    print(str(i) + ' > predicted : ' + str(result) + ', actual : ' + str(testSet[i][-1]))"
   ]
  },
  {
   "cell_type": "code",
   "execution_count": 400,
   "metadata": {},
   "outputs": [
    {
     "name": "stdout",
     "output_type": "stream",
     "text": [
      "Accuracy: 91.11111111111111%\n"
     ]
    }
   ],
   "source": [
    "accuracy = getAccuracy(testSet, predictions)\n",
    "print('Accuracy: ' + str(accuracy) + '%')"
   ]
  },
  {
   "cell_type": "code",
   "execution_count": 401,
   "metadata": {},
   "outputs": [],
   "source": [
    "# p=2 일때보다 p=1일때, 즉 맨하탄 거리를 이용할 때 더 정확도가 높았다."
   ]
  },
  {
   "cell_type": "markdown",
   "metadata": {},
   "source": [
    "### Weighted KNN 구현하기"
   ]
  },
  {
   "cell_type": "code",
   "execution_count": 379,
   "metadata": {},
   "outputs": [],
   "source": [
    "def getWeighted(p, trainSet, testInstance, k):\n",
    "    all_dis = list()\n",
    "    for instance in range(len(trainSet)):\n",
    "        distance = getDistance(p, (trainSet[instance])[:-1], testInstance[:-1])\n",
    "        all_dis.append(distance)\n",
    "    neighbors = trainSet[np.argsort(all_dis)[:k]]\n",
    "    distance = np.sort(all_dis)[:k]\n",
    "    sim = 1/distance\n",
    "    weight = sim / sum(sim)\n",
    "    weighted = np.column_stack((neighbors, weight))\n",
    "    df = pd.DataFrame(weighted[:,-2:], columns = ['value', 'weight'])\n",
    "    result = df.groupby(df['value']).sum()\n",
    "    return (result['weight'].idxmax())"
   ]
  },
  {
   "cell_type": "code",
   "execution_count": 382,
   "metadata": {},
   "outputs": [
    {
     "name": "stdout",
     "output_type": "stream",
     "text": [
      "0 > predicted : 1.0, actual : 1.0\n",
      "1 > predicted : 1.0, actual : 1.0\n",
      "2 > predicted : 1.0, actual : 2.0\n",
      "3 > predicted : 0.0, actual : 0.0\n",
      "4 > predicted : 1.0, actual : 1.0\n",
      "5 > predicted : 2.0, actual : 2.0\n",
      "6 > predicted : 0.0, actual : 0.0\n",
      "7 > predicted : 1.0, actual : 2.0\n",
      "8 > predicted : 0.0, actual : 0.0\n",
      "9 > predicted : 1.0, actual : 1.0\n",
      "10 > predicted : 2.0, actual : 2.0\n",
      "11 > predicted : 0.0, actual : 0.0\n",
      "12 > predicted : 0.0, actual : 0.0\n",
      "13 > predicted : 2.0, actual : 2.0\n",
      "14 > predicted : 1.0, actual : 1.0\n",
      "15 > predicted : 1.0, actual : 1.0\n",
      "16 > predicted : 0.0, actual : 0.0\n",
      "17 > predicted : 1.0, actual : 1.0\n",
      "18 > predicted : 2.0, actual : 1.0\n",
      "19 > predicted : 2.0, actual : 2.0\n",
      "20 > predicted : 0.0, actual : 0.0\n",
      "21 > predicted : 2.0, actual : 2.0\n",
      "22 > predicted : 1.0, actual : 1.0\n",
      "23 > predicted : 1.0, actual : 1.0\n",
      "24 > predicted : 2.0, actual : 2.0\n",
      "25 > predicted : 0.0, actual : 0.0\n",
      "26 > predicted : 0.0, actual : 0.0\n",
      "27 > predicted : 2.0, actual : 2.0\n",
      "28 > predicted : 2.0, actual : 2.0\n",
      "29 > predicted : 1.0, actual : 1.0\n",
      "30 > predicted : 2.0, actual : 2.0\n",
      "31 > predicted : 1.0, actual : 1.0\n",
      "32 > predicted : 2.0, actual : 2.0\n",
      "33 > predicted : 0.0, actual : 0.0\n",
      "34 > predicted : 1.0, actual : 1.0\n",
      "35 > predicted : 2.0, actual : 2.0\n",
      "36 > predicted : 1.0, actual : 2.0\n",
      "37 > predicted : 1.0, actual : 1.0\n",
      "38 > predicted : 0.0, actual : 0.0\n",
      "39 > predicted : 1.0, actual : 1.0\n",
      "40 > predicted : 1.0, actual : 1.0\n",
      "41 > predicted : 1.0, actual : 1.0\n",
      "42 > predicted : 2.0, actual : 2.0\n",
      "43 > predicted : 2.0, actual : 2.0\n",
      "44 > predicted : 1.0, actual : 1.0\n"
     ]
    }
   ],
   "source": [
    "k = 3\n",
    "p = 1\n",
    "\n",
    "predictions=[]\n",
    "for i in range(len(testSet)):\n",
    "    result = getWeighted(p, trainSet, testSet[i], k)\n",
    "    predictions.append(result)\n",
    "    print(str(i) + ' > predicted : ' + str(result) + ', actual : ' + str(testSet[i][-1]))"
   ]
  },
  {
   "cell_type": "code",
   "execution_count": 383,
   "metadata": {},
   "outputs": [
    {
     "name": "stdout",
     "output_type": "stream",
     "text": [
      "Accuracy: 91.11111111111111%\n"
     ]
    }
   ],
   "source": [
    "accuracy = getAccuracy(testSet, predictions)\n",
    "print('Accuracy: ' + str(accuracy) + '%')"
   ]
  },
  {
   "cell_type": "code",
   "execution_count": 403,
   "metadata": {},
   "outputs": [],
   "source": [
    "#해당 데이터는 아쉽게도 Majority voting과 다수결 voting의 정확도 차이가 없었다..."
   ]
  }
 ],
 "metadata": {
  "kernelspec": {
   "display_name": "Python 3",
   "language": "python",
   "name": "python3"
  },
  "language_info": {
   "codemirror_mode": {
    "name": "ipython",
    "version": 3
   },
   "file_extension": ".py",
   "mimetype": "text/x-python",
   "name": "python",
   "nbconvert_exporter": "python",
   "pygments_lexer": "ipython3",
   "version": "3.7.3"
  }
 },
 "nbformat": 4,
 "nbformat_minor": 2
}
