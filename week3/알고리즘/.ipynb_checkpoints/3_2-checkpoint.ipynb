{
 "cells": [
  {
   "cell_type": "code",
   "execution_count": 92,
   "metadata": {},
   "outputs": [
    {
     "name": "stdout",
     "output_type": "stream",
     "text": [
      "5\n",
      "6\n",
      "462\n"
     ]
    }
   ],
   "source": [
    "m = int(input())\n",
    "floor = [list(range(1, int(input())+1))]\n",
    "y=0\n",
    "for f in range(m) :    \n",
    "    step=list()\n",
    "    x=1\n",
    "    for i in floor[0]:\n",
    "        step.append(sum(floor[y][0:x]))\n",
    "        x+=1\n",
    "    floor.append(step)\n",
    "    y+=1\n",
    "print(floor[-1][-1])\n",
    "    "
   ]
  }
 ],
 "metadata": {
  "kernelspec": {
   "display_name": "Python 3",
   "language": "python",
   "name": "python3"
  },
  "language_info": {
   "codemirror_mode": {
    "name": "ipython",
    "version": 3
   },
   "file_extension": ".py",
   "mimetype": "text/x-python",
   "name": "python",
   "nbconvert_exporter": "python",
   "pygments_lexer": "ipython3",
   "version": "3.7.3"
  }
 },
 "nbformat": 4,
 "nbformat_minor": 2
}
