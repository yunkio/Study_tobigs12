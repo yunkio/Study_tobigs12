{
 "cells": [
  {
   "cell_type": "code",
   "execution_count": 1,
   "metadata": {},
   "outputs": [],
   "source": [
    "import numpy as np\n",
    "import pandas as pd\n",
    "from sklearn.datasets import load_iris\n",
    "from sklearn.model_selection import train_test_split \n",
    "from sklearn.neighbors import KNeighborsClassifier\n",
    "import math"
   ]
  },
  {
   "cell_type": "code",
   "execution_count": 2,
   "metadata": {},
   "outputs": [],
   "source": [
    "iris = load_iris()"
   ]
  },
  {
   "cell_type": "code",
   "execution_count": 3,
   "metadata": {},
   "outputs": [],
   "source": [
    "#iris.data -> features, iris.target -> labels\n",
    "X = iris.data\n",
    "y = iris.target"
   ]
  },
  {
   "cell_type": "markdown",
   "metadata": {},
   "source": [
    "- About data : https://www.kaggle.com/uciml/iris"
   ]
  },
  {
   "cell_type": "code",
   "execution_count": 4,
   "metadata": {},
   "outputs": [],
   "source": [
    "# split into test and train dataset, and use random_state=48\n",
    "X_train, X_test, y_train, y_test = train_test_split(X, y, test_size = 0.3, random_state=48)"
   ]
  },
  {
   "cell_type": "code",
   "execution_count": 5,
   "metadata": {},
   "outputs": [],
   "source": [
    "from sklearn.preprocessing import StandardScaler"
   ]
  },
  {
   "cell_type": "markdown",
   "metadata": {},
   "source": [
    "- Documentation for \"StandardScaler\" : https://scikit-learn.org/stable/modules/generated/sklearn.preprocessing.StandardScaler.html"
   ]
  },
  {
   "cell_type": "code",
   "execution_count": 6,
   "metadata": {},
   "outputs": [
    {
     "data": {
      "text/plain": [
       "'\\nss = StandardScaler()\\n\\nX_train=ss.fit_transform(X_train)\\nX_test=ss.transform(X_test)\\n'"
      ]
     },
     "execution_count": 6,
     "metadata": {},
     "output_type": "execute_result"
    }
   ],
   "source": [
    "'''\n",
    "ss = StandardScaler()\n",
    "\n",
    "X_train=ss.fit_transform(X_train)\n",
    "X_test=ss.transform(X_test)\n",
    "'''"
   ]
  },
  {
   "cell_type": "code",
   "execution_count": 7,
   "metadata": {},
   "outputs": [],
   "source": [
    "trainSet=np.column_stack((X_train, y_train))\n",
    "testSet=np.column_stack((X_test, y_test))"
   ]
  },
  {
   "cell_type": "markdown",
   "metadata": {},
   "source": [
    "### KNN Classifier Implementation"
   ]
  },
  {
   "cell_type": "code",
   "execution_count": 8,
   "metadata": {},
   "outputs": [],
   "source": [
    "def getDistance(p, instance1, instance2):\n",
    "    # p=1 : return Manhattan Distance\n",
    "    # p=2 : return Eucludean Distance\n",
    "    '''\n",
    "\n",
    "\n",
    "    '''\n",
    "    return distance"
   ]
  },
  {
   "cell_type": "code",
   "execution_count": 9,
   "metadata": {},
   "outputs": [],
   "source": [
    "def getNeighbors(p, trainSet, testInstance, k):\n",
    "    # p=1 : return Manhattan Distance\n",
    "    # p=2 : return Eucludean Distance\n",
    "    '''\n",
    "\n",
    "    ''''\n",
    "    return neighbors"
   ]
  },
  {
   "cell_type": "code",
   "execution_count": 10,
   "metadata": {},
   "outputs": [],
   "source": [
    "import operator\n",
    "\n",
    "def getResponse(neighbors):\n",
    "    '''\n",
    "\n",
    "    '''\n",
    "    return vote"
   ]
  },
  {
   "cell_type": "code",
   "execution_count": 11,
   "metadata": {},
   "outputs": [],
   "source": [
    "def getAccuracy(testSet, predictions):\n",
    "    '''\n",
    "\n",
    "    '''\n",
    "    return accuracy_score"
   ]
  },
  {
   "cell_type": "code",
   "execution_count": 12,
   "metadata": {},
   "outputs": [],
   "source": [
    "k = 3\n",
    "p = 2 # Euclidean distance"
   ]
  },
  {
   "cell_type": "code",
   "execution_count": 13,
   "metadata": {},
   "outputs": [
    {
     "name": "stdout",
     "output_type": "stream",
     "text": [
      "0 > predicted : 1.0, actual : 1.0\n",
      "1 > predicted : 1.0, actual : 1.0\n",
      "2 > predicted : 2.0, actual : 2.0\n",
      "3 > predicted : 0.0, actual : 0.0\n",
      "4 > predicted : 1.0, actual : 1.0\n",
      "5 > predicted : 2.0, actual : 2.0\n",
      "6 > predicted : 0.0, actual : 0.0\n",
      "7 > predicted : 1.0, actual : 2.0\n",
      "8 > predicted : 0.0, actual : 0.0\n",
      "9 > predicted : 1.0, actual : 1.0\n",
      "10 > predicted : 2.0, actual : 2.0\n",
      "11 > predicted : 0.0, actual : 0.0\n",
      "12 > predicted : 0.0, actual : 0.0\n",
      "13 > predicted : 2.0, actual : 2.0\n",
      "14 > predicted : 1.0, actual : 1.0\n",
      "15 > predicted : 1.0, actual : 1.0\n",
      "16 > predicted : 0.0, actual : 0.0\n",
      "17 > predicted : 1.0, actual : 1.0\n",
      "18 > predicted : 2.0, actual : 1.0\n",
      "19 > predicted : 2.0, actual : 2.0\n",
      "20 > predicted : 0.0, actual : 0.0\n",
      "21 > predicted : 2.0, actual : 2.0\n",
      "22 > predicted : 1.0, actual : 1.0\n",
      "23 > predicted : 1.0, actual : 1.0\n",
      "24 > predicted : 2.0, actual : 2.0\n",
      "25 > predicted : 0.0, actual : 0.0\n",
      "26 > predicted : 0.0, actual : 0.0\n",
      "27 > predicted : 2.0, actual : 2.0\n",
      "28 > predicted : 2.0, actual : 2.0\n",
      "29 > predicted : 1.0, actual : 1.0\n",
      "30 > predicted : 2.0, actual : 2.0\n",
      "31 > predicted : 1.0, actual : 1.0\n",
      "32 > predicted : 2.0, actual : 2.0\n",
      "33 > predicted : 0.0, actual : 0.0\n",
      "34 > predicted : 1.0, actual : 1.0\n",
      "35 > predicted : 2.0, actual : 2.0\n",
      "36 > predicted : 2.0, actual : 2.0\n",
      "37 > predicted : 1.0, actual : 1.0\n",
      "38 > predicted : 0.0, actual : 0.0\n",
      "39 > predicted : 1.0, actual : 1.0\n",
      "40 > predicted : 1.0, actual : 1.0\n",
      "41 > predicted : 1.0, actual : 1.0\n",
      "42 > predicted : 2.0, actual : 2.0\n",
      "43 > predicted : 2.0, actual : 2.0\n",
      "44 > predicted : 1.0, actual : 1.0\n"
     ]
    }
   ],
   "source": [
    "predictions=[]\n",
    "\n",
    "for i in range(len(testSet)):\n",
    "    neighbors = getNeighbors(p, trainSet, testSet[i], k)\n",
    "    result = getResponse(neighbors)\n",
    "    predictions.append(result)\n",
    "    print(str(i) + ' > predicted : ' + str(result) + ', actual : ' + str(testSet[i][-1]))"
   ]
  },
  {
   "cell_type": "code",
   "execution_count": 14,
   "metadata": {},
   "outputs": [
    {
     "name": "stdout",
     "output_type": "stream",
     "text": [
      "Accuracy: 95.55555555555556%\n"
     ]
    }
   ],
   "source": [
    "accuracy = getAccuracy(testSet, predictions)\n",
    "print('Accuracy: ' + str(accuracy) + '%')"
   ]
  }
 ],
 "metadata": {
  "kernelspec": {
   "display_name": "Python 3",
   "language": "python",
   "name": "python3"
  },
  "language_info": {
   "codemirror_mode": {
    "name": "ipython",
    "version": 3
   },
   "file_extension": ".py",
   "mimetype": "text/x-python",
   "name": "python",
   "nbconvert_exporter": "python",
   "pygments_lexer": "ipython3",
   "version": "3.7.3"
  }
 },
 "nbformat": 4,
 "nbformat_minor": 2
}
